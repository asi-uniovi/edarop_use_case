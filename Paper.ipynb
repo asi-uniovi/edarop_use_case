{
 "cells": [
  {
   "cell_type": "markdown",
   "id": "8a010024",
   "metadata": {},
   "source": [
    "# Introduction\n",
    "\n",
    "This notebook obtains tables and figures for the paper about edarop."
   ]
  },
  {
   "cell_type": "code",
   "execution_count": 19,
   "id": "7e269619",
   "metadata": {
    "ExecuteTime": {
     "end_time": "2023-03-26T12:32:47.362398Z",
     "start_time": "2023-03-26T12:32:47.360090Z"
    }
   },
   "outputs": [],
   "source": [
    "EDAROP_SOLS = \"sols_edarop.p\"\n",
    "MALLOOVIA_SOL = \"sols_malloovia.p\""
   ]
  },
  {
   "cell_type": "markdown",
   "id": "07f72dfa",
   "metadata": {},
   "source": [
    "# Case study inputs\n",
    "\n",
    "## Reading"
   ]
  },
  {
   "cell_type": "code",
   "execution_count": 20,
   "id": "be742b24",
   "metadata": {
    "ExecuteTime": {
     "end_time": "2023-03-26T12:32:48.523002Z",
     "start_time": "2023-03-26T12:32:48.519118Z"
    }
   },
   "outputs": [],
   "source": [
    "from pathlib import Path\n",
    "\n",
    "import pickle\n",
    "from typing import Tuple, List, Dict\n",
    "\n",
    "import rich\n",
    "import numpy as np\n",
    "import pandas as pd\n",
    "import matplotlib\n",
    "from matplotlib import pyplot as plt\n",
    "import matplotlib.cm as cm\n",
    "import seaborn as sns\n",
    "sns.set_style(\"whitegrid\")\n",
    "\n",
    "import matplotlib as mpl\n",
    "mpl.rcParams['text.usetex'] = True\n",
    "mpl.rcParams['text.latex.preamble'] = r'\\usepackage{amsmath}' #for \\text command\n",
    "\n",
    "from edarop.edarop import Problem, Solution, SolvingStats, Status, Region\n",
    "from edarop.visualization import ProblemPrettyPrinter\n",
    "from edarop.analysis import SolutionAnalyzer\n",
    "\n",
    "import use_case_edarop"
   ]
  },
  {
   "cell_type": "code",
   "execution_count": 21,
   "id": "118828f1",
   "metadata": {
    "ExecuteTime": {
     "end_time": "2023-03-26T12:32:49.209863Z",
     "start_time": "2023-03-26T12:32:49.199541Z"
    }
   },
   "outputs": [],
   "source": [
    "system, workloads = use_case_edarop.set_up(None)"
   ]
  },
  {
   "cell_type": "code",
   "execution_count": 22,
   "id": "3eeeb267",
   "metadata": {
    "ExecuteTime": {
     "end_time": "2023-03-26T12:32:49.731466Z",
     "start_time": "2023-03-26T12:32:49.727958Z"
    }
   },
   "outputs": [],
   "source": [
    "problem = Problem(system=system, workloads=workloads, max_cost=200)"
   ]
  },
  {
   "cell_type": "code",
   "execution_count": 23,
   "id": "3bb48703",
   "metadata": {
    "ExecuteTime": {
     "end_time": "2023-03-26T12:32:50.340054Z",
     "start_time": "2023-03-26T12:32:50.336030Z"
    }
   },
   "outputs": [],
   "source": [
    "pretty_problem = ProblemPrettyPrinter(problem) \n",
    "table_ics = pretty_problem.table_ics()\n",
    "table_latencies = pretty_problem.table_latencies()\n",
    "table_apps = pretty_problem.table_apps()"
   ]
  },
  {
   "cell_type": "markdown",
   "id": "ee89533e",
   "metadata": {},
   "source": [
    "## Tables in Latex"
   ]
  },
  {
   "cell_type": "code",
   "execution_count": 24,
   "id": "551281f9",
   "metadata": {
    "ExecuteTime": {
     "end_time": "2023-03-26T12:32:51.178666Z",
     "start_time": "2023-03-26T12:32:51.174855Z"
    }
   },
   "outputs": [],
   "source": [
    "def table_rich2latex(rich_table):\n",
    "    header = \" & \".join([c.header for c in rich_table.columns])\n",
    "    latex_table =  [header + \" \\\\\\\\\"]\n",
    "\n",
    "    for i in range(rich_table.row_count):\n",
    "        latex_row = \" & \".join([c._cells[i] for c in rich_table.columns])\n",
    "        latex_table.append(latex_row + \" \\\\\\\\\")\n",
    "        \n",
    "    return latex_table\n",
    "\n",
    "def print_latex_table(latex_table):\n",
    "    for row in latex_table:\n",
    "        print(row)"
   ]
  },
  {
   "cell_type": "code",
   "execution_count": 25,
   "id": "5e7137f8",
   "metadata": {
    "ExecuteTime": {
     "end_time": "2023-03-26T12:32:51.965871Z",
     "start_time": "2023-03-26T12:32:51.960105Z"
    }
   },
   "outputs": [
    {
     "name": "stdout",
     "output_type": "stream",
     "text": [
      "\\toprule\n",
      "AWS region & Short name & Type & Instance class & Price \\\\\n",
      "\\midrule\n",
      "eu-central-1 & $\\text{EU}_\\text{c}$ & Cloud &  c5.2xlarge &  0.388 \\\\\n",
      " &  &  &  c5.4xlarge &  0.776 \\\\\n",
      "\\midrule\n",
      "eu-central-1-ham-1a & $\\text{EU}_\\text{e}$ & Edge &  c5.2xlarge &  0.524 \\\\\n",
      "\\midrule\n",
      "us-east-1 & $\\text{US-E}_\\text{c}$ & Cloud &  c5.2xlarge &  0.34 \\\\\n",
      " &  &  &  c5.4xlarge &  0.68 \\\\\n",
      "\\midrule\n",
      "us-east-1-atl-1a & $\\text{US-E}_\\text{e}$ & Edge &  c5d.2xlarge &  0.48 \\\\\n",
      "\\midrule\n",
      "us-west-2 & $\\text{US-W}_\\text{c}$ & Cloud &  c5.2xlarge &  0.34 \\\\\n",
      " &  &  &  c5.4xlarge &  0.68 \\\\\n",
      "\\midrule\n",
      "us-west-2-lax-1a & $\\text{US-W}_\\text{e}$ & Edge &  c5.2xlarge &  0.408 \\\\\n",
      " &  &  &  c5.4xlarge &  0.816 \\\\\n",
      "\\midrule\n",
      "ap-south-1 & $\\text{AP}_\\text{c}$ & Cloud &  c5.2xlarge &  0.34 \\\\\n",
      " &  &  &  c5.4xlarge &  0.68 \\\\\n",
      "\\midrule\n",
      "ap-south-1-del-1a & $\\text{AP}_\\text{e}$ & Edge &  c5.2xlarge &  0.459 \\\\\n",
      "\\bottomrule\n"
     ]
    }
   ],
   "source": [
    "table_latex_ics = table_rich2latex(table_ics)\n",
    "\n",
    "region_2_shortcut = {\n",
    "    'eu-central-1': r'$\\text{EU}_\\text{c}$',\n",
    "    'eu-central-1-ham-1a': r'$\\text{EU}_\\text{e}$',\n",
    "    'eu-central-1-ham-1a-u': r'$\\text{EU}_\\text{u}$',\n",
    "    'us-east-1': r'$\\text{US-E}_\\text{c}$',\n",
    "    'us-east-1-atl-1a': r'$\\text{US-E}_\\text{e}$',\n",
    "    'us-east-1-atl-1a-u': r'$\\text{US-E}_\\text{u}$',\n",
    "    'us-west-2': r'$\\text{US-W}_\\text{c}$',\n",
    "    'us-west-2-lax-1a': r'$\\text{US-W}_\\text{e}$',\n",
    "    'us-west-2-lax-1a-u': r'$\\text{US-W}_\\text{u}$',\n",
    "    'ap-south-1': r'$\\text{AP}_\\text{c}$',\n",
    "    'ap-south-1-del-1a': r'$\\text{AP}_\\text{e}$',\n",
    "    'ap-south-1-del-1a-u': r'$\\text{AP}_\\text{u}$',\n",
    "}\n",
    "\n",
    "# Extra information for the paper\n",
    "table_latex_ics[0] = \"\\\\toprule\\n\" + r\"AWS region & Short name & Type & Instance class & Price \\\\\"\n",
    "for i, row in enumerate(table_latex_ics):\n",
    "    if i == 0:\n",
    "        continue  # Skip the header because it was fixed before\n",
    "        \n",
    "    fields = row.split(\"&\")\n",
    "    aws_name = fields[0].strip()\n",
    "    if aws_name != \"\":\n",
    "        short_name = region_2_shortcut[aws_name]\n",
    "        if aws_name.endswith(\"-1a\"):\n",
    "            region_type = \"Edge\"\n",
    "        else:\n",
    "            region_type = \"Cloud\"\n",
    "            \n",
    "        aws_name = \"\\\\midrule\\n\" + aws_name\n",
    "    else:\n",
    "        short_name = \"\"  # Don't repeat the short names\n",
    "        region_type = \"\"  # Don't repeat the region type\n",
    "\n",
    "    price = fields[2].replace(\" per 1 h\", \"\")\n",
    "    ic_name = fields[1].split(\"-\")[0]\n",
    "    table_latex_ics[i] = aws_name + \" & \" + short_name + \" & \" + region_type + \" & \" + ic_name + \" & \" + price\n",
    "\n",
    "table_latex_ics.append(\"\\\\bottomrule\")\n",
    "print_latex_table(table_latex_ics)"
   ]
  },
  {
   "cell_type": "code",
   "execution_count": 26,
   "id": "76aa99d0",
   "metadata": {
    "ExecuteTime": {
     "end_time": "2023-03-26T12:32:52.988300Z",
     "start_time": "2023-03-26T12:32:52.983843Z"
    }
   },
   "outputs": [],
   "source": [
    "def table_rich2df(rich_table):\n",
    "    data = {}\n",
    "    for c in rich_table.columns:\n",
    "        data[c.header] = c.cells\n",
    "\n",
    "    df = pd.DataFrame.from_dict(data)\n",
    "    first_col = df.columns[0]\n",
    "    df.set_index(first_col, inplace=True, drop=True)\n",
    "    return df\n",
    "\n",
    "df_latencies = table_rich2df(table_latencies)"
   ]
  },
  {
   "cell_type": "code",
   "execution_count": 27,
   "id": "88ede786",
   "metadata": {
    "ExecuteTime": {
     "end_time": "2023-03-26T12:32:53.320496Z",
     "start_time": "2023-03-26T12:32:53.315802Z"
    }
   },
   "outputs": [],
   "source": [
    "df_latencies.rename(columns=region_2_shortcut, index=region_2_shortcut, inplace=True)\n",
    "reg_dst_order = [r\"$\\text{EU}_\\text{e}$\", r\"$\\text{US-E}_\\text{e}$\", r\"$\\text{US-W}_\\text{e}$\", r\"$\\text{AP}_\\text{e}$\",\n",
    "                 r\"$\\text{EU}_\\text{c}$\", r\"$\\text{US-E}_\\text{c}$\", r\"$\\text{US-W}_\\text{c}$\", r\"$\\text{AP}_\\text{c}$\"]\n",
    "reg_src_order = [r\"$\\text{EU}_\\text{u}$\", r\"$\\text{US-E}_\\text{u}$\", r\"$\\text{US-W}_\\text{u}$\", r\"$\\text{AP}_\\text{u}$\"]\n",
    "df_latencies = df_latencies[reg_dst_order].reindex(reg_src_order[:4])"
   ]
  },
  {
   "cell_type": "code",
   "execution_count": 28,
   "id": "2f01c71b",
   "metadata": {
    "ExecuteTime": {
     "end_time": "2023-03-26T12:32:53.740353Z",
     "start_time": "2023-03-26T12:32:53.735764Z"
    },
    "scrolled": true
   },
   "outputs": [
    {
     "name": "stdout",
     "output_type": "stream",
     "text": [
      "\\begin{tabular}{lllllllll}\n",
      "\\toprule\n",
      " & $\\text{EU}_\\text{e}$ & $\\text{US-E}_\\text{e}$ & $\\text{US-W}_\\text{e}$ & $\\text{AP}_\\text{e}$ & $\\text{EU}_\\text{c}$ & $\\text{US-E}_\\text{c}$ & $\\text{US-W}_\\text{c}$ & $\\text{AP}_\\text{c}$ \\\\\n",
      "src / dst &  &  &  &  &  &  &  &  \\\\\n",
      "\\midrule\n",
      "$\\text{EU}_\\text{u}$ & 8.72 & - & - & - & 16.20 & 106.90 & 214.30 & 125.80 \\\\\n",
      "$\\text{US-E}_\\text{u}$ & - & 1.10 & - & - & 105.80 & 15.10 & 66.20 & 203.30 \\\\\n",
      "$\\text{US-W}_\\text{u}$ & - & - & 0.90 & - & 147.90 & 59.90 & 23.60 & 247.20 \\\\\n",
      "$\\text{AP}_\\text{u}$ & - & - & - & 8.50 & 179.40 & 234.60 & 294.90 & 27.10 \\\\\n",
      "\\bottomrule\n",
      "\\end{tabular}\n",
      "\n"
     ]
    }
   ],
   "source": [
    "print(df_latencies.style.to_latex(hrules=True))"
   ]
  },
  {
   "cell_type": "code",
   "execution_count": 29,
   "id": "fcf008d7",
   "metadata": {
    "ExecuteTime": {
     "end_time": "2023-03-26T12:32:54.327457Z",
     "start_time": "2023-03-26T12:32:54.319795Z"
    }
   },
   "outputs": [
    {
     "name": "stdout",
     "output_type": "stream",
     "text": [
      "\\begin{tabular}{lll}\n",
      "\\toprule\n",
      " & Max. resp. time. & Workload (12 time slots of 1 h) \\\\\n",
      "Name &  &  \\\\\n",
      "\\midrule\n",
      "a0 & 0.2 & total: 773,036,071 \\\\\n",
      " &  &   \\hspace{0.4cm}$\\text{EU}_\\text{u}$: 130,123,249 \\\\\n",
      " &  &   \\hspace{0.4cm}$\\text{US-E}_\\text{u}$: 233,543,665 \\\\\n",
      " &  &   \\hspace{0.4cm}$\\text{US-W}_\\text{u}$: 185,256,362 \\\\\n",
      " &  &   \\hspace{0.4cm}$\\text{AP}_\\text{u}$: 224,112,795 \\\\\n",
      "a1 & 0.325 & total: 577,659,276 \\\\\n",
      " &  &   \\hspace{0.4cm}$\\text{EU}_\\text{u}$: 148,319,581 \\\\\n",
      " &  &   \\hspace{0.4cm}$\\text{US-E}_\\text{u}$: 158,355,336 \\\\\n",
      " &  &   \\hspace{0.4cm}$\\text{US-W}_\\text{u}$: 116,082,585 \\\\\n",
      " &  &   \\hspace{0.4cm}$\\text{AP}_\\text{u}$: 154,901,774 \\\\\n",
      "a2 & 0.05 & total: 339,913,812 \\\\\n",
      " &  &   \\hspace{0.4cm}$\\text{EU}_\\text{u}$: 118,585,235 \\\\\n",
      " &  &   \\hspace{0.4cm}$\\text{US-E}_\\text{u}$: 72,850,756 \\\\\n",
      " &  &   \\hspace{0.4cm}$\\text{US-W}_\\text{u}$: 71,255,405 \\\\\n",
      " &  &   \\hspace{0.4cm}$\\text{AP}_\\text{u}$: 77,222,416 \\\\\n",
      "\\bottomrule\n",
      "\\end{tabular}\n",
      "\n"
     ]
    }
   ],
   "source": [
    "df_apps = table_rich2df(table_apps)\n",
    "latex_apps = df_apps.style.to_latex(hrules=True)\n",
    "\n",
    "# Clean-up for the paper\n",
    "\n",
    "# Thousands separator\n",
    "latex_apps = latex_apps.replace(\"_\", \",\")\n",
    "\n",
    "# Shortcuts for regions\n",
    "for r in region_2_shortcut:\n",
    "    if \"-u\" in r:  # Only user regions have \"-u\" in the name\n",
    "        latex_apps = latex_apps.replace(r, region_2_shortcut[r])\n",
    "        \n",
    "# Remove the \" x 1 s\" in response time\n",
    "latex_apps = latex_apps.replace(\" x 1 s\", \"\")\n",
    "\n",
    "# Add a little horizontal space to make the workload for each zone inside the total\n",
    "latex_apps = latex_apps.replace(\"&  &   \", r\"&  &   \\hspace{0.4cm}\")\n",
    "\n",
    "print(latex_apps)"
   ]
  },
  {
   "cell_type": "code",
   "execution_count": 30,
   "id": "5f2fca95",
   "metadata": {
    "ExecuteTime": {
     "end_time": "2023-03-26T12:32:54.592620Z",
     "start_time": "2023-03-26T12:32:54.584522Z"
    }
   },
   "outputs": [
    {
     "name": "stdout",
     "output_type": "stream",
     "text": [
      "\\begin{tabular}{llrr}\n",
      "\\toprule\n",
      " &  & Requests per second & SLO (s) \\\\\n",
      "\\midrule\n",
      "a0 & c5.2xlarge & 461.125 & 0.025 \\\\\n",
      " & c5.4xlarge & 919.905 & 0.025 \\\\\n",
      " & c5d.2xlarge & 449.114 & 0.025 \\\\\n",
      "a1 & c5.2xlarge & 76.796 & 0.0125 \\\\\n",
      " & c5.4xlarge & 153.005 & 0.0125 \\\\\n",
      " & c5d.2xlarge & 80.296 & 0.0125 \\\\\n",
      "a2 & c5.2xlarge & 263.760 & 0.040 \\\\\n",
      " & c5.4xlarge & 556.680 & 0.040 \\\\\n",
      " & c5d.2xlarge & 275.090 & 0.040 \\\\\n",
      "\\bottomrule\n",
      "\\end{tabular}\n",
      "\n"
     ]
    }
   ],
   "source": [
    "perf_summ = {}\n",
    "for perf_key, perf_value in problem.system.perfs.items():\n",
    "    app = perf_key[0].name\n",
    "    ic = perf_key[1].name\n",
    "    vm_type = ic.split(\"-\")[0]\n",
    "    perf_summ[(app, vm_type)] = [perf_value.value.value, perf_value.slo.value]\n",
    "    \n",
    "df_perf = pd.DataFrame(perf_summ).T\n",
    "df_perf.rename(columns={0: \"Requests per second\", 1: \"SLO (s)\"}, inplace=True)\n",
    "latex_perf = df_perf.style.to_latex(multirow_align=\"naive\", hrules=True)\n",
    "latex_perf = latex_perf.replace(\"000\", \"\")  # Pandas inserts extra zeros\n",
    "latex_perf = latex_perf.replace(\"00 \", \" \")  # Pandas inserts extra zeros\n",
    "print(latex_perf)"
   ]
  },
  {
   "cell_type": "markdown",
   "id": "179ec19f",
   "metadata": {},
   "source": [
    "## Figures"
   ]
  },
  {
   "cell_type": "code",
   "execution_count": 31,
   "id": "f0f3a8ad",
   "metadata": {
    "ExecuteTime": {
     "end_time": "2023-03-26T12:32:55.429967Z",
     "start_time": "2023-03-26T12:32:55.424804Z"
    }
   },
   "outputs": [],
   "source": [
    "FIG_DIR = Path(\".\")\n",
    "TRACE_FILE = \"edge_1h.csv\"\n",
    "wdf = pd.read_csv(TRACE_FILE)\n"
   ]
  },
  {
   "cell_type": "code",
   "execution_count": 32,
   "id": "9ec53c38",
   "metadata": {
    "ExecuteTime": {
     "end_time": "2023-03-26T12:32:55.841626Z",
     "start_time": "2023-03-26T12:32:55.835040Z"
    },
    "scrolled": false
   },
   "outputs": [],
   "source": [
    "region_index_2_shortcut = {\n",
    "    0: region_2_shortcut[\"eu-central-1-ham-1a-u\"],\n",
    "    1: region_2_shortcut[\"us-east-1-atl-1a-u\"],\n",
    "    2: region_2_shortcut[\"us-west-2-lax-1a-u\"],\n",
    "    3: region_2_shortcut[\"ap-south-1-del-1a-u\"],\n",
    "}\n",
    "wdf.reg = wdf.reg.map(region_index_2_shortcut)\n",
    "wdf.rename(columns={\"reg\": \"Region\"}, inplace=True)\n",
    "wdf.app = pd.Categorical(wdf.app).codes\n",
    "wdf.timestamp = pd.to_datetime(wdf.timestamp)\n",
    "wdf[\"hour\"] = wdf.timestamp.map(pd.Timestamp.timestamp) / 3600"
   ]
  },
  {
   "cell_type": "code",
   "execution_count": 33,
   "id": "473b0730",
   "metadata": {
    "ExecuteTime": {
     "end_time": "2023-03-26T12:32:57.986414Z",
     "start_time": "2023-03-26T12:32:56.336094Z"
    }
   },
   "outputs": [
    {
     "data": {
      "image/png": "[encoded data removed]",
      "text/plain": [
       "<Figure size 681.919x500 with 4 Axes>"
      ]
     },
     "metadata": {},
     "output_type": "display_data"
    }
   ],
   "source": [
    "# Use the tab10 pallete but not from the first color to differenciate\n",
    "# it from the colors of the tab20 pallete used for variants later\n",
    "trace_palette = [plt.cm.tab10(i+3) for i in range(3)]\n",
    "g = sns.relplot(data=wdf, x=\"hour\", y=\"reqs\",\n",
    "           hue=\"app\", style=\"app\", col=\"Region\", col_wrap=2,\n",
    "           kind=\"line\", markers=True, palette=trace_palette,\n",
    "           height=2.5, aspect=1.25)\n",
    "_ = g.set_axis_labels('Time stamp (h)', r'\\# of requests')"
   ]
  },
  {
   "cell_type": "code",
   "execution_count": 34,
   "id": "b0fcbd01",
   "metadata": {
    "ExecuteTime": {
     "end_time": "2023-03-26T12:33:00.754695Z",
     "start_time": "2023-03-26T12:32:59.648787Z"
    }
   },
   "outputs": [],
   "source": [
    "g.fig.savefig(FIG_DIR/'traces.png', bbox_inches='tight', dpi=600)"
   ]
  },
  {
   "cell_type": "markdown",
   "id": "e8eeb8e2",
   "metadata": {},
   "source": [
    "# Results"
   ]
  },
  {
   "cell_type": "code",
   "execution_count": 35,
   "id": "5ce21138",
   "metadata": {
    "ExecuteTime": {
     "end_time": "2023-03-26T12:33:01.343863Z",
     "start_time": "2023-03-26T12:33:01.270898Z"
    }
   },
   "outputs": [],
   "source": [
    "all_sols = pickle.load(open(EDAROP_SOLS, \"rb\"))"
   ]
  },
  {
   "cell_type": "markdown",
   "id": "a5d9d6f3",
   "metadata": {},
   "source": [
    "## Cost and response time"
   ]
  },
  {
   "cell_type": "code",
   "execution_count": 36,
   "id": "76a7b0ce",
   "metadata": {
    "ExecuteTime": {
     "end_time": "2023-03-26T12:33:02.315646Z",
     "start_time": "2023-03-26T12:33:02.311339Z"
    }
   },
   "outputs": [],
   "source": [
    "def get_summary(sol: Solution):\n",
    "    \"\"\"Receives an edarop Solution and returns a dictionary with the cost,\n",
    "    the average response time, the deadline miss rate and the stats.\"\"\"\n",
    "    analyzer = SolutionAnalyzer(sol)\n",
    "    \n",
    "    if sol.solving_stats.status in [Status.OPTIMAL, Status.INTEGER_FEASIBLE]:\n",
    "        return {\n",
    "            \"cost\": analyzer.cost(),\n",
    "            \"avg_resp_time\": analyzer.avg_resp_time().value,\n",
    "            \"deadline_miss_rate\": analyzer.deadline_miss_rate(),\n",
    "            \"total_reqs_per_app\": analyzer.total_reqs_per_app(),\n",
    "            \"total_missed_reqs_per_app\": analyzer.total_missed_reqs_per_app(),\n",
    "            \"stats\": sol.solving_stats,\n",
    "        }\n",
    "    else:\n",
    "        return {\n",
    "            \"cost\": np.nan,\n",
    "            \"avg_resp_time\": np.nan,\n",
    "            \"deadline_miss_rate\": np.nan,\n",
    "            \"deadline_miss_rate\": np.nan,\n",
    "            \"total_reqs_per_app\": np.nan,\n",
    "            \"stats\": sol.solving_stats\n",
    "        }"
   ]
  },
  {
   "cell_type": "code",
   "execution_count": 37,
   "id": "5be2027c",
   "metadata": {
    "ExecuteTime": {
     "end_time": "2023-03-26T12:33:02.918316Z",
     "start_time": "2023-03-26T12:33:02.912998Z"
    }
   },
   "outputs": [],
   "source": [
    "def get_formatted_status(variant: str, summary) -> str:\n",
    "    \"\"\"Receives the name of a variant a summary of its execution in\n",
    "    the form of a dict. Returns a string representing the status. It\n",
    "    will be 'Optimal' if the status is optimal, or 'Feasible' with\n",
    "    the bound and the gap.\"\"\"\n",
    "    stats = summary[\"stats\"]\n",
    "    if stats.status == Status.OPTIMAL:\n",
    "        status = \"Optimal\"\n",
    "    elif stats.status == Status.INTEGER_FEASIBLE:\n",
    "        bound = summary['stats'].lower_bound\n",
    "        if variant in [\"EdaropC\", \"EdaropRC\"]:\n",
    "            base_sol = summary[\"cost\"]\n",
    "        elif variant in [\"EdaropR\", \"EdaropCR\"]:\n",
    "            base_sol = summary[\"avg_resp_time\"]\n",
    "        else:\n",
    "            raise ValueError()\n",
    "                       \n",
    "        gap = 100 * ((base_sol - bound) / bound)\n",
    "        status = f\"Feasible<br/>(bound: {bound}. gap: {gap:.2f}%)\"\n",
    "    else:\n",
    "        status = str(stats.status.name)\n",
    "    return status"
   ]
  },
  {
   "cell_type": "code",
   "execution_count": 38,
   "id": "6bcf6370",
   "metadata": {
    "ExecuteTime": {
     "end_time": "2023-03-26T12:33:03.407641Z",
     "start_time": "2023-03-26T12:33:03.295769Z"
    },
    "scrolled": false
   },
   "outputs": [],
   "source": [
    "variants = [\"EdaropC\", \"EdaropCR\", \"EdaropR\", \"EdaropRC\", \"Greedy\"]\n",
    "costs = { i: [] for i in variants}\n",
    "avg_resp_times = { i: [] for i in variants}\n",
    "deadline_miss_rates = { i: [] for i in variants}\n",
    "total_reqs_per_app = { i: [] for i in variants}\n",
    "total_missed_reqs_per_app = { i: [] for i in variants}\n",
    "statuses = { i: [] for i in variants}\n",
    "\n",
    "for sols_ts in all_sols:\n",
    "    for i, variant in enumerate(costs.keys()):\n",
    "        summary = get_summary(sols_ts[i])\n",
    "        costs[variant].append(summary[\"cost\"])\n",
    "        avg_resp_times[variant].append(summary[\"avg_resp_time\"])\n",
    "        deadline_miss_rates[variant].append(summary[\"deadline_miss_rate\"])\n",
    "        total_reqs_per_app[variant].append(summary[\"total_reqs_per_app\"])\n",
    "        total_missed_reqs_per_app[variant].append(summary[\"total_missed_reqs_per_app\"])\n",
    "        status = get_formatted_status(variant, summary)\n",
    "        statuses[variant].append(status)"
   ]
  },
  {
   "cell_type": "code",
   "execution_count": 39,
   "id": "e53c68d4",
   "metadata": {
    "ExecuteTime": {
     "end_time": "2023-03-26T12:33:03.813096Z",
     "start_time": "2023-03-26T12:33:03.807324Z"
    }
   },
   "outputs": [],
   "source": [
    "# Notice that this is the Malloovia solution transformed to Edarop\n",
    "malloovia_sols = pickle.load(open(MALLOOVIA_SOL, \"rb\"))"
   ]
  },
  {
   "cell_type": "code",
   "execution_count": 40,
   "id": "ea63a0a5",
   "metadata": {
    "ExecuteTime": {
     "end_time": "2023-03-26T12:33:04.217188Z",
     "start_time": "2023-03-26T12:33:04.207115Z"
    }
   },
   "outputs": [],
   "source": [
    "variant = \"Malloovia\"\n",
    "variants.append(variant)\n",
    "costs[variant] = []\n",
    "avg_resp_times[variant] = []\n",
    "deadline_miss_rates[variant] = []\n",
    "total_reqs_per_app[variant] = []\n",
    "total_missed_reqs_per_app[variant] = []\n",
    "statuses[variant] = []\n",
    "\n",
    "for ts, sol in enumerate(malloovia_sols):\n",
    "    sol = sol[0]  # For each time slot, there's an array with only the malloovia solution\n",
    "    summary = get_summary(sol)\n",
    "    costs[variant].append(summary[\"cost\"])\n",
    "    avg_resp_times[variant].append(summary[\"avg_resp_time\"])\n",
    "    deadline_miss_rates[variant].append(summary[\"deadline_miss_rate\"])\n",
    "    total_reqs_per_app[variant].append(summary[\"total_reqs_per_app\"])\n",
    "    total_missed_reqs_per_app[variant].append(summary[\"total_missed_reqs_per_app\"])\n",
    "    status = get_formatted_status(variant, summary)\n",
    "    statuses[variant].append(status)\n",
    "    \n",
    "    # Add the malloovia solution to all sols\n",
    "    all_sols[ts].append(sol)"
   ]
  },
  {
   "cell_type": "code",
   "execution_count": 41,
   "id": "d4460fa0",
   "metadata": {
    "ExecuteTime": {
     "end_time": "2023-03-26T12:33:05.895536Z",
     "start_time": "2023-03-26T12:33:04.735184Z"
    }
   },
   "outputs": [
    {
     "data": {
      "image/png": "[encoded data removed]",
      "text/plain": [
       "<Figure size 700x300 with 1 Axes>"
      ]
     },
     "metadata": {},
     "output_type": "display_data"
    }
   ],
   "source": [
    "costs_df = pd.DataFrame(costs)\n",
    "l_costs_df = costs_df.stack().reset_index().rename(columns={\"level_0\": \"Time slot (h)\", \"level_1\": \"Approach\", 0: r\"Cost (\\$)\"})\n",
    "\n",
    "plt.figure(figsize=(7,3))\n",
    "g = sns.barplot(data=l_costs_df, x=\"Time slot (h)\", y=r\"Cost (\\$)\",\n",
    "           hue=\"Approach\",\n",
    "           palette=\"tab20\")\n",
    "sns.move_legend(g, \"upper left\", bbox_to_anchor=(1, 1))\n",
    "plt.savefig(FIG_DIR/'costs_ts.png', bbox_inches='tight', dpi=600)"
   ]
  },
  {
   "cell_type": "code",
   "execution_count": 42,
   "id": "e466d4ea",
   "metadata": {
    "ExecuteTime": {
     "end_time": "2023-03-26T12:33:07.195248Z",
     "start_time": "2023-03-26T12:33:06.012867Z"
    }
   },
   "outputs": [
    {
     "data": {
      "image/png": "[encoded data removed]",
      "text/plain": [
       "<Figure size 700x300 with 1 Axes>"
      ]
     },
     "metadata": {},
     "output_type": "display_data"
    }
   ],
   "source": [
    "avg_resp_times_df = pd.DataFrame(avg_resp_times)\n",
    "l_times_df = avg_resp_times_df.stack().reset_index().rename(columns={\n",
    "    \"level_0\": \"Time slot (h)\", \"level_1\": \"Approach\", 0: \"Avg. resp. time (s)\"})\n",
    "\n",
    "plt.figure(figsize=(7,3))\n",
    "g = sns.barplot(data=l_times_df, x=\"Time slot (h)\", y=\"Avg. resp. time (s)\",\n",
    "           hue=\"Approach\",\n",
    "           palette=\"tab20\")\n",
    "sns.move_legend(g, \"upper left\", bbox_to_anchor=(1, 1))\n",
    "plt.savefig(FIG_DIR / 'tresp_ts.png', bbox_inches='tight', dpi=600)"
   ]
  },
  {
   "cell_type": "markdown",
   "id": "abd145da",
   "metadata": {
    "ExecuteTime": {
     "end_time": "2023-01-30T17:54:51.950554Z",
     "start_time": "2023-01-30T17:54:51.944050Z"
    }
   },
   "source": [
    "## Cost vs response time"
   ]
  },
  {
   "cell_type": "code",
   "execution_count": 43,
   "id": "63e04237",
   "metadata": {
    "ExecuteTime": {
     "end_time": "2023-03-26T12:33:07.331740Z",
     "start_time": "2023-03-26T12:33:07.325348Z"
    },
    "scrolled": false
   },
   "outputs": [],
   "source": [
    "deadline_data = {}\n",
    "for variant in total_reqs_per_app.keys():\n",
    "    deadline_data[variant] = {\"reqs\": [0, 0, 0], # Each element will be the deadline miss for an application\n",
    "                             \"missed\": [0, 0, 0]} \n",
    "    for ts_total_reqs, ts_missed_reqs in zip(total_reqs_per_app[variant], total_missed_reqs_per_app[variant]):\n",
    "        for app_index, app in enumerate(ts_total_reqs.keys()):\n",
    "            deadline_data[variant][\"reqs\"][app_index] += ts_total_reqs[app]\n",
    "            deadline_data[variant][\"missed\"][app_index] += ts_missed_reqs[app]\n",
    "\n",
    "agg_deadline_data = {}\n",
    "for variant in deadline_data.keys():\n",
    "    agg_deadline_data[variant] = []\n",
    "    for reqs, missed in zip(deadline_data[variant][\"reqs\"], deadline_data[variant][\"missed\"]):\n",
    "        miss_rate = 100 * missed / reqs\n",
    "        agg_deadline_data[variant].append(miss_rate)\n",
    "        \n",
    "agg_deadline_data_df = pd.DataFrame(agg_deadline_data)\n",
    "agg_deadline_data_df = agg_deadline_data_df.T.rename(columns={i:f\"$a_{i}$\" for i in range(3)})"
   ]
  },
  {
   "cell_type": "code",
   "execution_count": 44,
   "id": "fafb440e",
   "metadata": {
    "ExecuteTime": {
     "end_time": "2023-03-26T12:33:07.463454Z",
     "start_time": "2023-03-26T12:33:07.453926Z"
    }
   },
   "outputs": [],
   "source": [
    "# This is for the plot\n",
    "df_cost_time = (pd.concat({r\"Cost (\\$)\": costs_df.sum(),\n",
    "                           \"Avg. resp. time (s)\": avg_resp_times_df.sum(),\n",
    "                          },\n",
    "                           axis=1)\n",
    "                .reset_index()\n",
    "                .rename(columns={\"index\": \"Approach\"})\n",
    "               )\n",
    "\n",
    "# This is for the table\n",
    "df_cost_time_miss = (pd.concat({r\"Cost ($)\": costs_df.sum(),\n",
    "                           \"Avg. resp. time (s)\": avg_resp_times_df.sum(),\n",
    "                           r\"Max. resp. time violation (\\%)\": agg_deadline_data_df,\n",
    "                          },\n",
    "                           axis=1)\n",
    "                .reset_index()\n",
    "                .rename(columns={\"index\": \"Approach\"})\n",
    "               )"
   ]
  },
  {
   "cell_type": "code",
   "execution_count": 45,
   "id": "a68d335c",
   "metadata": {
    "ExecuteTime": {
     "end_time": "2023-03-26T12:33:07.965455Z",
     "start_time": "2023-03-26T12:33:07.959261Z"
    }
   },
   "outputs": [
    {
     "name": "stdout",
     "output_type": "stream",
     "text": [
      "\\begin{tabular}{lrrrrr}\n",
      "\\toprule\n",
      "Approach & Cost (\\$) & Avg. resp. time (s) & \\multicolumn{3}{r}{Max. resp. time violation (\\%)} \\\\\n",
      " & &  & $a_0$ & $a_1$ & $a_2$ \\\\\n",
      "\\midrule\n",
      "EdaropC & 1050.500 & 1.155680 & 0.000 & 0.000 & 0.000 \\\\\n",
      "EdaropCR & 1050.500 & 0.676842 & 0.000 & 0.000 & 0.000 \\\\\n",
      "EdaropR & 1814.516 & 0.342884 & 0.000 & 0.000 & 0.000 \\\\\n",
      "EdaropRC & 1387.876 & 0.342884 & 0.000 & 0.000 & 0.000 \\\\\n",
      "Greedy & 1009.120 & 0.785741 & 0.000 & 0.000 & 100.000 \\\\\n",
      "Malloovia & 990.420 & 2.089114 & 54.176001 & 0.000 & 100.000 \\\\\n",
      "\\bottomrule\n",
      "\\end{tabular}\n",
      "\n"
     ]
    }
   ],
   "source": [
    "table_summary = df_cost_time_miss.style.hide(axis=\"index\").to_latex(hrules=True)\n",
    "table_summary = table_summary.replace(\"000 \", \" \")\\\n",
    "                             .replace(\"($)\", \"(\\$)\")\\\n",
    "                             .replace(\"(%)\", \"(\\%)\")\\\n",
    "                             .replace(\"& 0 & 1\", \"& & \")\n",
    "print(table_summary)"
   ]
  },
  {
   "cell_type": "code",
   "execution_count": 46,
   "id": "8a593fb9",
   "metadata": {
    "ExecuteTime": {
     "end_time": "2023-03-26T12:33:09.404990Z",
     "start_time": "2023-03-26T12:33:08.591055Z"
    },
    "scrolled": false
   },
   "outputs": [
    {
     "data": {
      "image/png": "[encoded data removed]",
      "text/plain": [
       "<Figure size 400x300 with 1 Axes>"
      ]
     },
     "metadata": {},
     "output_type": "display_data"
    }
   ],
   "source": [
    "plt.figure(figsize=(4,3))\n",
    "g = sns.scatterplot(data=df_cost_time, x=\"Avg. resp. time (s)\", y=r\"Cost (\\$)\",\n",
    "               hue=\"Approach\", style=\"Approach\",\n",
    "               s=80, palette=\"tab20\")\n",
    "g.set(ylim=(0, 2000))\n",
    "g.set(xlim=(0))\n",
    "sns.move_legend(g, \"upper left\", bbox_to_anchor=(1, 1))\n",
    "plt.savefig(FIG_DIR/'cost_vs_tresp.png', bbox_inches='tight', dpi=600)"
   ]
  },
  {
   "cell_type": "markdown",
   "id": "2628c470",
   "metadata": {},
   "source": [
    "## Schedule Edge vs Cloud"
   ]
  },
  {
   "cell_type": "code",
   "execution_count": 47,
   "id": "bbb1be2d",
   "metadata": {
    "ExecuteTime": {
     "end_time": "2023-03-26T12:33:09.725012Z",
     "start_time": "2023-03-26T12:33:09.702279Z"
    },
    "scrolled": false
   },
   "outputs": [],
   "source": [
    "def is_edge_region(reg: Region) -> bool:\n",
    "    \"\"\"Returns true if the region is on the edge, which in this case\n",
    "    is determined from the name: if it ends in '1-a', it's on the edge.\"\"\"\n",
    "    return reg.name.endswith(\"-1a\")\n",
    "\n",
    "def get_req_distribution(sol: Solution) -> List[Tuple[str, str, int]]:\n",
    "    \"\"\"Receives an edarop Solution and returns a list of values with this\n",
    "    format:\n",
    "\n",
    "        destination app requests\n",
    "        \n",
    "    Example:\n",
    "    \n",
    "        Edge app0 10\n",
    "        Cloud app0 20\n",
    "        Edge app1 7\n",
    "        Cloud app1 14\n",
    "    \"\"\"\n",
    "    alloc = sol.alloc\n",
    "\n",
    "    req_apps = {a: {\"Edge\": 0, \"Cloud\": 0} for a in sol.problem.system.apps}\n",
    "    \n",
    "    for alloc_ts in alloc.time_slot_allocs:\n",
    "        for key in alloc_ts.reqs:\n",
    "            app = key[0]\n",
    "            reg = key[1] \n",
    "            ic = key[2]\n",
    "            ic_region = ic.region\n",
    "            \n",
    "            reqs = alloc_ts.reqs[key]\n",
    "            \n",
    "            if is_edge_region(ic_region):\n",
    "                req_apps[app][\"Edge\"] += reqs\n",
    "            else:\n",
    "                req_apps[app][\"Cloud\"] += reqs\n",
    "                \n",
    "    res = []\n",
    "    for app in req_apps.keys():\n",
    "        for destination in [\"Edge\", \"Cloud\"]:\n",
    "            res.append((destination, app.name, req_apps[app][destination]))\n",
    "                \n",
    "    return res\n",
    "\n",
    "sched = []\n",
    "for ts, sols_ts in enumerate(all_sols):\n",
    "    sols = {}\n",
    "    for i, variant in enumerate(variants):\n",
    "        sol = sols_ts[i]\n",
    "        for distribution in get_req_distribution(sol):\n",
    "            sched.append((ts, variant, *distribution))\n",
    "\n",
    "df_sched = pd.DataFrame(sched, columns=[\"Time slot (h)\", \"Approach\", \"Destination\", \"App\", \"Requests\"])"
   ]
  },
  {
   "cell_type": "code",
   "execution_count": 48,
   "id": "0d9a42d3",
   "metadata": {
    "ExecuteTime": {
     "end_time": "2023-03-26T12:33:25.132649Z",
     "start_time": "2023-03-26T12:33:10.631922Z"
    }
   },
   "outputs": [
    {
     "data": {
      "image/png": "[encoded data removed]",
      "text/plain": [
       "<Figure size 1298.36x225 with 3 Axes>"
      ]
     },
     "metadata": {},
     "output_type": "display_data"
    },
    {
     "data": {
      "image/png": "[encoded data removed]",
      "text/plain": [
       "<Figure size 1298.36x225 with 3 Axes>"
      ]
     },
     "metadata": {},
     "output_type": "display_data"
    },
    {
     "data": {
      "image/png": "[encoded data removed]",
      "text/plain": [
       "<Figure size 1298.36x225 with 3 Axes>"
      ]
     },
     "metadata": {},
     "output_type": "display_data"
    },
    {
     "data": {
      "image/png": "[encoded data removed]",
      "text/plain": [
       "<Figure size 1298.36x225 with 3 Axes>"
      ]
     },
     "metadata": {},
     "output_type": "display_data"
    },
    {
     "data": {
      "image/png": "[encoded data removed]",
      "text/plain": [
       "<Figure size 1298.36x225 with 3 Axes>"
      ]
     },
     "metadata": {},
     "output_type": "display_data"
    },
    {
     "data": {
      "image/png": "[encoded data removed]",
      "text/plain": [
       "<Figure size 1298.36x225 with 3 Axes>"
      ]
     },
     "metadata": {},
     "output_type": "display_data"
    }
   ],
   "source": [
    "palette = [cm.Accent.colors[0], cm.Accent.colors[6]]\n",
    "for approach in variants:\n",
    "    # create a catplot of kind bar, but with the bars closer together\n",
    "    g = sns.catplot(data=df_sched[df_sched.Approach==approach], x=\"Time slot (h)\", y=\"Requests\",\n",
    "               hue=\"Destination\", col=\"App\", height=2.25, aspect=1.8,  kind=\"bar\",\n",
    "               palette=palette, errorbar=None, estimator=sum)\n",
    "    plt.savefig(FIG_DIR/f'sched_{approach}.png', bbox_inches='tight', dpi=600)\n"
   ]
  },
  {
   "cell_type": "markdown",
   "id": "7d893997",
   "metadata": {},
   "source": [
    "### Using areas instead of bars"
   ]
  },
  {
   "cell_type": "code",
   "execution_count": 49,
   "id": "93f3e471",
   "metadata": {
    "ExecuteTime": {
     "end_time": "2023-03-26T12:33:34.020712Z",
     "start_time": "2023-03-26T12:33:25.267725Z"
    }
   },
   "outputs": [
    {
     "data": {
      "image/png": "[encoded data removed]",
      "text/plain": [
       "<Figure size 472.5x225 with 3 Axes>"
      ]
     },
     "metadata": {},
     "output_type": "display_data"
    },
    {
     "data": {
      "image/png": "[encoded data removed]",
      "text/plain": [
       "<Figure size 472.5x225 with 3 Axes>"
      ]
     },
     "metadata": {},
     "output_type": "display_data"
    },
    {
     "data": {
      "image/png": "[encoded data removed]",
      "text/plain": [
       "<Figure size 472.5x225 with 3 Axes>"
      ]
     },
     "metadata": {},
     "output_type": "display_data"
    },
    {
     "data": {
      "image/png": "[encoded data removed]",
      "text/plain": [
       "<Figure size 472.5x225 with 3 Axes>"
      ]
     },
     "metadata": {},
     "output_type": "display_data"
    },
    {
     "data": {
      "image/png": "[encoded data removed]",
      "text/plain": [
       "<Figure size 472.5x225 with 3 Axes>"
      ]
     },
     "metadata": {},
     "output_type": "display_data"
    },
    {
     "data": {
      "image/png": "[encoded data removed]",
      "text/plain": [
       "<Figure size 472.5x225 with 3 Axes>"
      ]
     },
     "metadata": {},
     "output_type": "display_data"
    }
   ],
   "source": [
    "from matplotlib.patches import Patch\n",
    "\n",
    "palette = [cm.Accent.colors[0], cm.Accent.colors[6]]\n",
    "for i, approach in enumerate(variants):\n",
    "    # create a catplot of kind bar, but with the bars closer together\n",
    "    g = sns.FacetGrid(data=df_sched[df_sched.Approach==approach], \n",
    "                hue=\"Destination\", col=\"App\", height=2.25, aspect=0.7,\n",
    "                palette=palette)#  errorbar=None, estimator=sum)\n",
    "    def plot_area(*args, **kwargs):\n",
    "        data = kwargs.pop(\"data\")\n",
    "        line = sns.lineplot(x=\"Time slot (h)\", y=\"Requests\", data=data, estimator=\"sum\", **kwargs)\n",
    "        # area_color = line.get_lines()[0].get_color()\n",
    "        plt.fill_between(data[\"Time slot (h)\"].unique(), data.groupby(\"Time slot (h)\")[\"Requests\"].sum(), alpha=0.3, **kwargs)\n",
    "    g.map_dataframe(plot_area)\n",
    "\n",
    "    if i%2:\n",
    "        line_color0 = g.axes[0][0].lines[0].get_color()\n",
    "        line_color1 = g.axes[0][0].lines[1].get_color()\n",
    "        area_patch0 = Patch(facecolor=line_color0, alpha=0.3, label='Edge', edgecolor=line_color0)\n",
    "        area_patch1 = Patch(facecolor=line_color1, alpha=0.3, label='Cloud', edgecolor=line_color1)\n",
    "        plt.legend(handles=[area_patch0, area_patch1], bbox_to_anchor=(1.05, 0.5), \n",
    "                    loc='center left', title=\"Destination\", frameon=False)\n",
    "    plt.savefig(FIG_DIR/f'sched2_{approach}.png', bbox_inches='tight', dpi=600)"
   ]
  },
  {
   "cell_type": "markdown",
   "id": "4827301e",
   "metadata": {},
   "source": [
    "## Schedule - instances"
   ]
  },
  {
   "cell_type": "code",
   "execution_count": 50,
   "id": "42d31cb7",
   "metadata": {
    "ExecuteTime": {
     "end_time": "2023-03-26T12:33:34.162851Z",
     "start_time": "2023-03-26T12:33:34.153317Z"
    },
    "scrolled": false
   },
   "outputs": [],
   "source": [
    "def plot_alloc_dict(alloc_dict: Dict[str, int]): # key: ic name; value: num_vms\n",
    "    df_allocs = pd.DataFrame(allocs)\n",
    "    \n",
    "\n",
    "def update_alloc_as_dict(sol: Solution, alloc_dict: Dict[str, int]): # key: ic name; value: num_vms\n",
    "    \"\"\"Receives a Solution with only one time slot and returns the allocation as\n",
    "    a dictionary.\"\"\"\n",
    "    allocs = sol.alloc.time_slot_allocs\n",
    "    assert len(allocs) == 1\n",
    "    \n",
    "    ics_alloc = allocs[0].ics\n",
    "    \n",
    "    for key, num_vms in ics_alloc.items():\n",
    "        app = key[0]\n",
    "        ic = key[1]\n",
    "            \n",
    "        if ic.name in alloc_dict:\n",
    "            alloc_dict[ic.name] += int(num_vms)\n",
    "        else:\n",
    "            alloc_dict[ic.name] = int(num_vms)\n",
    "    \n",
    "allocs = []\n",
    "for ts, sols_ts in enumerate(all_sols):\n",
    "    for i, variant in enumerate(variants):\n",
    "        sol = sols_ts[i]\n",
    "\n",
    "        alloc_dict = { \"ts\": ts, \"approach\": variant}\n",
    "        update_alloc_as_dict(sol, alloc_dict)\n",
    "        allocs.append(alloc_dict)\n",
    "\n",
    "df_allocs = pd.DataFrame(allocs)\n",
    "\n",
    "# Remove columns with all zeros\n",
    "df_allocs = df_allocs.loc[:, (df_allocs != 0).any(axis=0)]"
   ]
  },
  {
   "cell_type": "code",
   "execution_count": 53,
   "id": "44072d2d",
   "metadata": {
    "ExecuteTime": {
     "end_time": "2023-03-26T12:33:57.545285Z",
     "start_time": "2023-03-26T12:33:52.704214Z"
    },
    "scrolled": false
   },
   "outputs": [
    {
     "data": {
      "image/png": "[encoded data removed]",
      "text/plain": [
       "<Figure size 400x200 with 1 Axes>"
      ]
     },
     "metadata": {},
     "output_type": "display_data"
    },
    {
     "data": {
      "image/png": "[encoded data removed]",
      "text/plain": [
       "<Figure size 400x200 with 1 Axes>"
      ]
     },
     "metadata": {},
     "output_type": "display_data"
    },
    {
     "data": {
      "image/png": "[encoded data removed]",
      "text/plain": [
       "<Figure size 400x200 with 1 Axes>"
      ]
     },
     "metadata": {},
     "output_type": "display_data"
    },
    {
     "data": {
      "image/png": "[encoded data removed]",
      "text/plain": [
       "<Figure size 400x200 with 1 Axes>"
      ]
     },
     "metadata": {},
     "output_type": "display_data"
    },
    {
     "data": {
      "image/png": "[encoded data removed]",
      "text/plain": [
       "<Figure size 400x200 with 1 Axes>"
      ]
     },
     "metadata": {},
     "output_type": "display_data"
    },
    {
     "data": {
      "image/png": "[encoded data removed]",
      "text/plain": [
       "<Figure size 400x200 with 1 Axes>"
      ]
     },
     "metadata": {},
     "output_type": "display_data"
    },
    {
     "data": {
      "image/png": "[encoded data removed]",
      "text/plain": [
       "<Figure size 100x100 with 1 Axes>"
      ]
     },
     "metadata": {},
     "output_type": "display_data"
    }
   ],
   "source": [
    "def plot_df_alloc(df_alloc, title, colors):\n",
    "    \"\"\"Receives a data frame. Each row is a time slot (identified by the column ts), followed\n",
    "    by the number of VMs for each instance class (each one in column). There must be a color\n",
    "    for each instance class.\"\"\"\n",
    "    assert len(list(df_alloc.columns)[1:]) == len(colors)\n",
    "    \n",
    "    ax = df_alloc.set_index(\"ts\").plot(kind=\"bar\", stacked=True, color=colors, legend=False, figsize=(4,2))\n",
    "    # ax.set_title(title)\n",
    "    ax.set_ylabel(\"VMs\")\n",
    "    ax.set_xlabel(\"Time slot (h)\")\n",
    "    #     ax.legend(bbox_to_anchor=(1.0, 1.0))\n",
    "    plt.savefig(FIG_DIR/f\"alloc_{title}.png\", bbox_inches='tight', dpi=600)\n",
    "    \n",
    "    return ax\n",
    "\n",
    "ic_list = list(df_allocs.columns)[2:] # The first elements are \"ts\" and \"variant\"\n",
    "colors = []\n",
    "index_eu = index_us_east = index_us_west = index_ap = 70\n",
    "color_inc = 70\n",
    "for ic in ic_list:\n",
    "    if \"-eu-\" in ic:\n",
    "        colors.append(cm.Blues(index_eu))\n",
    "        index_eu += color_inc\n",
    "    elif \"-us-east-\" in ic:\n",
    "        colors.append(cm.Oranges(index_us_east))\n",
    "        index_us_east += color_inc\n",
    "    elif \"-us-west-\" in ic:\n",
    "        colors.append(cm.Greens(index_us_west))\n",
    "        index_us_west += color_inc\n",
    "    elif \"-ap-\" in ic:\n",
    "        colors.append(cm.RdPu(index_ap))\n",
    "        index_ap += color_inc\n",
    "    else:\n",
    "        raise ValueError(\"Invalid region value\")\n",
    "\n",
    "def new_ic_names(x):\n",
    "    if \"-\" not in x:\n",
    "        return x\n",
    "\n",
    "    vm_type = x.split(\"-\")[0]\n",
    "    orig_region = \"-\".join(x.split(\"-\")[1:])\n",
    "    new_region = region_2_shortcut[orig_region]\n",
    "    return f\"{vm_type} ({new_region})\"\n",
    "        \n",
    "\n",
    "for variant in variants:\n",
    "    df_variant = df_allocs[df_allocs.approach==variant].drop(\"approach\", axis=1)\n",
    "    \n",
    "    # Use nicer names\n",
    "    df_variant_fig = df_variant.rename(columns=lambda x: new_ic_names(x))\n",
    "    ax = plot_df_alloc(df_variant_fig, variant, colors)\n",
    "\n",
    "patches, labels = ax.get_legend_handles_labels()\n",
    "f = plt.figure(figsize=(1,1))\n",
    "ax_legend = f.add_subplot(111)\n",
    "ax_legend.set_axis_off()  #turn off the axis\n",
    "# ax.legend(reversed([mpatches.Rectangle((0, 0), 1, 1, fc=handle.get_color(),\n",
    "#                                                   linewidth=handle.get_linewidth(),\n",
    "#                                                   alpha=handle.get_alpha())\n",
    "#                                for handle in patches]) , reversed(labels))\n",
    "ax_legend.legend(*ax.get_legend_handles_labels(), loc='center')\n",
    "plt.gcf().savefig(FIG_DIR / \"legend.png\", bbox_inches = 'tight',  dpi=600)"
   ]
  },
  {
   "cell_type": "markdown",
   "id": "663aadf8",
   "metadata": {},
   "source": [
    "## Distribution of requests"
   ]
  },
  {
   "cell_type": "code",
   "execution_count": 34,
   "id": "730c7368",
   "metadata": {
    "ExecuteTime": {
     "end_time": "2023-03-24T22:56:19.487244Z",
     "start_time": "2023-03-24T22:56:19.415372Z"
    },
    "scrolled": false
   },
   "outputs": [],
   "source": [
    "def is_user_region(reg: Region) -> bool:\n",
    "    return reg.name.endswith(\"-u\")\n",
    "\n",
    "def get_req_reg_distribution(sol: Solution) -> List[Tuple[str, str, int]]:\n",
    "    \"\"\"Receives an edarop Solution and returns a list of values with this\n",
    "    format:\n",
    "\n",
    "        reg_src reg_dst app requests\n",
    "    \"\"\"\n",
    "    alloc = sol.alloc\n",
    "    \n",
    "    reqs = {}\n",
    "    for reg_src in sol.problem.regions:\n",
    "        if is_user_region(reg_src):\n",
    "            reqs[reg_src] = {}\n",
    "            for reg_dst in sol.problem.regions:\n",
    "                reqs[reg_src][reg_dst] = 0\n",
    "    \n",
    "    for alloc_ts in alloc.time_slot_allocs:\n",
    "        for key in alloc_ts.reqs:\n",
    "            app = key[0]\n",
    "            reg_src = key[1] \n",
    "            ic = key[2]\n",
    "            reg_dst = ic.region\n",
    "            \n",
    "            reqs_ts = alloc_ts.reqs[key]\n",
    "            reqs[reg_src][reg_dst] +=  reqs_ts\n",
    "                \n",
    "    res = []\n",
    "    for reg_src in reqs.keys():\n",
    "        for reg_dst in reqs[reg_src]:\n",
    "            res.append((reg_src.name, reg_dst.name, app.name, reqs[reg_src][reg_dst]))\n",
    "                \n",
    "    return res\n",
    "\n",
    "req_dist = []\n",
    "for ts, sols_ts in enumerate(all_sols):\n",
    "    for i, variant in enumerate(variants):\n",
    "        sol = sols_ts[i]\n",
    "        for distribution in get_req_reg_distribution(sol):\n",
    "            req_dist.append((ts, variant, *distribution))\n",
    "\n",
    "df_reg_dist = pd.DataFrame(req_dist, columns=[\"Time slot (h)\", \"Approach\", \"Reg_src\", \"Reg_dst\", \"App\", \"Requests\"])\n",
    "df_reg_dist.Reg_src = df_reg_dist.Reg_src.map(region_2_shortcut)\n",
    "df_reg_dist.Reg_dst = df_reg_dist.Reg_dst.map(region_2_shortcut)\n",
    "\n",
    "reg_dst_order_reversed = reg_dst_order.copy()\n",
    "reg_dst_order_reversed.reverse()\n",
    "\n",
    "df_reg_dist.Reg_src = df_reg_dist.Reg_src.astype(\"category\").cat.set_categories(reg_src_order)\n",
    "df_reg_dist.Reg_dst = df_reg_dist.Reg_dst.astype(\"category\").cat.set_categories(reg_dst_order_reversed)\n",
    "\n",
    "df_reg_dist = df_reg_dist.sort_values(by=[\"Reg_src\", \"Reg_dst\"])"
   ]
  },
  {
   "cell_type": "code",
   "execution_count": 35,
   "id": "328b2425",
   "metadata": {
    "ExecuteTime": {
     "end_time": "2023-03-24T22:56:20.069811Z",
     "start_time": "2023-03-24T22:56:20.057174Z"
    }
   },
   "outputs": [],
   "source": [
    "df_reg_dist_gr = (df_reg_dist\n",
    "     .groupby([\"Approach\", \"Reg_src\", \"Reg_dst\"])\n",
    "     .Requests\n",
    "     .sum()\n",
    "     .reset_index()\n",
    ")"
   ]
  },
  {
   "cell_type": "code",
   "execution_count": 36,
   "id": "e4a31070",
   "metadata": {
    "ExecuteTime": {
     "end_time": "2023-03-24T22:56:20.626971Z",
     "start_time": "2023-03-24T22:56:20.621140Z"
    }
   },
   "outputs": [],
   "source": [
    "import plotly.graph_objects as go\n",
    "import kaleido"
   ]
  },
  {
   "cell_type": "code",
   "execution_count": 51,
   "id": "8d723399",
   "metadata": {
    "ExecuteTime": {
     "end_time": "2023-03-24T23:15:25.957678Z",
     "start_time": "2023-03-24T23:15:25.951971Z"
    }
   },
   "outputs": [],
   "source": [
    "def clean_label(label):\n",
    "    clean = label.replace(\"$\", \"\").replace(\"{\", \"\").replace(\"}\", \"\").replace(r\"\\text\", \"\")\n",
    "    return clean.replace(\"_\", \"<sub>\") + \"</sub>\""
   ]
  },
  {
   "cell_type": "code",
   "execution_count": 58,
   "id": "01d70f21",
   "metadata": {
    "ExecuteTime": {
     "end_time": "2023-03-24T23:25:30.847009Z",
     "start_time": "2023-03-24T23:25:29.270559Z"
    },
    "scrolled": false
   },
   "outputs": [
    {
     "data": {
      "application/vnd.plotly.v1+json": {
       "config": {
        "plotlyServerURL": "https://plot.ly"
       },
       "data": [
        {
         "link": {
          "color": [
           "rgba(31,119,180, 0.4)",
           "rgba(255,127,14, 0.4)",
           "rgba(44,160,44, 0.4)",
           "rgba(214,39,40, 0.4)",
           "rgba(31,119,180, 0.4)",
           "rgba(255,127,14, 0.4)",
           "rgba(44,160,44, 0.4)",
           "rgba(214,39,40, 0.4)",
           "rgba(174,199,232, 0.4)",
           "rgba(255,187,120, 0.4)",
           "rgba(152,223,138, 0.4)",
           "rgba(255,152,150, 0.4)",
           "rgba(31,119,180, 0.4)",
           "rgba(255,127,14, 0.4)",
           "rgba(44,160,44, 0.4)",
           "rgba(214,39,40, 0.4)",
           "rgba(31,119,180, 0.4)",
           "rgba(255,127,14, 0.4)",
           "rgba(44,160,44, 0.4)",
           "rgba(214,39,40, 0.4)",
           "rgba(174,199,232, 0.4)",
           "rgba(255,187,120, 0.4)",
           "rgba(152,223,138, 0.4)",
           "rgba(255,152,150, 0.4)",
           "rgba(31,119,180, 0.4)",
           "rgba(255,127,14, 0.4)",
           "rgba(44,160,44, 0.4)",
           "rgba(214,39,40, 0.4)",
           "rgba(31,119,180, 0.4)",
           "rgba(255,127,14, 0.4)",
           "rgba(44,160,44, 0.4)",
           "rgba(214,39,40, 0.4)",
           "rgba(174,199,232, 0.4)",
           "rgba(255,187,120, 0.4)",
           "rgba(152,223,138, 0.4)",
           "rgba(255,152,150, 0.4)",
           "rgba(31,119,180, 0.4)",
           "rgba(255,127,14, 0.4)",
           "rgba(44,160,44, 0.4)",
           "rgba(214,39,40, 0.4)",
           "rgba(31,119,180, 0.4)",
           "rgba(255,127,14, 0.4)",
           "rgba(44,160,44, 0.4)",
           "rgba(214,39,40, 0.4)",
           "rgba(174,199,232, 0.4)",
           "rgba(255,187,120, 0.4)",
           "rgba(152,223,138, 0.4)",
           "rgba(255,152,150, 0.4)"
          ],
          "source": [
           0,
           0,
           0,
           0,
           0,
           0,
           0,
           0,
           1,
           1,
           1,
           1,
           1,
           1,
           1,
           1,
           2,
           2,
           2,
           2,
           2,
           2,
           2,
           2,
           3,
           3,
           3,
           3,
           3,
           3,
           3,
           3
          ],
          "target": [
           4,
           5,
           6,
           7,
           8,
           9,
           10,
           11,
           4,
           5,
           6,
           7,
           8,
           9,
           10,
           11,
           4,
           5,
           6,
           7,
           8,
           9,
           10,
           11,
           4,
           5,
           6,
           7,
           8,
           9,
           10,
           11
          ],
          "value": [
           118585235,
           0,
           0,
           0,
           0,
           200904921,
           55808511,
           21729398,
           0,
           73138202,
           0,
           0,
           0,
           19505008,
           372070501,
           36046,
           0,
           0,
           71255405,
           0,
           0,
           20630197,
           280708750,
           0,
           0,
           0,
           0,
           77222416,
           0,
           47071,
           154854703,
           224112795
          ]
         },
         "node": {
          "color": [
           "#1f77b4",
           "#ff7f0e",
           "#2ca02c",
           "#d62728",
           "#1f77b4",
           "#ff7f0e",
           "#2ca02c",
           "#d62728",
           "#aec7e8",
           "#ffbb78",
           "#98df8a",
           "#ff9896"
          ],
          "label": [
           "EU<sub>u</sub>",
           "US-E<sub>u</sub>",
           "US-W<sub>u</sub>",
           "AP<sub>u</sub>",
           "EU<sub>e</sub>",
           "US-E<sub>e</sub>",
           "US-W<sub>e</sub>",
           "AP<sub>e</sub>",
           "EU<sub>c</sub>",
           "US-E<sub>c</sub>",
           "US-W<sub>c</sub>",
           "AP<sub>c</sub>"
          ],
          "line": {
           "color": "black",
           "width": 0.5
          },
          "pad": 15,
          "thickness": 20
         },
         "type": "sankey"
        }
       ],
       "layout": {
        "font": {
         "color": "Black",
         "family": "Arial",
         "size": 22
        },
        "margin": {
         "b": 20,
         "l": 20,
         "r": 20,
         "t": 20
        },
        "template": {
         "data": {
          "bar": [
           {
            "error_x": {
             "color": "#2a3f5f"
            },
            "error_y": {
             "color": "#2a3f5f"
            },
            "marker": {
             "line": {
              "color": "#E5ECF6",
              "width": 0.5
             },
             "pattern": {
              "fillmode": "overlay",
              "size": 10,
              "solidity": 0.2
             }
            },
            "type": "bar"
           }
          ],
          "barpolar": [
           {
            "marker": {
             "line": {
              "color": "#E5ECF6",
              "width": 0.5
             },
             "pattern": {
              "fillmode": "overlay",
              "size": 10,
              "solidity": 0.2
             }
            },
            "type": "barpolar"
           }
          ],
          "carpet": [
           {
            "aaxis": {
             "endlinecolor": "#2a3f5f",
             "gridcolor": "white",
             "linecolor": "white",
             "minorgridcolor": "white",
             "startlinecolor": "#2a3f5f"
            },
            "baxis": {
             "endlinecolor": "#2a3f5f",
             "gridcolor": "white",
             "linecolor": "white",
             "minorgridcolor": "white",
             "startlinecolor": "#2a3f5f"
            },
            "type": "carpet"
           }
          ],
          "choropleth": [
           {
            "colorbar": {
             "outlinewidth": 0,
             "ticks": ""
            },
            "type": "choropleth"
           }
          ],
          "contour": [
           {
            "colorbar": {
             "outlinewidth": 0,
             "ticks": ""
            },
            "colorscale": [
             [
              0,
              "#0d0887"
             ],
             [
              0.1111111111111111,
              "#46039f"
             ],
             [
              0.2222222222222222,
              "#7201a8"
             ],
             [
              0.3333333333333333,
              "#9c179e"
             ],
             [
              0.4444444444444444,
              "#bd3786"
             ],
             [
              0.5555555555555556,
              "#d8576b"
             ],
             [
              0.6666666666666666,
              "#ed7953"
             ],
             [
              0.7777777777777778,
              "#fb9f3a"
             ],
             [
              0.8888888888888888,
              "#fdca26"
             ],
             [
              1,
              "#f0f921"
             ]
            ],
            "type": "contour"
           }
          ],
          "contourcarpet": [
           {
            "colorbar": {
             "outlinewidth": 0,
             "ticks": ""
            },
            "type": "contourcarpet"
           }
          ],
          "heatmap": [
           {
            "colorbar": {
             "outlinewidth": 0,
             "ticks": ""
            },
            "colorscale": [
             [
              0,
              "#0d0887"
             ],
             [
              0.1111111111111111,
              "#46039f"
             ],
             [
              0.2222222222222222,
              "#7201a8"
             ],
             [
              0.3333333333333333,
              "#9c179e"
             ],
             [
              0.4444444444444444,
              "#bd3786"
             ],
             [
              0.5555555555555556,
              "#d8576b"
             ],
             [
              0.6666666666666666,
              "#ed7953"
             ],
             [
              0.7777777777777778,
              "#fb9f3a"
             ],
             [
              0.8888888888888888,
              "#fdca26"
             ],
             [
              1,
              "#f0f921"
             ]
            ],
            "type": "heatmap"
           }
          ],
          "heatmapgl": [
           {
            "colorbar": {
             "outlinewidth": 0,
             "ticks": ""
            },
            "colorscale": [
             [
              0,
              "#0d0887"
             ],
             [
              0.1111111111111111,
              "#46039f"
             ],
             [
              0.2222222222222222,
              "#7201a8"
             ],
             [
              0.3333333333333333,
              "#9c179e"
             ],
             [
              0.4444444444444444,
              "#bd3786"
             ],
             [
              0.5555555555555556,
              "#d8576b"
             ],
             [
              0.6666666666666666,
              "#ed7953"
             ],
             [
              0.7777777777777778,
              "#fb9f3a"
             ],
             [
              0.8888888888888888,
              "#fdca26"
             ],
             [
              1,
              "#f0f921"
             ]
            ],
            "type": "heatmapgl"
           }
          ],
          "histogram": [
           {
            "marker": {
             "pattern": {
              "fillmode": "overlay",
              "size": 10,
              "solidity": 0.2
             }
            },
            "type": "histogram"
           }
          ],
          "histogram2d": [
           {
            "colorbar": {
             "outlinewidth": 0,
             "ticks": ""
            },
            "colorscale": [
             [
              0,
              "#0d0887"
             ],
             [
              0.1111111111111111,
              "#46039f"
             ],
             [
              0.2222222222222222,
              "#7201a8"
             ],
             [
              0.3333333333333333,
              "#9c179e"
             ],
             [
              0.4444444444444444,
              "#bd3786"
             ],
             [
              0.5555555555555556,
              "#d8576b"
             ],
             [
              0.6666666666666666,
              "#ed7953"
             ],
             [
              0.7777777777777778,
              "#fb9f3a"
             ],
             [
              0.8888888888888888,
              "#fdca26"
             ],
             [
              1,
              "#f0f921"
             ]
            ],
            "type": "histogram2d"
           }
          ],
          "histogram2dcontour": [
           {
            "colorbar": {
             "outlinewidth": 0,
             "ticks": ""
            },
            "colorscale": [
             [
              0,
              "#0d0887"
             ],
             [
              0.1111111111111111,
              "#46039f"
             ],
             [
              0.2222222222222222,
              "#7201a8"
             ],
             [
              0.3333333333333333,
              "#9c179e"
             ],
             [
              0.4444444444444444,
              "#bd3786"
             ],
             [
              0.5555555555555556,
              "#d8576b"
             ],
             [
              0.6666666666666666,
              "#ed7953"
             ],
             [
              0.7777777777777778,
              "#fb9f3a"
             ],
             [
              0.8888888888888888,
              "#fdca26"
             ],
             [
              1,
              "#f0f921"
             ]
            ],
            "type": "histogram2dcontour"
           }
          ],
          "mesh3d": [
           {
            "colorbar": {
             "outlinewidth": 0,
             "ticks": ""
            },
            "type": "mesh3d"
           }
          ],
          "parcoords": [
           {
            "line": {
             "colorbar": {
              "outlinewidth": 0,
              "ticks": ""
             }
            },
            "type": "parcoords"
           }
          ],
          "pie": [
           {
            "automargin": true,
            "type": "pie"
           }
          ],
          "scatter": [
           {
            "fillpattern": {
             "fillmode": "overlay",
             "size": 10,
             "solidity": 0.2
            },
            "type": "scatter"
           }
          ],
          "scatter3d": [
           {
            "line": {
             "colorbar": {
              "outlinewidth": 0,
              "ticks": ""
             }
            },
            "marker": {
             "colorbar": {
              "outlinewidth": 0,
              "ticks": ""
             }
            },
            "type": "scatter3d"
           }
          ],
          "scattercarpet": [
           {
            "marker": {
             "colorbar": {
              "outlinewidth": 0,
              "ticks": ""
             }
            },
            "type": "scattercarpet"
           }
          ],
          "scattergeo": [
           {
            "marker": {
             "colorbar": {
              "outlinewidth": 0,
              "ticks": ""
             }
            },
            "type": "scattergeo"
           }
          ],
          "scattergl": [
           {
            "marker": {
             "colorbar": {
              "outlinewidth": 0,
              "ticks": ""
             }
            },
            "type": "scattergl"
           }
          ],
          "scattermapbox": [
           {
            "marker": {
             "colorbar": {
              "outlinewidth": 0,
              "ticks": ""
             }
            },
            "type": "scattermapbox"
           }
          ],
          "scatterpolar": [
           {
            "marker": {
             "colorbar": {
              "outlinewidth": 0,
              "ticks": ""
             }
            },
            "type": "scatterpolar"
           }
          ],
          "scatterpolargl": [
           {
            "marker": {
             "colorbar": {
              "outlinewidth": 0,
              "ticks": ""
             }
            },
            "type": "scatterpolargl"
           }
          ],
          "scatterternary": [
           {
            "marker": {
             "colorbar": {
              "outlinewidth": 0,
              "ticks": ""
             }
            },
            "type": "scatterternary"
           }
          ],
          "surface": [
           {
            "colorbar": {
             "outlinewidth": 0,
             "ticks": ""
            },
            "colorscale": [
             [
              0,
              "#0d0887"
             ],
             [
              0.1111111111111111,
              "#46039f"
             ],
             [
              0.2222222222222222,
              "#7201a8"
             ],
             [
              0.3333333333333333,
              "#9c179e"
             ],
             [
              0.4444444444444444,
              "#bd3786"
             ],
             [
              0.5555555555555556,
              "#d8576b"
             ],
             [
              0.6666666666666666,
              "#ed7953"
             ],
             [
              0.7777777777777778,
              "#fb9f3a"
             ],
             [
              0.8888888888888888,
              "#fdca26"
             ],
             [
              1,
              "#f0f921"
             ]
            ],
            "type": "surface"
           }
          ],
          "table": [
           {
            "cells": {
             "fill": {
              "color": "#EBF0F8"
             },
             "line": {
              "color": "white"
             }
            },
            "header": {
             "fill": {
              "color": "#C8D4E3"
             },
             "line": {
              "color": "white"
             }
            },
            "type": "table"
           }
          ]
         },
         "layout": {
          "annotationdefaults": {
           "arrowcolor": "#2a3f5f",
           "arrowhead": 0,
           "arrowwidth": 1
          },
          "autotypenumbers": "strict",
          "coloraxis": {
           "colorbar": {
            "outlinewidth": 0,
            "ticks": ""
           }
          },
          "colorscale": {
           "diverging": [
            [
             0,
             "#8e0152"
            ],
            [
             0.1,
             "#c51b7d"
            ],
            [
             0.2,
             "#de77ae"
            ],
            [
             0.3,
             "#f1b6da"
            ],
            [
             0.4,
             "#fde0ef"
            ],
            [
             0.5,
             "#f7f7f7"
            ],
            [
             0.6,
             "#e6f5d0"
            ],
            [
             0.7,
             "#b8e186"
            ],
            [
             0.8,
             "#7fbc41"
            ],
            [
             0.9,
             "#4d9221"
            ],
            [
             1,
             "#276419"
            ]
           ],
           "sequential": [
            [
             0,
             "#0d0887"
            ],
            [
             0.1111111111111111,
             "#46039f"
            ],
            [
             0.2222222222222222,
             "#7201a8"
            ],
            [
             0.3333333333333333,
             "#9c179e"
            ],
            [
             0.4444444444444444,
             "#bd3786"
            ],
            [
             0.5555555555555556,
             "#d8576b"
            ],
            [
             0.6666666666666666,
             "#ed7953"
            ],
            [
             0.7777777777777778,
             "#fb9f3a"
            ],
            [
             0.8888888888888888,
             "#fdca26"
            ],
            [
             1,
             "#f0f921"
            ]
           ],
           "sequentialminus": [
            [
             0,
             "#0d0887"
            ],
            [
             0.1111111111111111,
             "#46039f"
            ],
            [
             0.2222222222222222,
             "#7201a8"
            ],
            [
             0.3333333333333333,
             "#9c179e"
            ],
            [
             0.4444444444444444,
             "#bd3786"
            ],
            [
             0.5555555555555556,
             "#d8576b"
            ],
            [
             0.6666666666666666,
             "#ed7953"
            ],
            [
             0.7777777777777778,
             "#fb9f3a"
            ],
            [
             0.8888888888888888,
             "#fdca26"
            ],
            [
             1,
             "#f0f921"
            ]
           ]
          },
          "colorway": [
           "#636efa",
           "#EF553B",
           "#00cc96",
           "#ab63fa",
           "#FFA15A",
           "#19d3f3",
           "#FF6692",
           "#B6E880",
           "#FF97FF",
           "#FECB52"
          ],
          "font": {
           "color": "#2a3f5f"
          },
          "geo": {
           "bgcolor": "white",
           "lakecolor": "white",
           "landcolor": "#E5ECF6",
           "showlakes": true,
           "showland": true,
           "subunitcolor": "white"
          },
          "hoverlabel": {
           "align": "left"
          },
          "hovermode": "closest",
          "mapbox": {
           "style": "light"
          },
          "paper_bgcolor": "white",
          "plot_bgcolor": "#E5ECF6",
          "polar": {
           "angularaxis": {
            "gridcolor": "white",
            "linecolor": "white",
            "ticks": ""
           },
           "bgcolor": "#E5ECF6",
           "radialaxis": {
            "gridcolor": "white",
            "linecolor": "white",
            "ticks": ""
           }
          },
          "scene": {
           "xaxis": {
            "backgroundcolor": "#E5ECF6",
            "gridcolor": "white",
            "gridwidth": 2,
            "linecolor": "white",
            "showbackground": true,
            "ticks": "",
            "zerolinecolor": "white"
           },
           "yaxis": {
            "backgroundcolor": "#E5ECF6",
            "gridcolor": "white",
            "gridwidth": 2,
            "linecolor": "white",
            "showbackground": true,
            "ticks": "",
            "zerolinecolor": "white"
           },
           "zaxis": {
            "backgroundcolor": "#E5ECF6",
            "gridcolor": "white",
            "gridwidth": 2,
            "linecolor": "white",
            "showbackground": true,
            "ticks": "",
            "zerolinecolor": "white"
           }
          },
          "shapedefaults": {
           "line": {
            "color": "#2a3f5f"
           }
          },
          "ternary": {
           "aaxis": {
            "gridcolor": "white",
            "linecolor": "white",
            "ticks": ""
           },
           "baxis": {
            "gridcolor": "white",
            "linecolor": "white",
            "ticks": ""
           },
           "bgcolor": "#E5ECF6",
           "caxis": {
            "gridcolor": "white",
            "linecolor": "white",
            "ticks": ""
           }
          },
          "title": {
           "x": 0.05
          },
          "xaxis": {
           "automargin": true,
           "gridcolor": "white",
           "linecolor": "white",
           "ticks": "",
           "title": {
            "standoff": 15
           },
           "zerolinecolor": "white",
           "zerolinewidth": 2
          },
          "yaxis": {
           "automargin": true,
           "gridcolor": "white",
           "linecolor": "white",
           "ticks": "",
           "title": {
            "standoff": 15
           },
           "zerolinecolor": "white",
           "zerolinewidth": 2
          }
         }
        }
       }
      },
      "text/html": [
       "<div>                            <div id=\"d8bb844d-b09b-4276-9292-68da84602353\" class=\"plotly-graph-div\" style=\"height:525px; width:100%;\"></div>            <script type=\"text/javascript\">                require([\"plotly\"], function(Plotly) {                    window.PLOTLYENV=window.PLOTLYENV || {};                                    if (document.getElementById(\"d8bb844d-b09b-4276-9292-68da84602353\")) {                    Plotly.newPlot(                        \"d8bb844d-b09b-4276-9292-68da84602353\",                        [{\"link\":{\"color\":[\"rgba(31,119,180, 0.4)\",\"rgba(255,127,14, 0.4)\",\"rgba(44,160,44, 0.4)\",\"rgba(214,39,40, 0.4)\",\"rgba(31,119,180, 0.4)\",\"rgba(255,127,14, 0.4)\",\"rgba(44,160,44, 0.4)\",\"rgba(214,39,40, 0.4)\",\"rgba(174,199,232, 0.4)\",\"rgba(255,187,120, 0.4)\",\"rgba(152,223,138, 0.4)\",\"rgba(255,152,150, 0.4)\",\"rgba(31,119,180, 0.4)\",\"rgba(255,127,14, 0.4)\",\"rgba(44,160,44, 0.4)\",\"rgba(214,39,40, 0.4)\",\"rgba(31,119,180, 0.4)\",\"rgba(255,127,14, 0.4)\",\"rgba(44,160,44, 0.4)\",\"rgba(214,39,40, 0.4)\",\"rgba(174,199,232, 0.4)\",\"rgba(255,187,120, 0.4)\",\"rgba(152,223,138, 0.4)\",\"rgba(255,152,150, 0.4)\",\"rgba(31,119,180, 0.4)\",\"rgba(255,127,14, 0.4)\",\"rgba(44,160,44, 0.4)\",\"rgba(214,39,40, 0.4)\",\"rgba(31,119,180, 0.4)\",\"rgba(255,127,14, 0.4)\",\"rgba(44,160,44, 0.4)\",\"rgba(214,39,40, 0.4)\",\"rgba(174,199,232, 0.4)\",\"rgba(255,187,120, 0.4)\",\"rgba(152,223,138, 0.4)\",\"rgba(255,152,150, 0.4)\",\"rgba(31,119,180, 0.4)\",\"rgba(255,127,14, 0.4)\",\"rgba(44,160,44, 0.4)\",\"rgba(214,39,40, 0.4)\",\"rgba(31,119,180, 0.4)\",\"rgba(255,127,14, 0.4)\",\"rgba(44,160,44, 0.4)\",\"rgba(214,39,40, 0.4)\",\"rgba(174,199,232, 0.4)\",\"rgba(255,187,120, 0.4)\",\"rgba(152,223,138, 0.4)\",\"rgba(255,152,150, 0.4)\"],\"source\":[0,0,0,0,0,0,0,0,1,1,1,1,1,1,1,1,2,2,2,2,2,2,2,2,3,3,3,3,3,3,3,3],\"target\":[4,5,6,7,8,9,10,11,4,5,6,7,8,9,10,11,4,5,6,7,8,9,10,11,4,5,6,7,8,9,10,11],\"value\":[118585235,0,0,0,0,200904921,55808511,21729398,0,73138202,0,0,0,19505008,372070501,36046,0,0,71255405,0,0,20630197,280708750,0,0,0,0,77222416,0,47071,154854703,224112795]},\"node\":{\"color\":[\"#1f77b4\",\"#ff7f0e\",\"#2ca02c\",\"#d62728\",\"#1f77b4\",\"#ff7f0e\",\"#2ca02c\",\"#d62728\",\"#aec7e8\",\"#ffbb78\",\"#98df8a\",\"#ff9896\"],\"label\":[\"EU<sub>u</sub>\",\"US-E<sub>u</sub>\",\"US-W<sub>u</sub>\",\"AP<sub>u</sub>\",\"EU<sub>e</sub>\",\"US-E<sub>e</sub>\",\"US-W<sub>e</sub>\",\"AP<sub>e</sub>\",\"EU<sub>c</sub>\",\"US-E<sub>c</sub>\",\"US-W<sub>c</sub>\",\"AP<sub>c</sub>\"],\"line\":{\"color\":\"black\",\"width\":0.5},\"pad\":15,\"thickness\":20},\"type\":\"sankey\"}],                        {\"template\":{\"data\":{\"histogram2dcontour\":[{\"type\":\"histogram2dcontour\",\"colorbar\":{\"outlinewidth\":0,\"ticks\":\"\"},\"colorscale\":[[0.0,\"#0d0887\"],[0.1111111111111111,\"#46039f\"],[0.2222222222222222,\"#7201a8\"],[0.3333333333333333,\"#9c179e\"],[0.4444444444444444,\"#bd3786\"],[0.5555555555555556,\"#d8576b\"],[0.6666666666666666,\"#ed7953\"],[0.7777777777777778,\"#fb9f3a\"],[0.8888888888888888,\"#fdca26\"],[1.0,\"#f0f921\"]]}],\"choropleth\":[{\"type\":\"choropleth\",\"colorbar\":{\"outlinewidth\":0,\"ticks\":\"\"}}],\"histogram2d\":[{\"type\":\"histogram2d\",\"colorbar\":{\"outlinewidth\":0,\"ticks\":\"\"},\"colorscale\":[[0.0,\"#0d0887\"],[0.1111111111111111,\"#46039f\"],[0.2222222222222222,\"#7201a8\"],[0.3333333333333333,\"#9c179e\"],[0.4444444444444444,\"#bd3786\"],[0.5555555555555556,\"#d8576b\"],[0.6666666666666666,\"#ed7953\"],[0.7777777777777778,\"#fb9f3a\"],[0.8888888888888888,\"#fdca26\"],[1.0,\"#f0f921\"]]}],\"heatmap\":[{\"type\":\"heatmap\",\"colorbar\":{\"outlinewidth\":0,\"ticks\":\"\"},\"colorscale\":[[0.0,\"#0d0887\"],[0.1111111111111111,\"#46039f\"],[0.2222222222222222,\"#7201a8\"],[0.3333333333333333,\"#9c179e\"],[0.4444444444444444,\"#bd3786\"],[0.5555555555555556,\"#d8576b\"],[0.6666666666666666,\"#ed7953\"],[0.7777777777777778,\"#fb9f3a\"],[0.8888888888888888,\"#fdca26\"],[1.0,\"#f0f921\"]]}],\"heatmapgl\":[{\"type\":\"heatmapgl\",\"colorbar\":{\"outlinewidth\":0,\"ticks\":\"\"},\"colorscale\":[[0.0,\"#0d0887\"],[0.1111111111111111,\"#46039f\"],[0.2222222222222222,\"#7201a8\"],[0.3333333333333333,\"#9c179e\"],[0.4444444444444444,\"#bd3786\"],[0.5555555555555556,\"#d8576b\"],[0.6666666666666666,\"#ed7953\"],[0.7777777777777778,\"#fb9f3a\"],[0.8888888888888888,\"#fdca26\"],[1.0,\"#f0f921\"]]}],\"contourcarpet\":[{\"type\":\"contourcarpet\",\"colorbar\":{\"outlinewidth\":0,\"ticks\":\"\"}}],\"contour\":[{\"type\":\"contour\",\"colorbar\":{\"outlinewidth\":0,\"ticks\":\"\"},\"colorscale\":[[0.0,\"#0d0887\"],[0.1111111111111111,\"#46039f\"],[0.2222222222222222,\"#7201a8\"],[0.3333333333333333,\"#9c179e\"],[0.4444444444444444,\"#bd3786\"],[0.5555555555555556,\"#d8576b\"],[0.6666666666666666,\"#ed7953\"],[0.7777777777777778,\"#fb9f3a\"],[0.8888888888888888,\"#fdca26\"],[1.0,\"#f0f921\"]]}],\"surface\":[{\"type\":\"surface\",\"colorbar\":{\"outlinewidth\":0,\"ticks\":\"\"},\"colorscale\":[[0.0,\"#0d0887\"],[0.1111111111111111,\"#46039f\"],[0.2222222222222222,\"#7201a8\"],[0.3333333333333333,\"#9c179e\"],[0.4444444444444444,\"#bd3786\"],[0.5555555555555556,\"#d8576b\"],[0.6666666666666666,\"#ed7953\"],[0.7777777777777778,\"#fb9f3a\"],[0.8888888888888888,\"#fdca26\"],[1.0,\"#f0f921\"]]}],\"mesh3d\":[{\"type\":\"mesh3d\",\"colorbar\":{\"outlinewidth\":0,\"ticks\":\"\"}}],\"scatter\":[{\"fillpattern\":{\"fillmode\":\"overlay\",\"size\":10,\"solidity\":0.2},\"type\":\"scatter\"}],\"parcoords\":[{\"type\":\"parcoords\",\"line\":{\"colorbar\":{\"outlinewidth\":0,\"ticks\":\"\"}}}],\"scatterpolargl\":[{\"type\":\"scatterpolargl\",\"marker\":{\"colorbar\":{\"outlinewidth\":0,\"ticks\":\"\"}}}],\"bar\":[{\"error_x\":{\"color\":\"#2a3f5f\"},\"error_y\":{\"color\":\"#2a3f5f\"},\"marker\":{\"line\":{\"color\":\"#E5ECF6\",\"width\":0.5},\"pattern\":{\"fillmode\":\"overlay\",\"size\":10,\"solidity\":0.2}},\"type\":\"bar\"}],\"scattergeo\":[{\"type\":\"scattergeo\",\"marker\":{\"colorbar\":{\"outlinewidth\":0,\"ticks\":\"\"}}}],\"scatterpolar\":[{\"type\":\"scatterpolar\",\"marker\":{\"colorbar\":{\"outlinewidth\":0,\"ticks\":\"\"}}}],\"histogram\":[{\"marker\":{\"pattern\":{\"fillmode\":\"overlay\",\"size\":10,\"solidity\":0.2}},\"type\":\"histogram\"}],\"scattergl\":[{\"type\":\"scattergl\",\"marker\":{\"colorbar\":{\"outlinewidth\":0,\"ticks\":\"\"}}}],\"scatter3d\":[{\"type\":\"scatter3d\",\"line\":{\"colorbar\":{\"outlinewidth\":0,\"ticks\":\"\"}},\"marker\":{\"colorbar\":{\"outlinewidth\":0,\"ticks\":\"\"}}}],\"scattermapbox\":[{\"type\":\"scattermapbox\",\"marker\":{\"colorbar\":{\"outlinewidth\":0,\"ticks\":\"\"}}}],\"scatterternary\":[{\"type\":\"scatterternary\",\"marker\":{\"colorbar\":{\"outlinewidth\":0,\"ticks\":\"\"}}}],\"scattercarpet\":[{\"type\":\"scattercarpet\",\"marker\":{\"colorbar\":{\"outlinewidth\":0,\"ticks\":\"\"}}}],\"carpet\":[{\"aaxis\":{\"endlinecolor\":\"#2a3f5f\",\"gridcolor\":\"white\",\"linecolor\":\"white\",\"minorgridcolor\":\"white\",\"startlinecolor\":\"#2a3f5f\"},\"baxis\":{\"endlinecolor\":\"#2a3f5f\",\"gridcolor\":\"white\",\"linecolor\":\"white\",\"minorgridcolor\":\"white\",\"startlinecolor\":\"#2a3f5f\"},\"type\":\"carpet\"}],\"table\":[{\"cells\":{\"fill\":{\"color\":\"#EBF0F8\"},\"line\":{\"color\":\"white\"}},\"header\":{\"fill\":{\"color\":\"#C8D4E3\"},\"line\":{\"color\":\"white\"}},\"type\":\"table\"}],\"barpolar\":[{\"marker\":{\"line\":{\"color\":\"#E5ECF6\",\"width\":0.5},\"pattern\":{\"fillmode\":\"overlay\",\"size\":10,\"solidity\":0.2}},\"type\":\"barpolar\"}],\"pie\":[{\"automargin\":true,\"type\":\"pie\"}]},\"layout\":{\"autotypenumbers\":\"strict\",\"colorway\":[\"#636efa\",\"#EF553B\",\"#00cc96\",\"#ab63fa\",\"#FFA15A\",\"#19d3f3\",\"#FF6692\",\"#B6E880\",\"#FF97FF\",\"#FECB52\"],\"font\":{\"color\":\"#2a3f5f\"},\"hovermode\":\"closest\",\"hoverlabel\":{\"align\":\"left\"},\"paper_bgcolor\":\"white\",\"plot_bgcolor\":\"#E5ECF6\",\"polar\":{\"bgcolor\":\"#E5ECF6\",\"angularaxis\":{\"gridcolor\":\"white\",\"linecolor\":\"white\",\"ticks\":\"\"},\"radialaxis\":{\"gridcolor\":\"white\",\"linecolor\":\"white\",\"ticks\":\"\"}},\"ternary\":{\"bgcolor\":\"#E5ECF6\",\"aaxis\":{\"gridcolor\":\"white\",\"linecolor\":\"white\",\"ticks\":\"\"},\"baxis\":{\"gridcolor\":\"white\",\"linecolor\":\"white\",\"ticks\":\"\"},\"caxis\":{\"gridcolor\":\"white\",\"linecolor\":\"white\",\"ticks\":\"\"}},\"coloraxis\":{\"colorbar\":{\"outlinewidth\":0,\"ticks\":\"\"}},\"colorscale\":{\"sequential\":[[0.0,\"#0d0887\"],[0.1111111111111111,\"#46039f\"],[0.2222222222222222,\"#7201a8\"],[0.3333333333333333,\"#9c179e\"],[0.4444444444444444,\"#bd3786\"],[0.5555555555555556,\"#d8576b\"],[0.6666666666666666,\"#ed7953\"],[0.7777777777777778,\"#fb9f3a\"],[0.8888888888888888,\"#fdca26\"],[1.0,\"#f0f921\"]],\"sequentialminus\":[[0.0,\"#0d0887\"],[0.1111111111111111,\"#46039f\"],[0.2222222222222222,\"#7201a8\"],[0.3333333333333333,\"#9c179e\"],[0.4444444444444444,\"#bd3786\"],[0.5555555555555556,\"#d8576b\"],[0.6666666666666666,\"#ed7953\"],[0.7777777777777778,\"#fb9f3a\"],[0.8888888888888888,\"#fdca26\"],[1.0,\"#f0f921\"]],\"diverging\":[[0,\"#8e0152\"],[0.1,\"#c51b7d\"],[0.2,\"#de77ae\"],[0.3,\"#f1b6da\"],[0.4,\"#fde0ef\"],[0.5,\"#f7f7f7\"],[0.6,\"#e6f5d0\"],[0.7,\"#b8e186\"],[0.8,\"#7fbc41\"],[0.9,\"#4d9221\"],[1,\"#276419\"]]},\"xaxis\":{\"gridcolor\":\"white\",\"linecolor\":\"white\",\"ticks\":\"\",\"title\":{\"standoff\":15},\"zerolinecolor\":\"white\",\"automargin\":true,\"zerolinewidth\":2},\"yaxis\":{\"gridcolor\":\"white\",\"linecolor\":\"white\",\"ticks\":\"\",\"title\":{\"standoff\":15},\"zerolinecolor\":\"white\",\"automargin\":true,\"zerolinewidth\":2},\"scene\":{\"xaxis\":{\"backgroundcolor\":\"#E5ECF6\",\"gridcolor\":\"white\",\"linecolor\":\"white\",\"showbackground\":true,\"ticks\":\"\",\"zerolinecolor\":\"white\",\"gridwidth\":2},\"yaxis\":{\"backgroundcolor\":\"#E5ECF6\",\"gridcolor\":\"white\",\"linecolor\":\"white\",\"showbackground\":true,\"ticks\":\"\",\"zerolinecolor\":\"white\",\"gridwidth\":2},\"zaxis\":{\"backgroundcolor\":\"#E5ECF6\",\"gridcolor\":\"white\",\"linecolor\":\"white\",\"showbackground\":true,\"ticks\":\"\",\"zerolinecolor\":\"white\",\"gridwidth\":2}},\"shapedefaults\":{\"line\":{\"color\":\"#2a3f5f\"}},\"annotationdefaults\":{\"arrowcolor\":\"#2a3f5f\",\"arrowhead\":0,\"arrowwidth\":1},\"geo\":{\"bgcolor\":\"white\",\"landcolor\":\"#E5ECF6\",\"subunitcolor\":\"white\",\"showland\":true,\"showlakes\":true,\"lakecolor\":\"white\"},\"title\":{\"x\":0.05},\"mapbox\":{\"style\":\"light\"}}},\"margin\":{\"l\":20,\"r\":20,\"t\":20,\"b\":20},\"font\":{\"family\":\"Arial\",\"size\":22,\"color\":\"Black\"}},                        {\"responsive\": true}                    ).then(function(){\n",
       "                            \n",
       "var gd = document.getElementById('d8bb844d-b09b-4276-9292-68da84602353');\n",
       "var x = new MutationObserver(function (mutations, observer) {{\n",
       "        var display = window.getComputedStyle(gd).display;\n",
       "        if (!display || display === 'none') {{\n",
       "            console.log([gd, 'removed!']);\n",
       "            Plotly.purge(gd);\n",
       "            observer.disconnect();\n",
       "        }}\n",
       "}});\n",
       "\n",
       "// Listen for the removal of the full notebook cells\n",
       "var notebookContainer = gd.closest('#notebook-container');\n",
       "if (notebookContainer) {{\n",
       "    x.observe(notebookContainer, {childList: true});\n",
       "}}\n",
       "\n",
       "// Listen for the clearing of the current output cell\n",
       "var outputEl = gd.closest('.output');\n",
       "if (outputEl) {{\n",
       "    x.observe(outputEl, {childList: true});\n",
       "}}\n",
       "\n",
       "                        })                };                });            </script>        </div>"
      ]
     },
     "metadata": {},
     "output_type": "display_data"
    },
    {
     "data": {
      "application/vnd.plotly.v1+json": {
       "config": {
        "plotlyServerURL": "https://plot.ly"
       },
       "data": [
        {
         "link": {
          "color": [
           "rgba(31,119,180, 0.4)",
           "rgba(255,127,14, 0.4)",
           "rgba(44,160,44, 0.4)",
           "rgba(214,39,40, 0.4)",
           "rgba(31,119,180, 0.4)",
           "rgba(255,127,14, 0.4)",
           "rgba(44,160,44, 0.4)",
           "rgba(214,39,40, 0.4)",
           "rgba(174,199,232, 0.4)",
           "rgba(255,187,120, 0.4)",
           "rgba(152,223,138, 0.4)",
           "rgba(255,152,150, 0.4)",
           "rgba(31,119,180, 0.4)",
           "rgba(255,127,14, 0.4)",
           "rgba(44,160,44, 0.4)",
           "rgba(214,39,40, 0.4)",
           "rgba(31,119,180, 0.4)",
           "rgba(255,127,14, 0.4)",
           "rgba(44,160,44, 0.4)",
           "rgba(214,39,40, 0.4)",
           "rgba(174,199,232, 0.4)",
           "rgba(255,187,120, 0.4)",
           "rgba(152,223,138, 0.4)",
           "rgba(255,152,150, 0.4)",
           "rgba(31,119,180, 0.4)",
           "rgba(255,127,14, 0.4)",
           "rgba(44,160,44, 0.4)",
           "rgba(214,39,40, 0.4)",
           "rgba(31,119,180, 0.4)",
           "rgba(255,127,14, 0.4)",
           "rgba(44,160,44, 0.4)",
           "rgba(214,39,40, 0.4)",
           "rgba(174,199,232, 0.4)",
           "rgba(255,187,120, 0.4)",
           "rgba(152,223,138, 0.4)",
           "rgba(255,152,150, 0.4)",
           "rgba(31,119,180, 0.4)",
           "rgba(255,127,14, 0.4)",
           "rgba(44,160,44, 0.4)",
           "rgba(214,39,40, 0.4)",
           "rgba(31,119,180, 0.4)",
           "rgba(255,127,14, 0.4)",
           "rgba(44,160,44, 0.4)",
           "rgba(214,39,40, 0.4)",
           "rgba(174,199,232, 0.4)",
           "rgba(255,187,120, 0.4)",
           "rgba(152,223,138, 0.4)",
           "rgba(255,152,150, 0.4)"
          ],
          "source": [
           0,
           0,
           0,
           0,
           0,
           0,
           0,
           0,
           1,
           1,
           1,
           1,
           1,
           1,
           1,
           1,
           2,
           2,
           2,
           2,
           2,
           2,
           2,
           2,
           3,
           3,
           3,
           3,
           3,
           3,
           3,
           3
          ],
          "target": [
           4,
           5,
           6,
           7,
           8,
           9,
           10,
           11,
           4,
           5,
           6,
           7,
           8,
           9,
           10,
           11,
           4,
           5,
           6,
           7,
           8,
           9,
           10,
           11,
           4,
           5,
           6,
           7,
           8,
           9,
           10,
           11
          ],
          "value": [
           118585235,
           0,
           0,
           0,
           0,
           268860964,
           0,
           9581866,
           0,
           73139821,
           0,
           0,
           0,
           391150537,
           438559,
           20840,
           0,
           0,
           71255405,
           0,
           0,
           3559171,
           297770700,
           9076,
           0,
           0,
           0,
           77222416,
           0,
           0,
           1,
           379014568
          ]
         },
         "node": {
          "color": [
           "#1f77b4",
           "#ff7f0e",
           "#2ca02c",
           "#d62728",
           "#1f77b4",
           "#ff7f0e",
           "#2ca02c",
           "#d62728",
           "#aec7e8",
           "#ffbb78",
           "#98df8a",
           "#ff9896"
          ],
          "label": [
           "EU<sub>u</sub>",
           "US-E<sub>u</sub>",
           "US-W<sub>u</sub>",
           "AP<sub>u</sub>",
           "EU<sub>e</sub>",
           "US-E<sub>e</sub>",
           "US-W<sub>e</sub>",
           "AP<sub>e</sub>",
           "EU<sub>c</sub>",
           "US-E<sub>c</sub>",
           "US-W<sub>c</sub>",
           "AP<sub>c</sub>"
          ],
          "line": {
           "color": "black",
           "width": 0.5
          },
          "pad": 15,
          "thickness": 20
         },
         "type": "sankey"
        }
       ],
       "layout": {
        "font": {
         "color": "Black",
         "family": "Arial",
         "size": 22
        },
        "margin": {
         "b": 20,
         "l": 20,
         "r": 20,
         "t": 20
        },
        "template": {
         "data": {
          "bar": [
           {
            "error_x": {
             "color": "#2a3f5f"
            },
            "error_y": {
             "color": "#2a3f5f"
            },
            "marker": {
             "line": {
              "color": "#E5ECF6",
              "width": 0.5
             },
             "pattern": {
              "fillmode": "overlay",
              "size": 10,
              "solidity": 0.2
             }
            },
            "type": "bar"
           }
          ],
          "barpolar": [
           {
            "marker": {
             "line": {
              "color": "#E5ECF6",
              "width": 0.5
             },
             "pattern": {
              "fillmode": "overlay",
              "size": 10,
              "solidity": 0.2
             }
            },
            "type": "barpolar"
           }
          ],
          "carpet": [
           {
            "aaxis": {
             "endlinecolor": "#2a3f5f",
             "gridcolor": "white",
             "linecolor": "white",
             "minorgridcolor": "white",
             "startlinecolor": "#2a3f5f"
            },
            "baxis": {
             "endlinecolor": "#2a3f5f",
             "gridcolor": "white",
             "linecolor": "white",
             "minorgridcolor": "white",
             "startlinecolor": "#2a3f5f"
            },
            "type": "carpet"
           }
          ],
          "choropleth": [
           {
            "colorbar": {
             "outlinewidth": 0,
             "ticks": ""
            },
            "type": "choropleth"
           }
          ],
          "contour": [
           {
            "colorbar": {
             "outlinewidth": 0,
             "ticks": ""
            },
            "colorscale": [
             [
              0,
              "#0d0887"
             ],
             [
              0.1111111111111111,
              "#46039f"
             ],
             [
              0.2222222222222222,
              "#7201a8"
             ],
             [
              0.3333333333333333,
              "#9c179e"
             ],
             [
              0.4444444444444444,
              "#bd3786"
             ],
             [
              0.5555555555555556,
              "#d8576b"
             ],
             [
              0.6666666666666666,
              "#ed7953"
             ],
             [
              0.7777777777777778,
              "#fb9f3a"
             ],
             [
              0.8888888888888888,
              "#fdca26"
             ],
             [
              1,
              "#f0f921"
             ]
            ],
            "type": "contour"
           }
          ],
          "contourcarpet": [
           {
            "colorbar": {
             "outlinewidth": 0,
             "ticks": ""
            },
            "type": "contourcarpet"
           }
          ],
          "heatmap": [
           {
            "colorbar": {
             "outlinewidth": 0,
             "ticks": ""
            },
            "colorscale": [
             [
              0,
              "#0d0887"
             ],
             [
              0.1111111111111111,
              "#46039f"
             ],
             [
              0.2222222222222222,
              "#7201a8"
             ],
             [
              0.3333333333333333,
              "#9c179e"
             ],
             [
              0.4444444444444444,
              "#bd3786"
             ],
             [
              0.5555555555555556,
              "#d8576b"
             ],
             [
              0.6666666666666666,
              "#ed7953"
             ],
             [
              0.7777777777777778,
              "#fb9f3a"
             ],
             [
              0.8888888888888888,
              "#fdca26"
             ],
             [
              1,
              "#f0f921"
             ]
            ],
            "type": "heatmap"
           }
          ],
          "heatmapgl": [
           {
            "colorbar": {
             "outlinewidth": 0,
             "ticks": ""
            },
            "colorscale": [
             [
              0,
              "#0d0887"
             ],
             [
              0.1111111111111111,
              "#46039f"
             ],
             [
              0.2222222222222222,
              "#7201a8"
             ],
             [
              0.3333333333333333,
              "#9c179e"
             ],
             [
              0.4444444444444444,
              "#bd3786"
             ],
             [
              0.5555555555555556,
              "#d8576b"
             ],
             [
              0.6666666666666666,
              "#ed7953"
             ],
             [
              0.7777777777777778,
              "#fb9f3a"
             ],
             [
              0.8888888888888888,
              "#fdca26"
             ],
             [
              1,
              "#f0f921"
             ]
            ],
            "type": "heatmapgl"
           }
          ],
          "histogram": [
           {
            "marker": {
             "pattern": {
              "fillmode": "overlay",
              "size": 10,
              "solidity": 0.2
             }
            },
            "type": "histogram"
           }
          ],
          "histogram2d": [
           {
            "colorbar": {
             "outlinewidth": 0,
             "ticks": ""
            },
            "colorscale": [
             [
              0,
              "#0d0887"
             ],
             [
              0.1111111111111111,
              "#46039f"
             ],
             [
              0.2222222222222222,
              "#7201a8"
             ],
             [
              0.3333333333333333,
              "#9c179e"
             ],
             [
              0.4444444444444444,
              "#bd3786"
             ],
             [
              0.5555555555555556,
              "#d8576b"
             ],
             [
              0.6666666666666666,
              "#ed7953"
             ],
             [
              0.7777777777777778,
              "#fb9f3a"
             ],
             [
              0.8888888888888888,
              "#fdca26"
             ],
             [
              1,
              "#f0f921"
             ]
            ],
            "type": "histogram2d"
           }
          ],
          "histogram2dcontour": [
           {
            "colorbar": {
             "outlinewidth": 0,
             "ticks": ""
            },
            "colorscale": [
             [
              0,
              "#0d0887"
             ],
             [
              0.1111111111111111,
              "#46039f"
             ],
             [
              0.2222222222222222,
              "#7201a8"
             ],
             [
              0.3333333333333333,
              "#9c179e"
             ],
             [
              0.4444444444444444,
              "#bd3786"
             ],
             [
              0.5555555555555556,
              "#d8576b"
             ],
             [
              0.6666666666666666,
              "#ed7953"
             ],
             [
              0.7777777777777778,
              "#fb9f3a"
             ],
             [
              0.8888888888888888,
              "#fdca26"
             ],
             [
              1,
              "#f0f921"
             ]
            ],
            "type": "histogram2dcontour"
           }
          ],
          "mesh3d": [
           {
            "colorbar": {
             "outlinewidth": 0,
             "ticks": ""
            },
            "type": "mesh3d"
           }
          ],
          "parcoords": [
           {
            "line": {
             "colorbar": {
              "outlinewidth": 0,
              "ticks": ""
             }
            },
            "type": "parcoords"
           }
          ],
          "pie": [
           {
            "automargin": true,
            "type": "pie"
           }
          ],
          "scatter": [
           {
            "fillpattern": {
             "fillmode": "overlay",
             "size": 10,
             "solidity": 0.2
            },
            "type": "scatter"
           }
          ],
          "scatter3d": [
           {
            "line": {
             "colorbar": {
              "outlinewidth": 0,
              "ticks": ""
             }
            },
            "marker": {
             "colorbar": {
              "outlinewidth": 0,
              "ticks": ""
             }
            },
            "type": "scatter3d"
           }
          ],
          "scattercarpet": [
           {
            "marker": {
             "colorbar": {
              "outlinewidth": 0,
              "ticks": ""
             }
            },
            "type": "scattercarpet"
           }
          ],
          "scattergeo": [
           {
            "marker": {
             "colorbar": {
              "outlinewidth": 0,
              "ticks": ""
             }
            },
            "type": "scattergeo"
           }
          ],
          "scattergl": [
           {
            "marker": {
             "colorbar": {
              "outlinewidth": 0,
              "ticks": ""
             }
            },
            "type": "scattergl"
           }
          ],
          "scattermapbox": [
           {
            "marker": {
             "colorbar": {
              "outlinewidth": 0,
              "ticks": ""
             }
            },
            "type": "scattermapbox"
           }
          ],
          "scatterpolar": [
           {
            "marker": {
             "colorbar": {
              "outlinewidth": 0,
              "ticks": ""
             }
            },
            "type": "scatterpolar"
           }
          ],
          "scatterpolargl": [
           {
            "marker": {
             "colorbar": {
              "outlinewidth": 0,
              "ticks": ""
             }
            },
            "type": "scatterpolargl"
           }
          ],
          "scatterternary": [
           {
            "marker": {
             "colorbar": {
              "outlinewidth": 0,
              "ticks": ""
             }
            },
            "type": "scatterternary"
           }
          ],
          "surface": [
           {
            "colorbar": {
             "outlinewidth": 0,
             "ticks": ""
            },
            "colorscale": [
             [
              0,
              "#0d0887"
             ],
             [
              0.1111111111111111,
              "#46039f"
             ],
             [
              0.2222222222222222,
              "#7201a8"
             ],
             [
              0.3333333333333333,
              "#9c179e"
             ],
             [
              0.4444444444444444,
              "#bd3786"
             ],
             [
              0.5555555555555556,
              "#d8576b"
             ],
             [
              0.6666666666666666,
              "#ed7953"
             ],
             [
              0.7777777777777778,
              "#fb9f3a"
             ],
             [
              0.8888888888888888,
              "#fdca26"
             ],
             [
              1,
              "#f0f921"
             ]
            ],
            "type": "surface"
           }
          ],
          "table": [
           {
            "cells": {
             "fill": {
              "color": "#EBF0F8"
             },
             "line": {
              "color": "white"
             }
            },
            "header": {
             "fill": {
              "color": "#C8D4E3"
             },
             "line": {
              "color": "white"
             }
            },
            "type": "table"
           }
          ]
         },
         "layout": {
          "annotationdefaults": {
           "arrowcolor": "#2a3f5f",
           "arrowhead": 0,
           "arrowwidth": 1
          },
          "autotypenumbers": "strict",
          "coloraxis": {
           "colorbar": {
            "outlinewidth": 0,
            "ticks": ""
           }
          },
          "colorscale": {
           "diverging": [
            [
             0,
             "#8e0152"
            ],
            [
             0.1,
             "#c51b7d"
            ],
            [
             0.2,
             "#de77ae"
            ],
            [
             0.3,
             "#f1b6da"
            ],
            [
             0.4,
             "#fde0ef"
            ],
            [
             0.5,
             "#f7f7f7"
            ],
            [
             0.6,
             "#e6f5d0"
            ],
            [
             0.7,
             "#b8e186"
            ],
            [
             0.8,
             "#7fbc41"
            ],
            [
             0.9,
             "#4d9221"
            ],
            [
             1,
             "#276419"
            ]
           ],
           "sequential": [
            [
             0,
             "#0d0887"
            ],
            [
             0.1111111111111111,
             "#46039f"
            ],
            [
             0.2222222222222222,
             "#7201a8"
            ],
            [
             0.3333333333333333,
             "#9c179e"
            ],
            [
             0.4444444444444444,
             "#bd3786"
            ],
            [
             0.5555555555555556,
             "#d8576b"
            ],
            [
             0.6666666666666666,
             "#ed7953"
            ],
            [
             0.7777777777777778,
             "#fb9f3a"
            ],
            [
             0.8888888888888888,
             "#fdca26"
            ],
            [
             1,
             "#f0f921"
            ]
           ],
           "sequentialminus": [
            [
             0,
             "#0d0887"
            ],
            [
             0.1111111111111111,
             "#46039f"
            ],
            [
             0.2222222222222222,
             "#7201a8"
            ],
            [
             0.3333333333333333,
             "#9c179e"
            ],
            [
             0.4444444444444444,
             "#bd3786"
            ],
            [
             0.5555555555555556,
             "#d8576b"
            ],
            [
             0.6666666666666666,
             "#ed7953"
            ],
            [
             0.7777777777777778,
             "#fb9f3a"
            ],
            [
             0.8888888888888888,
             "#fdca26"
            ],
            [
             1,
             "#f0f921"
            ]
           ]
          },
          "colorway": [
           "#636efa",
           "#EF553B",
           "#00cc96",
           "#ab63fa",
           "#FFA15A",
           "#19d3f3",
           "#FF6692",
           "#B6E880",
           "#FF97FF",
           "#FECB52"
          ],
          "font": {
           "color": "#2a3f5f"
          },
          "geo": {
           "bgcolor": "white",
           "lakecolor": "white",
           "landcolor": "#E5ECF6",
           "showlakes": true,
           "showland": true,
           "subunitcolor": "white"
          },
          "hoverlabel": {
           "align": "left"
          },
          "hovermode": "closest",
          "mapbox": {
           "style": "light"
          },
          "paper_bgcolor": "white",
          "plot_bgcolor": "#E5ECF6",
          "polar": {
           "angularaxis": {
            "gridcolor": "white",
            "linecolor": "white",
            "ticks": ""
           },
           "bgcolor": "#E5ECF6",
           "radialaxis": {
            "gridcolor": "white",
            "linecolor": "white",
            "ticks": ""
           }
          },
          "scene": {
           "xaxis": {
            "backgroundcolor": "#E5ECF6",
            "gridcolor": "white",
            "gridwidth": 2,
            "linecolor": "white",
            "showbackground": true,
            "ticks": "",
            "zerolinecolor": "white"
           },
           "yaxis": {
            "backgroundcolor": "#E5ECF6",
            "gridcolor": "white",
            "gridwidth": 2,
            "linecolor": "white",
            "showbackground": true,
            "ticks": "",
            "zerolinecolor": "white"
           },
           "zaxis": {
            "backgroundcolor": "#E5ECF6",
            "gridcolor": "white",
            "gridwidth": 2,
            "linecolor": "white",
            "showbackground": true,
            "ticks": "",
            "zerolinecolor": "white"
           }
          },
          "shapedefaults": {
           "line": {
            "color": "#2a3f5f"
           }
          },
          "ternary": {
           "aaxis": {
            "gridcolor": "white",
            "linecolor": "white",
            "ticks": ""
           },
           "baxis": {
            "gridcolor": "white",
            "linecolor": "white",
            "ticks": ""
           },
           "bgcolor": "#E5ECF6",
           "caxis": {
            "gridcolor": "white",
            "linecolor": "white",
            "ticks": ""
           }
          },
          "title": {
           "x": 0.05
          },
          "xaxis": {
           "automargin": true,
           "gridcolor": "white",
           "linecolor": "white",
           "ticks": "",
           "title": {
            "standoff": 15
           },
           "zerolinecolor": "white",
           "zerolinewidth": 2
          },
          "yaxis": {
           "automargin": true,
           "gridcolor": "white",
           "linecolor": "white",
           "ticks": "",
           "title": {
            "standoff": 15
           },
           "zerolinecolor": "white",
           "zerolinewidth": 2
          }
         }
        }
       }
      },
      "text/html": [
       "<div>                            <div id=\"3af90ecd-3d13-479a-a3ca-9322ca35c55f\" class=\"plotly-graph-div\" style=\"height:525px; width:100%;\"></div>            <script type=\"text/javascript\">                require([\"plotly\"], function(Plotly) {                    window.PLOTLYENV=window.PLOTLYENV || {};                                    if (document.getElementById(\"3af90ecd-3d13-479a-a3ca-9322ca35c55f\")) {                    Plotly.newPlot(                        \"3af90ecd-3d13-479a-a3ca-9322ca35c55f\",                        [{\"link\":{\"color\":[\"rgba(31,119,180, 0.4)\",\"rgba(255,127,14, 0.4)\",\"rgba(44,160,44, 0.4)\",\"rgba(214,39,40, 0.4)\",\"rgba(31,119,180, 0.4)\",\"rgba(255,127,14, 0.4)\",\"rgba(44,160,44, 0.4)\",\"rgba(214,39,40, 0.4)\",\"rgba(174,199,232, 0.4)\",\"rgba(255,187,120, 0.4)\",\"rgba(152,223,138, 0.4)\",\"rgba(255,152,150, 0.4)\",\"rgba(31,119,180, 0.4)\",\"rgba(255,127,14, 0.4)\",\"rgba(44,160,44, 0.4)\",\"rgba(214,39,40, 0.4)\",\"rgba(31,119,180, 0.4)\",\"rgba(255,127,14, 0.4)\",\"rgba(44,160,44, 0.4)\",\"rgba(214,39,40, 0.4)\",\"rgba(174,199,232, 0.4)\",\"rgba(255,187,120, 0.4)\",\"rgba(152,223,138, 0.4)\",\"rgba(255,152,150, 0.4)\",\"rgba(31,119,180, 0.4)\",\"rgba(255,127,14, 0.4)\",\"rgba(44,160,44, 0.4)\",\"rgba(214,39,40, 0.4)\",\"rgba(31,119,180, 0.4)\",\"rgba(255,127,14, 0.4)\",\"rgba(44,160,44, 0.4)\",\"rgba(214,39,40, 0.4)\",\"rgba(174,199,232, 0.4)\",\"rgba(255,187,120, 0.4)\",\"rgba(152,223,138, 0.4)\",\"rgba(255,152,150, 0.4)\",\"rgba(31,119,180, 0.4)\",\"rgba(255,127,14, 0.4)\",\"rgba(44,160,44, 0.4)\",\"rgba(214,39,40, 0.4)\",\"rgba(31,119,180, 0.4)\",\"rgba(255,127,14, 0.4)\",\"rgba(44,160,44, 0.4)\",\"rgba(214,39,40, 0.4)\",\"rgba(174,199,232, 0.4)\",\"rgba(255,187,120, 0.4)\",\"rgba(152,223,138, 0.4)\",\"rgba(255,152,150, 0.4)\"],\"source\":[0,0,0,0,0,0,0,0,1,1,1,1,1,1,1,1,2,2,2,2,2,2,2,2,3,3,3,3,3,3,3,3],\"target\":[4,5,6,7,8,9,10,11,4,5,6,7,8,9,10,11,4,5,6,7,8,9,10,11,4,5,6,7,8,9,10,11],\"value\":[118585235,0,0,0,0,268860964,0,9581866,0,73139821,0,0,0,391150537,438559,20840,0,0,71255405,0,0,3559171,297770700,9076,0,0,0,77222416,0,0,1,379014568]},\"node\":{\"color\":[\"#1f77b4\",\"#ff7f0e\",\"#2ca02c\",\"#d62728\",\"#1f77b4\",\"#ff7f0e\",\"#2ca02c\",\"#d62728\",\"#aec7e8\",\"#ffbb78\",\"#98df8a\",\"#ff9896\"],\"label\":[\"EU<sub>u</sub>\",\"US-E<sub>u</sub>\",\"US-W<sub>u</sub>\",\"AP<sub>u</sub>\",\"EU<sub>e</sub>\",\"US-E<sub>e</sub>\",\"US-W<sub>e</sub>\",\"AP<sub>e</sub>\",\"EU<sub>c</sub>\",\"US-E<sub>c</sub>\",\"US-W<sub>c</sub>\",\"AP<sub>c</sub>\"],\"line\":{\"color\":\"black\",\"width\":0.5},\"pad\":15,\"thickness\":20},\"type\":\"sankey\"}],                        {\"template\":{\"data\":{\"histogram2dcontour\":[{\"type\":\"histogram2dcontour\",\"colorbar\":{\"outlinewidth\":0,\"ticks\":\"\"},\"colorscale\":[[0.0,\"#0d0887\"],[0.1111111111111111,\"#46039f\"],[0.2222222222222222,\"#7201a8\"],[0.3333333333333333,\"#9c179e\"],[0.4444444444444444,\"#bd3786\"],[0.5555555555555556,\"#d8576b\"],[0.6666666666666666,\"#ed7953\"],[0.7777777777777778,\"#fb9f3a\"],[0.8888888888888888,\"#fdca26\"],[1.0,\"#f0f921\"]]}],\"choropleth\":[{\"type\":\"choropleth\",\"colorbar\":{\"outlinewidth\":0,\"ticks\":\"\"}}],\"histogram2d\":[{\"type\":\"histogram2d\",\"colorbar\":{\"outlinewidth\":0,\"ticks\":\"\"},\"colorscale\":[[0.0,\"#0d0887\"],[0.1111111111111111,\"#46039f\"],[0.2222222222222222,\"#7201a8\"],[0.3333333333333333,\"#9c179e\"],[0.4444444444444444,\"#bd3786\"],[0.5555555555555556,\"#d8576b\"],[0.6666666666666666,\"#ed7953\"],[0.7777777777777778,\"#fb9f3a\"],[0.8888888888888888,\"#fdca26\"],[1.0,\"#f0f921\"]]}],\"heatmap\":[{\"type\":\"heatmap\",\"colorbar\":{\"outlinewidth\":0,\"ticks\":\"\"},\"colorscale\":[[0.0,\"#0d0887\"],[0.1111111111111111,\"#46039f\"],[0.2222222222222222,\"#7201a8\"],[0.3333333333333333,\"#9c179e\"],[0.4444444444444444,\"#bd3786\"],[0.5555555555555556,\"#d8576b\"],[0.6666666666666666,\"#ed7953\"],[0.7777777777777778,\"#fb9f3a\"],[0.8888888888888888,\"#fdca26\"],[1.0,\"#f0f921\"]]}],\"heatmapgl\":[{\"type\":\"heatmapgl\",\"colorbar\":{\"outlinewidth\":0,\"ticks\":\"\"},\"colorscale\":[[0.0,\"#0d0887\"],[0.1111111111111111,\"#46039f\"],[0.2222222222222222,\"#7201a8\"],[0.3333333333333333,\"#9c179e\"],[0.4444444444444444,\"#bd3786\"],[0.5555555555555556,\"#d8576b\"],[0.6666666666666666,\"#ed7953\"],[0.7777777777777778,\"#fb9f3a\"],[0.8888888888888888,\"#fdca26\"],[1.0,\"#f0f921\"]]}],\"contourcarpet\":[{\"type\":\"contourcarpet\",\"colorbar\":{\"outlinewidth\":0,\"ticks\":\"\"}}],\"contour\":[{\"type\":\"contour\",\"colorbar\":{\"outlinewidth\":0,\"ticks\":\"\"},\"colorscale\":[[0.0,\"#0d0887\"],[0.1111111111111111,\"#46039f\"],[0.2222222222222222,\"#7201a8\"],[0.3333333333333333,\"#9c179e\"],[0.4444444444444444,\"#bd3786\"],[0.5555555555555556,\"#d8576b\"],[0.6666666666666666,\"#ed7953\"],[0.7777777777777778,\"#fb9f3a\"],[0.8888888888888888,\"#fdca26\"],[1.0,\"#f0f921\"]]}],\"surface\":[{\"type\":\"surface\",\"colorbar\":{\"outlinewidth\":0,\"ticks\":\"\"},\"colorscale\":[[0.0,\"#0d0887\"],[0.1111111111111111,\"#46039f\"],[0.2222222222222222,\"#7201a8\"],[0.3333333333333333,\"#9c179e\"],[0.4444444444444444,\"#bd3786\"],[0.5555555555555556,\"#d8576b\"],[0.6666666666666666,\"#ed7953\"],[0.7777777777777778,\"#fb9f3a\"],[0.8888888888888888,\"#fdca26\"],[1.0,\"#f0f921\"]]}],\"mesh3d\":[{\"type\":\"mesh3d\",\"colorbar\":{\"outlinewidth\":0,\"ticks\":\"\"}}],\"scatter\":[{\"fillpattern\":{\"fillmode\":\"overlay\",\"size\":10,\"solidity\":0.2},\"type\":\"scatter\"}],\"parcoords\":[{\"type\":\"parcoords\",\"line\":{\"colorbar\":{\"outlinewidth\":0,\"ticks\":\"\"}}}],\"scatterpolargl\":[{\"type\":\"scatterpolargl\",\"marker\":{\"colorbar\":{\"outlinewidth\":0,\"ticks\":\"\"}}}],\"bar\":[{\"error_x\":{\"color\":\"#2a3f5f\"},\"error_y\":{\"color\":\"#2a3f5f\"},\"marker\":{\"line\":{\"color\":\"#E5ECF6\",\"width\":0.5},\"pattern\":{\"fillmode\":\"overlay\",\"size\":10,\"solidity\":0.2}},\"type\":\"bar\"}],\"scattergeo\":[{\"type\":\"scattergeo\",\"marker\":{\"colorbar\":{\"outlinewidth\":0,\"ticks\":\"\"}}}],\"scatterpolar\":[{\"type\":\"scatterpolar\",\"marker\":{\"colorbar\":{\"outlinewidth\":0,\"ticks\":\"\"}}}],\"histogram\":[{\"marker\":{\"pattern\":{\"fillmode\":\"overlay\",\"size\":10,\"solidity\":0.2}},\"type\":\"histogram\"}],\"scattergl\":[{\"type\":\"scattergl\",\"marker\":{\"colorbar\":{\"outlinewidth\":0,\"ticks\":\"\"}}}],\"scatter3d\":[{\"type\":\"scatter3d\",\"line\":{\"colorbar\":{\"outlinewidth\":0,\"ticks\":\"\"}},\"marker\":{\"colorbar\":{\"outlinewidth\":0,\"ticks\":\"\"}}}],\"scattermapbox\":[{\"type\":\"scattermapbox\",\"marker\":{\"colorbar\":{\"outlinewidth\":0,\"ticks\":\"\"}}}],\"scatterternary\":[{\"type\":\"scatterternary\",\"marker\":{\"colorbar\":{\"outlinewidth\":0,\"ticks\":\"\"}}}],\"scattercarpet\":[{\"type\":\"scattercarpet\",\"marker\":{\"colorbar\":{\"outlinewidth\":0,\"ticks\":\"\"}}}],\"carpet\":[{\"aaxis\":{\"endlinecolor\":\"#2a3f5f\",\"gridcolor\":\"white\",\"linecolor\":\"white\",\"minorgridcolor\":\"white\",\"startlinecolor\":\"#2a3f5f\"},\"baxis\":{\"endlinecolor\":\"#2a3f5f\",\"gridcolor\":\"white\",\"linecolor\":\"white\",\"minorgridcolor\":\"white\",\"startlinecolor\":\"#2a3f5f\"},\"type\":\"carpet\"}],\"table\":[{\"cells\":{\"fill\":{\"color\":\"#EBF0F8\"},\"line\":{\"color\":\"white\"}},\"header\":{\"fill\":{\"color\":\"#C8D4E3\"},\"line\":{\"color\":\"white\"}},\"type\":\"table\"}],\"barpolar\":[{\"marker\":{\"line\":{\"color\":\"#E5ECF6\",\"width\":0.5},\"pattern\":{\"fillmode\":\"overlay\",\"size\":10,\"solidity\":0.2}},\"type\":\"barpolar\"}],\"pie\":[{\"automargin\":true,\"type\":\"pie\"}]},\"layout\":{\"autotypenumbers\":\"strict\",\"colorway\":[\"#636efa\",\"#EF553B\",\"#00cc96\",\"#ab63fa\",\"#FFA15A\",\"#19d3f3\",\"#FF6692\",\"#B6E880\",\"#FF97FF\",\"#FECB52\"],\"font\":{\"color\":\"#2a3f5f\"},\"hovermode\":\"closest\",\"hoverlabel\":{\"align\":\"left\"},\"paper_bgcolor\":\"white\",\"plot_bgcolor\":\"#E5ECF6\",\"polar\":{\"bgcolor\":\"#E5ECF6\",\"angularaxis\":{\"gridcolor\":\"white\",\"linecolor\":\"white\",\"ticks\":\"\"},\"radialaxis\":{\"gridcolor\":\"white\",\"linecolor\":\"white\",\"ticks\":\"\"}},\"ternary\":{\"bgcolor\":\"#E5ECF6\",\"aaxis\":{\"gridcolor\":\"white\",\"linecolor\":\"white\",\"ticks\":\"\"},\"baxis\":{\"gridcolor\":\"white\",\"linecolor\":\"white\",\"ticks\":\"\"},\"caxis\":{\"gridcolor\":\"white\",\"linecolor\":\"white\",\"ticks\":\"\"}},\"coloraxis\":{\"colorbar\":{\"outlinewidth\":0,\"ticks\":\"\"}},\"colorscale\":{\"sequential\":[[0.0,\"#0d0887\"],[0.1111111111111111,\"#46039f\"],[0.2222222222222222,\"#7201a8\"],[0.3333333333333333,\"#9c179e\"],[0.4444444444444444,\"#bd3786\"],[0.5555555555555556,\"#d8576b\"],[0.6666666666666666,\"#ed7953\"],[0.7777777777777778,\"#fb9f3a\"],[0.8888888888888888,\"#fdca26\"],[1.0,\"#f0f921\"]],\"sequentialminus\":[[0.0,\"#0d0887\"],[0.1111111111111111,\"#46039f\"],[0.2222222222222222,\"#7201a8\"],[0.3333333333333333,\"#9c179e\"],[0.4444444444444444,\"#bd3786\"],[0.5555555555555556,\"#d8576b\"],[0.6666666666666666,\"#ed7953\"],[0.7777777777777778,\"#fb9f3a\"],[0.8888888888888888,\"#fdca26\"],[1.0,\"#f0f921\"]],\"diverging\":[[0,\"#8e0152\"],[0.1,\"#c51b7d\"],[0.2,\"#de77ae\"],[0.3,\"#f1b6da\"],[0.4,\"#fde0ef\"],[0.5,\"#f7f7f7\"],[0.6,\"#e6f5d0\"],[0.7,\"#b8e186\"],[0.8,\"#7fbc41\"],[0.9,\"#4d9221\"],[1,\"#276419\"]]},\"xaxis\":{\"gridcolor\":\"white\",\"linecolor\":\"white\",\"ticks\":\"\",\"title\":{\"standoff\":15},\"zerolinecolor\":\"white\",\"automargin\":true,\"zerolinewidth\":2},\"yaxis\":{\"gridcolor\":\"white\",\"linecolor\":\"white\",\"ticks\":\"\",\"title\":{\"standoff\":15},\"zerolinecolor\":\"white\",\"automargin\":true,\"zerolinewidth\":2},\"scene\":{\"xaxis\":{\"backgroundcolor\":\"#E5ECF6\",\"gridcolor\":\"white\",\"linecolor\":\"white\",\"showbackground\":true,\"ticks\":\"\",\"zerolinecolor\":\"white\",\"gridwidth\":2},\"yaxis\":{\"backgroundcolor\":\"#E5ECF6\",\"gridcolor\":\"white\",\"linecolor\":\"white\",\"showbackground\":true,\"ticks\":\"\",\"zerolinecolor\":\"white\",\"gridwidth\":2},\"zaxis\":{\"backgroundcolor\":\"#E5ECF6\",\"gridcolor\":\"white\",\"linecolor\":\"white\",\"showbackground\":true,\"ticks\":\"\",\"zerolinecolor\":\"white\",\"gridwidth\":2}},\"shapedefaults\":{\"line\":{\"color\":\"#2a3f5f\"}},\"annotationdefaults\":{\"arrowcolor\":\"#2a3f5f\",\"arrowhead\":0,\"arrowwidth\":1},\"geo\":{\"bgcolor\":\"white\",\"landcolor\":\"#E5ECF6\",\"subunitcolor\":\"white\",\"showland\":true,\"showlakes\":true,\"lakecolor\":\"white\"},\"title\":{\"x\":0.05},\"mapbox\":{\"style\":\"light\"}}},\"margin\":{\"l\":20,\"r\":20,\"t\":20,\"b\":20},\"font\":{\"family\":\"Arial\",\"size\":22,\"color\":\"Black\"}},                        {\"responsive\": true}                    ).then(function(){\n",
       "                            \n",
       "var gd = document.getElementById('3af90ecd-3d13-479a-a3ca-9322ca35c55f');\n",
       "var x = new MutationObserver(function (mutations, observer) {{\n",
       "        var display = window.getComputedStyle(gd).display;\n",
       "        if (!display || display === 'none') {{\n",
       "            console.log([gd, 'removed!']);\n",
       "            Plotly.purge(gd);\n",
       "            observer.disconnect();\n",
       "        }}\n",
       "}});\n",
       "\n",
       "// Listen for the removal of the full notebook cells\n",
       "var notebookContainer = gd.closest('#notebook-container');\n",
       "if (notebookContainer) {{\n",
       "    x.observe(notebookContainer, {childList: true});\n",
       "}}\n",
       "\n",
       "// Listen for the clearing of the current output cell\n",
       "var outputEl = gd.closest('.output');\n",
       "if (outputEl) {{\n",
       "    x.observe(outputEl, {childList: true});\n",
       "}}\n",
       "\n",
       "                        })                };                });            </script>        </div>"
      ]
     },
     "metadata": {},
     "output_type": "display_data"
    },
    {
     "data": {
      "application/vnd.plotly.v1+json": {
       "config": {
        "plotlyServerURL": "https://plot.ly"
       },
       "data": [
        {
         "link": {
          "color": [
           "rgba(31,119,180, 0.4)",
           "rgba(255,127,14, 0.4)",
           "rgba(44,160,44, 0.4)",
           "rgba(214,39,40, 0.4)",
           "rgba(31,119,180, 0.4)",
           "rgba(255,127,14, 0.4)",
           "rgba(44,160,44, 0.4)",
           "rgba(214,39,40, 0.4)",
           "rgba(174,199,232, 0.4)",
           "rgba(255,187,120, 0.4)",
           "rgba(152,223,138, 0.4)",
           "rgba(255,152,150, 0.4)",
           "rgba(31,119,180, 0.4)",
           "rgba(255,127,14, 0.4)",
           "rgba(44,160,44, 0.4)",
           "rgba(214,39,40, 0.4)",
           "rgba(31,119,180, 0.4)",
           "rgba(255,127,14, 0.4)",
           "rgba(44,160,44, 0.4)",
           "rgba(214,39,40, 0.4)",
           "rgba(174,199,232, 0.4)",
           "rgba(255,187,120, 0.4)",
           "rgba(152,223,138, 0.4)",
           "rgba(255,152,150, 0.4)",
           "rgba(31,119,180, 0.4)",
           "rgba(255,127,14, 0.4)",
           "rgba(44,160,44, 0.4)",
           "rgba(214,39,40, 0.4)",
           "rgba(31,119,180, 0.4)",
           "rgba(255,127,14, 0.4)",
           "rgba(44,160,44, 0.4)",
           "rgba(214,39,40, 0.4)",
           "rgba(174,199,232, 0.4)",
           "rgba(255,187,120, 0.4)",
           "rgba(152,223,138, 0.4)",
           "rgba(255,152,150, 0.4)",
           "rgba(31,119,180, 0.4)",
           "rgba(255,127,14, 0.4)",
           "rgba(44,160,44, 0.4)",
           "rgba(214,39,40, 0.4)",
           "rgba(31,119,180, 0.4)",
           "rgba(255,127,14, 0.4)",
           "rgba(44,160,44, 0.4)",
           "rgba(214,39,40, 0.4)",
           "rgba(174,199,232, 0.4)",
           "rgba(255,187,120, 0.4)",
           "rgba(152,223,138, 0.4)",
           "rgba(255,152,150, 0.4)"
          ],
          "source": [
           0,
           0,
           0,
           0,
           0,
           0,
           0,
           0,
           1,
           1,
           1,
           1,
           1,
           1,
           1,
           1,
           2,
           2,
           2,
           2,
           2,
           2,
           2,
           2,
           3,
           3,
           3,
           3,
           3,
           3,
           3,
           3
          ],
          "target": [
           4,
           5,
           6,
           7,
           8,
           9,
           10,
           11,
           4,
           5,
           6,
           7,
           8,
           9,
           10,
           11,
           4,
           5,
           6,
           7,
           8,
           9,
           10,
           11,
           4,
           5,
           6,
           7,
           8,
           9,
           10,
           11
          ],
          "value": [
           397028065,
           0,
           0,
           0,
           0,
           0,
           0,
           0,
           0,
           464749757,
           0,
           0,
           0,
           0,
           0,
           0,
           0,
           0,
           372594352,
           0,
           0,
           0,
           0,
           0,
           0,
           0,
           0,
           456236985,
           0,
           0,
           0,
           0
          ]
         },
         "node": {
          "color": [
           "#1f77b4",
           "#ff7f0e",
           "#2ca02c",
           "#d62728",
           "#1f77b4",
           "#ff7f0e",
           "#2ca02c",
           "#d62728",
           "#aec7e8",
           "#ffbb78",
           "#98df8a",
           "#ff9896"
          ],
          "label": [
           "EU<sub>u</sub>",
           "US-E<sub>u</sub>",
           "US-W<sub>u</sub>",
           "AP<sub>u</sub>",
           "EU<sub>e</sub>",
           "US-E<sub>e</sub>",
           "US-W<sub>e</sub>",
           "AP<sub>e</sub>",
           "EU<sub>c</sub>",
           "US-E<sub>c</sub>",
           "US-W<sub>c</sub>",
           "AP<sub>c</sub>"
          ],
          "line": {
           "color": "black",
           "width": 0.5
          },
          "pad": 15,
          "thickness": 20
         },
         "type": "sankey"
        }
       ],
       "layout": {
        "font": {
         "color": "Black",
         "family": "Arial",
         "size": 22
        },
        "margin": {
         "b": 20,
         "l": 20,
         "r": 20,
         "t": 20
        },
        "template": {
         "data": {
          "bar": [
           {
            "error_x": {
             "color": "#2a3f5f"
            },
            "error_y": {
             "color": "#2a3f5f"
            },
            "marker": {
             "line": {
              "color": "#E5ECF6",
              "width": 0.5
             },
             "pattern": {
              "fillmode": "overlay",
              "size": 10,
              "solidity": 0.2
             }
            },
            "type": "bar"
           }
          ],
          "barpolar": [
           {
            "marker": {
             "line": {
              "color": "#E5ECF6",
              "width": 0.5
             },
             "pattern": {
              "fillmode": "overlay",
              "size": 10,
              "solidity": 0.2
             }
            },
            "type": "barpolar"
           }
          ],
          "carpet": [
           {
            "aaxis": {
             "endlinecolor": "#2a3f5f",
             "gridcolor": "white",
             "linecolor": "white",
             "minorgridcolor": "white",
             "startlinecolor": "#2a3f5f"
            },
            "baxis": {
             "endlinecolor": "#2a3f5f",
             "gridcolor": "white",
             "linecolor": "white",
             "minorgridcolor": "white",
             "startlinecolor": "#2a3f5f"
            },
            "type": "carpet"
           }
          ],
          "choropleth": [
           {
            "colorbar": {
             "outlinewidth": 0,
             "ticks": ""
            },
            "type": "choropleth"
           }
          ],
          "contour": [
           {
            "colorbar": {
             "outlinewidth": 0,
             "ticks": ""
            },
            "colorscale": [
             [
              0,
              "#0d0887"
             ],
             [
              0.1111111111111111,
              "#46039f"
             ],
             [
              0.2222222222222222,
              "#7201a8"
             ],
             [
              0.3333333333333333,
              "#9c179e"
             ],
             [
              0.4444444444444444,
              "#bd3786"
             ],
             [
              0.5555555555555556,
              "#d8576b"
             ],
             [
              0.6666666666666666,
              "#ed7953"
             ],
             [
              0.7777777777777778,
              "#fb9f3a"
             ],
             [
              0.8888888888888888,
              "#fdca26"
             ],
             [
              1,
              "#f0f921"
             ]
            ],
            "type": "contour"
           }
          ],
          "contourcarpet": [
           {
            "colorbar": {
             "outlinewidth": 0,
             "ticks": ""
            },
            "type": "contourcarpet"
           }
          ],
          "heatmap": [
           {
            "colorbar": {
             "outlinewidth": 0,
             "ticks": ""
            },
            "colorscale": [
             [
              0,
              "#0d0887"
             ],
             [
              0.1111111111111111,
              "#46039f"
             ],
             [
              0.2222222222222222,
              "#7201a8"
             ],
             [
              0.3333333333333333,
              "#9c179e"
             ],
             [
              0.4444444444444444,
              "#bd3786"
             ],
             [
              0.5555555555555556,
              "#d8576b"
             ],
             [
              0.6666666666666666,
              "#ed7953"
             ],
             [
              0.7777777777777778,
              "#fb9f3a"
             ],
             [
              0.8888888888888888,
              "#fdca26"
             ],
             [
              1,
              "#f0f921"
             ]
            ],
            "type": "heatmap"
           }
          ],
          "heatmapgl": [
           {
            "colorbar": {
             "outlinewidth": 0,
             "ticks": ""
            },
            "colorscale": [
             [
              0,
              "#0d0887"
             ],
             [
              0.1111111111111111,
              "#46039f"
             ],
             [
              0.2222222222222222,
              "#7201a8"
             ],
             [
              0.3333333333333333,
              "#9c179e"
             ],
             [
              0.4444444444444444,
              "#bd3786"
             ],
             [
              0.5555555555555556,
              "#d8576b"
             ],
             [
              0.6666666666666666,
              "#ed7953"
             ],
             [
              0.7777777777777778,
              "#fb9f3a"
             ],
             [
              0.8888888888888888,
              "#fdca26"
             ],
             [
              1,
              "#f0f921"
             ]
            ],
            "type": "heatmapgl"
           }
          ],
          "histogram": [
           {
            "marker": {
             "pattern": {
              "fillmode": "overlay",
              "size": 10,
              "solidity": 0.2
             }
            },
            "type": "histogram"
           }
          ],
          "histogram2d": [
           {
            "colorbar": {
             "outlinewidth": 0,
             "ticks": ""
            },
            "colorscale": [
             [
              0,
              "#0d0887"
             ],
             [
              0.1111111111111111,
              "#46039f"
             ],
             [
              0.2222222222222222,
              "#7201a8"
             ],
             [
              0.3333333333333333,
              "#9c179e"
             ],
             [
              0.4444444444444444,
              "#bd3786"
             ],
             [
              0.5555555555555556,
              "#d8576b"
             ],
             [
              0.6666666666666666,
              "#ed7953"
             ],
             [
              0.7777777777777778,
              "#fb9f3a"
             ],
             [
              0.8888888888888888,
              "#fdca26"
             ],
             [
              1,
              "#f0f921"
             ]
            ],
            "type": "histogram2d"
           }
          ],
          "histogram2dcontour": [
           {
            "colorbar": {
             "outlinewidth": 0,
             "ticks": ""
            },
            "colorscale": [
             [
              0,
              "#0d0887"
             ],
             [
              0.1111111111111111,
              "#46039f"
             ],
             [
              0.2222222222222222,
              "#7201a8"
             ],
             [
              0.3333333333333333,
              "#9c179e"
             ],
             [
              0.4444444444444444,
              "#bd3786"
             ],
             [
              0.5555555555555556,
              "#d8576b"
             ],
             [
              0.6666666666666666,
              "#ed7953"
             ],
             [
              0.7777777777777778,
              "#fb9f3a"
             ],
             [
              0.8888888888888888,
              "#fdca26"
             ],
             [
              1,
              "#f0f921"
             ]
            ],
            "type": "histogram2dcontour"
           }
          ],
          "mesh3d": [
           {
            "colorbar": {
             "outlinewidth": 0,
             "ticks": ""
            },
            "type": "mesh3d"
           }
          ],
          "parcoords": [
           {
            "line": {
             "colorbar": {
              "outlinewidth": 0,
              "ticks": ""
             }
            },
            "type": "parcoords"
           }
          ],
          "pie": [
           {
            "automargin": true,
            "type": "pie"
           }
          ],
          "scatter": [
           {
            "fillpattern": {
             "fillmode": "overlay",
             "size": 10,
             "solidity": 0.2
            },
            "type": "scatter"
           }
          ],
          "scatter3d": [
           {
            "line": {
             "colorbar": {
              "outlinewidth": 0,
              "ticks": ""
             }
            },
            "marker": {
             "colorbar": {
              "outlinewidth": 0,
              "ticks": ""
             }
            },
            "type": "scatter3d"
           }
          ],
          "scattercarpet": [
           {
            "marker": {
             "colorbar": {
              "outlinewidth": 0,
              "ticks": ""
             }
            },
            "type": "scattercarpet"
           }
          ],
          "scattergeo": [
           {
            "marker": {
             "colorbar": {
              "outlinewidth": 0,
              "ticks": ""
             }
            },
            "type": "scattergeo"
           }
          ],
          "scattergl": [
           {
            "marker": {
             "colorbar": {
              "outlinewidth": 0,
              "ticks": ""
             }
            },
            "type": "scattergl"
           }
          ],
          "scattermapbox": [
           {
            "marker": {
             "colorbar": {
              "outlinewidth": 0,
              "ticks": ""
             }
            },
            "type": "scattermapbox"
           }
          ],
          "scatterpolar": [
           {
            "marker": {
             "colorbar": {
              "outlinewidth": 0,
              "ticks": ""
             }
            },
            "type": "scatterpolar"
           }
          ],
          "scatterpolargl": [
           {
            "marker": {
             "colorbar": {
              "outlinewidth": 0,
              "ticks": ""
             }
            },
            "type": "scatterpolargl"
           }
          ],
          "scatterternary": [
           {
            "marker": {
             "colorbar": {
              "outlinewidth": 0,
              "ticks": ""
             }
            },
            "type": "scatterternary"
           }
          ],
          "surface": [
           {
            "colorbar": {
             "outlinewidth": 0,
             "ticks": ""
            },
            "colorscale": [
             [
              0,
              "#0d0887"
             ],
             [
              0.1111111111111111,
              "#46039f"
             ],
             [
              0.2222222222222222,
              "#7201a8"
             ],
             [
              0.3333333333333333,
              "#9c179e"
             ],
             [
              0.4444444444444444,
              "#bd3786"
             ],
             [
              0.5555555555555556,
              "#d8576b"
             ],
             [
              0.6666666666666666,
              "#ed7953"
             ],
             [
              0.7777777777777778,
              "#fb9f3a"
             ],
             [
              0.8888888888888888,
              "#fdca26"
             ],
             [
              1,
              "#f0f921"
             ]
            ],
            "type": "surface"
           }
          ],
          "table": [
           {
            "cells": {
             "fill": {
              "color": "#EBF0F8"
             },
             "line": {
              "color": "white"
             }
            },
            "header": {
             "fill": {
              "color": "#C8D4E3"
             },
             "line": {
              "color": "white"
             }
            },
            "type": "table"
           }
          ]
         },
         "layout": {
          "annotationdefaults": {
           "arrowcolor": "#2a3f5f",
           "arrowhead": 0,
           "arrowwidth": 1
          },
          "autotypenumbers": "strict",
          "coloraxis": {
           "colorbar": {
            "outlinewidth": 0,
            "ticks": ""
           }
          },
          "colorscale": {
           "diverging": [
            [
             0,
             "#8e0152"
            ],
            [
             0.1,
             "#c51b7d"
            ],
            [
             0.2,
             "#de77ae"
            ],
            [
             0.3,
             "#f1b6da"
            ],
            [
             0.4,
             "#fde0ef"
            ],
            [
             0.5,
             "#f7f7f7"
            ],
            [
             0.6,
             "#e6f5d0"
            ],
            [
             0.7,
             "#b8e186"
            ],
            [
             0.8,
             "#7fbc41"
            ],
            [
             0.9,
             "#4d9221"
            ],
            [
             1,
             "#276419"
            ]
           ],
           "sequential": [
            [
             0,
             "#0d0887"
            ],
            [
             0.1111111111111111,
             "#46039f"
            ],
            [
             0.2222222222222222,
             "#7201a8"
            ],
            [
             0.3333333333333333,
             "#9c179e"
            ],
            [
             0.4444444444444444,
             "#bd3786"
            ],
            [
             0.5555555555555556,
             "#d8576b"
            ],
            [
             0.6666666666666666,
             "#ed7953"
            ],
            [
             0.7777777777777778,
             "#fb9f3a"
            ],
            [
             0.8888888888888888,
             "#fdca26"
            ],
            [
             1,
             "#f0f921"
            ]
           ],
           "sequentialminus": [
            [
             0,
             "#0d0887"
            ],
            [
             0.1111111111111111,
             "#46039f"
            ],
            [
             0.2222222222222222,
             "#7201a8"
            ],
            [
             0.3333333333333333,
             "#9c179e"
            ],
            [
             0.4444444444444444,
             "#bd3786"
            ],
            [
             0.5555555555555556,
             "#d8576b"
            ],
            [
             0.6666666666666666,
             "#ed7953"
            ],
            [
             0.7777777777777778,
             "#fb9f3a"
            ],
            [
             0.8888888888888888,
             "#fdca26"
            ],
            [
             1,
             "#f0f921"
            ]
           ]
          },
          "colorway": [
           "#636efa",
           "#EF553B",
           "#00cc96",
           "#ab63fa",
           "#FFA15A",
           "#19d3f3",
           "#FF6692",
           "#B6E880",
           "#FF97FF",
           "#FECB52"
          ],
          "font": {
           "color": "#2a3f5f"
          },
          "geo": {
           "bgcolor": "white",
           "lakecolor": "white",
           "landcolor": "#E5ECF6",
           "showlakes": true,
           "showland": true,
           "subunitcolor": "white"
          },
          "hoverlabel": {
           "align": "left"
          },
          "hovermode": "closest",
          "mapbox": {
           "style": "light"
          },
          "paper_bgcolor": "white",
          "plot_bgcolor": "#E5ECF6",
          "polar": {
           "angularaxis": {
            "gridcolor": "white",
            "linecolor": "white",
            "ticks": ""
           },
           "bgcolor": "#E5ECF6",
           "radialaxis": {
            "gridcolor": "white",
            "linecolor": "white",
            "ticks": ""
           }
          },
          "scene": {
           "xaxis": {
            "backgroundcolor": "#E5ECF6",
            "gridcolor": "white",
            "gridwidth": 2,
            "linecolor": "white",
            "showbackground": true,
            "ticks": "",
            "zerolinecolor": "white"
           },
           "yaxis": {
            "backgroundcolor": "#E5ECF6",
            "gridcolor": "white",
            "gridwidth": 2,
            "linecolor": "white",
            "showbackground": true,
            "ticks": "",
            "zerolinecolor": "white"
           },
           "zaxis": {
            "backgroundcolor": "#E5ECF6",
            "gridcolor": "white",
            "gridwidth": 2,
            "linecolor": "white",
            "showbackground": true,
            "ticks": "",
            "zerolinecolor": "white"
           }
          },
          "shapedefaults": {
           "line": {
            "color": "#2a3f5f"
           }
          },
          "ternary": {
           "aaxis": {
            "gridcolor": "white",
            "linecolor": "white",
            "ticks": ""
           },
           "baxis": {
            "gridcolor": "white",
            "linecolor": "white",
            "ticks": ""
           },
           "bgcolor": "#E5ECF6",
           "caxis": {
            "gridcolor": "white",
            "linecolor": "white",
            "ticks": ""
           }
          },
          "title": {
           "x": 0.05
          },
          "xaxis": {
           "automargin": true,
           "gridcolor": "white",
           "linecolor": "white",
           "ticks": "",
           "title": {
            "standoff": 15
           },
           "zerolinecolor": "white",
           "zerolinewidth": 2
          },
          "yaxis": {
           "automargin": true,
           "gridcolor": "white",
           "linecolor": "white",
           "ticks": "",
           "title": {
            "standoff": 15
           },
           "zerolinecolor": "white",
           "zerolinewidth": 2
          }
         }
        }
       }
      },
      "text/html": [
       "<div>                            <div id=\"17a72f37-075a-4cde-a3ab-ca6330362352\" class=\"plotly-graph-div\" style=\"height:525px; width:100%;\"></div>            <script type=\"text/javascript\">                require([\"plotly\"], function(Plotly) {                    window.PLOTLYENV=window.PLOTLYENV || {};                                    if (document.getElementById(\"17a72f37-075a-4cde-a3ab-ca6330362352\")) {                    Plotly.newPlot(                        \"17a72f37-075a-4cde-a3ab-ca6330362352\",                        [{\"link\":{\"color\":[\"rgba(31,119,180, 0.4)\",\"rgba(255,127,14, 0.4)\",\"rgba(44,160,44, 0.4)\",\"rgba(214,39,40, 0.4)\",\"rgba(31,119,180, 0.4)\",\"rgba(255,127,14, 0.4)\",\"rgba(44,160,44, 0.4)\",\"rgba(214,39,40, 0.4)\",\"rgba(174,199,232, 0.4)\",\"rgba(255,187,120, 0.4)\",\"rgba(152,223,138, 0.4)\",\"rgba(255,152,150, 0.4)\",\"rgba(31,119,180, 0.4)\",\"rgba(255,127,14, 0.4)\",\"rgba(44,160,44, 0.4)\",\"rgba(214,39,40, 0.4)\",\"rgba(31,119,180, 0.4)\",\"rgba(255,127,14, 0.4)\",\"rgba(44,160,44, 0.4)\",\"rgba(214,39,40, 0.4)\",\"rgba(174,199,232, 0.4)\",\"rgba(255,187,120, 0.4)\",\"rgba(152,223,138, 0.4)\",\"rgba(255,152,150, 0.4)\",\"rgba(31,119,180, 0.4)\",\"rgba(255,127,14, 0.4)\",\"rgba(44,160,44, 0.4)\",\"rgba(214,39,40, 0.4)\",\"rgba(31,119,180, 0.4)\",\"rgba(255,127,14, 0.4)\",\"rgba(44,160,44, 0.4)\",\"rgba(214,39,40, 0.4)\",\"rgba(174,199,232, 0.4)\",\"rgba(255,187,120, 0.4)\",\"rgba(152,223,138, 0.4)\",\"rgba(255,152,150, 0.4)\",\"rgba(31,119,180, 0.4)\",\"rgba(255,127,14, 0.4)\",\"rgba(44,160,44, 0.4)\",\"rgba(214,39,40, 0.4)\",\"rgba(31,119,180, 0.4)\",\"rgba(255,127,14, 0.4)\",\"rgba(44,160,44, 0.4)\",\"rgba(214,39,40, 0.4)\",\"rgba(174,199,232, 0.4)\",\"rgba(255,187,120, 0.4)\",\"rgba(152,223,138, 0.4)\",\"rgba(255,152,150, 0.4)\"],\"source\":[0,0,0,0,0,0,0,0,1,1,1,1,1,1,1,1,2,2,2,2,2,2,2,2,3,3,3,3,3,3,3,3],\"target\":[4,5,6,7,8,9,10,11,4,5,6,7,8,9,10,11,4,5,6,7,8,9,10,11,4,5,6,7,8,9,10,11],\"value\":[397028065,0,0,0,0,0,0,0,0,464749757,0,0,0,0,0,0,0,0,372594352,0,0,0,0,0,0,0,0,456236985,0,0,0,0]},\"node\":{\"color\":[\"#1f77b4\",\"#ff7f0e\",\"#2ca02c\",\"#d62728\",\"#1f77b4\",\"#ff7f0e\",\"#2ca02c\",\"#d62728\",\"#aec7e8\",\"#ffbb78\",\"#98df8a\",\"#ff9896\"],\"label\":[\"EU<sub>u</sub>\",\"US-E<sub>u</sub>\",\"US-W<sub>u</sub>\",\"AP<sub>u</sub>\",\"EU<sub>e</sub>\",\"US-E<sub>e</sub>\",\"US-W<sub>e</sub>\",\"AP<sub>e</sub>\",\"EU<sub>c</sub>\",\"US-E<sub>c</sub>\",\"US-W<sub>c</sub>\",\"AP<sub>c</sub>\"],\"line\":{\"color\":\"black\",\"width\":0.5},\"pad\":15,\"thickness\":20},\"type\":\"sankey\"}],                        {\"template\":{\"data\":{\"histogram2dcontour\":[{\"type\":\"histogram2dcontour\",\"colorbar\":{\"outlinewidth\":0,\"ticks\":\"\"},\"colorscale\":[[0.0,\"#0d0887\"],[0.1111111111111111,\"#46039f\"],[0.2222222222222222,\"#7201a8\"],[0.3333333333333333,\"#9c179e\"],[0.4444444444444444,\"#bd3786\"],[0.5555555555555556,\"#d8576b\"],[0.6666666666666666,\"#ed7953\"],[0.7777777777777778,\"#fb9f3a\"],[0.8888888888888888,\"#fdca26\"],[1.0,\"#f0f921\"]]}],\"choropleth\":[{\"type\":\"choropleth\",\"colorbar\":{\"outlinewidth\":0,\"ticks\":\"\"}}],\"histogram2d\":[{\"type\":\"histogram2d\",\"colorbar\":{\"outlinewidth\":0,\"ticks\":\"\"},\"colorscale\":[[0.0,\"#0d0887\"],[0.1111111111111111,\"#46039f\"],[0.2222222222222222,\"#7201a8\"],[0.3333333333333333,\"#9c179e\"],[0.4444444444444444,\"#bd3786\"],[0.5555555555555556,\"#d8576b\"],[0.6666666666666666,\"#ed7953\"],[0.7777777777777778,\"#fb9f3a\"],[0.8888888888888888,\"#fdca26\"],[1.0,\"#f0f921\"]]}],\"heatmap\":[{\"type\":\"heatmap\",\"colorbar\":{\"outlinewidth\":0,\"ticks\":\"\"},\"colorscale\":[[0.0,\"#0d0887\"],[0.1111111111111111,\"#46039f\"],[0.2222222222222222,\"#7201a8\"],[0.3333333333333333,\"#9c179e\"],[0.4444444444444444,\"#bd3786\"],[0.5555555555555556,\"#d8576b\"],[0.6666666666666666,\"#ed7953\"],[0.7777777777777778,\"#fb9f3a\"],[0.8888888888888888,\"#fdca26\"],[1.0,\"#f0f921\"]]}],\"heatmapgl\":[{\"type\":\"heatmapgl\",\"colorbar\":{\"outlinewidth\":0,\"ticks\":\"\"},\"colorscale\":[[0.0,\"#0d0887\"],[0.1111111111111111,\"#46039f\"],[0.2222222222222222,\"#7201a8\"],[0.3333333333333333,\"#9c179e\"],[0.4444444444444444,\"#bd3786\"],[0.5555555555555556,\"#d8576b\"],[0.6666666666666666,\"#ed7953\"],[0.7777777777777778,\"#fb9f3a\"],[0.8888888888888888,\"#fdca26\"],[1.0,\"#f0f921\"]]}],\"contourcarpet\":[{\"type\":\"contourcarpet\",\"colorbar\":{\"outlinewidth\":0,\"ticks\":\"\"}}],\"contour\":[{\"type\":\"contour\",\"colorbar\":{\"outlinewidth\":0,\"ticks\":\"\"},\"colorscale\":[[0.0,\"#0d0887\"],[0.1111111111111111,\"#46039f\"],[0.2222222222222222,\"#7201a8\"],[0.3333333333333333,\"#9c179e\"],[0.4444444444444444,\"#bd3786\"],[0.5555555555555556,\"#d8576b\"],[0.6666666666666666,\"#ed7953\"],[0.7777777777777778,\"#fb9f3a\"],[0.8888888888888888,\"#fdca26\"],[1.0,\"#f0f921\"]]}],\"surface\":[{\"type\":\"surface\",\"colorbar\":{\"outlinewidth\":0,\"ticks\":\"\"},\"colorscale\":[[0.0,\"#0d0887\"],[0.1111111111111111,\"#46039f\"],[0.2222222222222222,\"#7201a8\"],[0.3333333333333333,\"#9c179e\"],[0.4444444444444444,\"#bd3786\"],[0.5555555555555556,\"#d8576b\"],[0.6666666666666666,\"#ed7953\"],[0.7777777777777778,\"#fb9f3a\"],[0.8888888888888888,\"#fdca26\"],[1.0,\"#f0f921\"]]}],\"mesh3d\":[{\"type\":\"mesh3d\",\"colorbar\":{\"outlinewidth\":0,\"ticks\":\"\"}}],\"scatter\":[{\"fillpattern\":{\"fillmode\":\"overlay\",\"size\":10,\"solidity\":0.2},\"type\":\"scatter\"}],\"parcoords\":[{\"type\":\"parcoords\",\"line\":{\"colorbar\":{\"outlinewidth\":0,\"ticks\":\"\"}}}],\"scatterpolargl\":[{\"type\":\"scatterpolargl\",\"marker\":{\"colorbar\":{\"outlinewidth\":0,\"ticks\":\"\"}}}],\"bar\":[{\"error_x\":{\"color\":\"#2a3f5f\"},\"error_y\":{\"color\":\"#2a3f5f\"},\"marker\":{\"line\":{\"color\":\"#E5ECF6\",\"width\":0.5},\"pattern\":{\"fillmode\":\"overlay\",\"size\":10,\"solidity\":0.2}},\"type\":\"bar\"}],\"scattergeo\":[{\"type\":\"scattergeo\",\"marker\":{\"colorbar\":{\"outlinewidth\":0,\"ticks\":\"\"}}}],\"scatterpolar\":[{\"type\":\"scatterpolar\",\"marker\":{\"colorbar\":{\"outlinewidth\":0,\"ticks\":\"\"}}}],\"histogram\":[{\"marker\":{\"pattern\":{\"fillmode\":\"overlay\",\"size\":10,\"solidity\":0.2}},\"type\":\"histogram\"}],\"scattergl\":[{\"type\":\"scattergl\",\"marker\":{\"colorbar\":{\"outlinewidth\":0,\"ticks\":\"\"}}}],\"scatter3d\":[{\"type\":\"scatter3d\",\"line\":{\"colorbar\":{\"outlinewidth\":0,\"ticks\":\"\"}},\"marker\":{\"colorbar\":{\"outlinewidth\":0,\"ticks\":\"\"}}}],\"scattermapbox\":[{\"type\":\"scattermapbox\",\"marker\":{\"colorbar\":{\"outlinewidth\":0,\"ticks\":\"\"}}}],\"scatterternary\":[{\"type\":\"scatterternary\",\"marker\":{\"colorbar\":{\"outlinewidth\":0,\"ticks\":\"\"}}}],\"scattercarpet\":[{\"type\":\"scattercarpet\",\"marker\":{\"colorbar\":{\"outlinewidth\":0,\"ticks\":\"\"}}}],\"carpet\":[{\"aaxis\":{\"endlinecolor\":\"#2a3f5f\",\"gridcolor\":\"white\",\"linecolor\":\"white\",\"minorgridcolor\":\"white\",\"startlinecolor\":\"#2a3f5f\"},\"baxis\":{\"endlinecolor\":\"#2a3f5f\",\"gridcolor\":\"white\",\"linecolor\":\"white\",\"minorgridcolor\":\"white\",\"startlinecolor\":\"#2a3f5f\"},\"type\":\"carpet\"}],\"table\":[{\"cells\":{\"fill\":{\"color\":\"#EBF0F8\"},\"line\":{\"color\":\"white\"}},\"header\":{\"fill\":{\"color\":\"#C8D4E3\"},\"line\":{\"color\":\"white\"}},\"type\":\"table\"}],\"barpolar\":[{\"marker\":{\"line\":{\"color\":\"#E5ECF6\",\"width\":0.5},\"pattern\":{\"fillmode\":\"overlay\",\"size\":10,\"solidity\":0.2}},\"type\":\"barpolar\"}],\"pie\":[{\"automargin\":true,\"type\":\"pie\"}]},\"layout\":{\"autotypenumbers\":\"strict\",\"colorway\":[\"#636efa\",\"#EF553B\",\"#00cc96\",\"#ab63fa\",\"#FFA15A\",\"#19d3f3\",\"#FF6692\",\"#B6E880\",\"#FF97FF\",\"#FECB52\"],\"font\":{\"color\":\"#2a3f5f\"},\"hovermode\":\"closest\",\"hoverlabel\":{\"align\":\"left\"},\"paper_bgcolor\":\"white\",\"plot_bgcolor\":\"#E5ECF6\",\"polar\":{\"bgcolor\":\"#E5ECF6\",\"angularaxis\":{\"gridcolor\":\"white\",\"linecolor\":\"white\",\"ticks\":\"\"},\"radialaxis\":{\"gridcolor\":\"white\",\"linecolor\":\"white\",\"ticks\":\"\"}},\"ternary\":{\"bgcolor\":\"#E5ECF6\",\"aaxis\":{\"gridcolor\":\"white\",\"linecolor\":\"white\",\"ticks\":\"\"},\"baxis\":{\"gridcolor\":\"white\",\"linecolor\":\"white\",\"ticks\":\"\"},\"caxis\":{\"gridcolor\":\"white\",\"linecolor\":\"white\",\"ticks\":\"\"}},\"coloraxis\":{\"colorbar\":{\"outlinewidth\":0,\"ticks\":\"\"}},\"colorscale\":{\"sequential\":[[0.0,\"#0d0887\"],[0.1111111111111111,\"#46039f\"],[0.2222222222222222,\"#7201a8\"],[0.3333333333333333,\"#9c179e\"],[0.4444444444444444,\"#bd3786\"],[0.5555555555555556,\"#d8576b\"],[0.6666666666666666,\"#ed7953\"],[0.7777777777777778,\"#fb9f3a\"],[0.8888888888888888,\"#fdca26\"],[1.0,\"#f0f921\"]],\"sequentialminus\":[[0.0,\"#0d0887\"],[0.1111111111111111,\"#46039f\"],[0.2222222222222222,\"#7201a8\"],[0.3333333333333333,\"#9c179e\"],[0.4444444444444444,\"#bd3786\"],[0.5555555555555556,\"#d8576b\"],[0.6666666666666666,\"#ed7953\"],[0.7777777777777778,\"#fb9f3a\"],[0.8888888888888888,\"#fdca26\"],[1.0,\"#f0f921\"]],\"diverging\":[[0,\"#8e0152\"],[0.1,\"#c51b7d\"],[0.2,\"#de77ae\"],[0.3,\"#f1b6da\"],[0.4,\"#fde0ef\"],[0.5,\"#f7f7f7\"],[0.6,\"#e6f5d0\"],[0.7,\"#b8e186\"],[0.8,\"#7fbc41\"],[0.9,\"#4d9221\"],[1,\"#276419\"]]},\"xaxis\":{\"gridcolor\":\"white\",\"linecolor\":\"white\",\"ticks\":\"\",\"title\":{\"standoff\":15},\"zerolinecolor\":\"white\",\"automargin\":true,\"zerolinewidth\":2},\"yaxis\":{\"gridcolor\":\"white\",\"linecolor\":\"white\",\"ticks\":\"\",\"title\":{\"standoff\":15},\"zerolinecolor\":\"white\",\"automargin\":true,\"zerolinewidth\":2},\"scene\":{\"xaxis\":{\"backgroundcolor\":\"#E5ECF6\",\"gridcolor\":\"white\",\"linecolor\":\"white\",\"showbackground\":true,\"ticks\":\"\",\"zerolinecolor\":\"white\",\"gridwidth\":2},\"yaxis\":{\"backgroundcolor\":\"#E5ECF6\",\"gridcolor\":\"white\",\"linecolor\":\"white\",\"showbackground\":true,\"ticks\":\"\",\"zerolinecolor\":\"white\",\"gridwidth\":2},\"zaxis\":{\"backgroundcolor\":\"#E5ECF6\",\"gridcolor\":\"white\",\"linecolor\":\"white\",\"showbackground\":true,\"ticks\":\"\",\"zerolinecolor\":\"white\",\"gridwidth\":2}},\"shapedefaults\":{\"line\":{\"color\":\"#2a3f5f\"}},\"annotationdefaults\":{\"arrowcolor\":\"#2a3f5f\",\"arrowhead\":0,\"arrowwidth\":1},\"geo\":{\"bgcolor\":\"white\",\"landcolor\":\"#E5ECF6\",\"subunitcolor\":\"white\",\"showland\":true,\"showlakes\":true,\"lakecolor\":\"white\"},\"title\":{\"x\":0.05},\"mapbox\":{\"style\":\"light\"}}},\"margin\":{\"l\":20,\"r\":20,\"t\":20,\"b\":20},\"font\":{\"family\":\"Arial\",\"size\":22,\"color\":\"Black\"}},                        {\"responsive\": true}                    ).then(function(){\n",
       "                            \n",
       "var gd = document.getElementById('17a72f37-075a-4cde-a3ab-ca6330362352');\n",
       "var x = new MutationObserver(function (mutations, observer) {{\n",
       "        var display = window.getComputedStyle(gd).display;\n",
       "        if (!display || display === 'none') {{\n",
       "            console.log([gd, 'removed!']);\n",
       "            Plotly.purge(gd);\n",
       "            observer.disconnect();\n",
       "        }}\n",
       "}});\n",
       "\n",
       "// Listen for the removal of the full notebook cells\n",
       "var notebookContainer = gd.closest('#notebook-container');\n",
       "if (notebookContainer) {{\n",
       "    x.observe(notebookContainer, {childList: true});\n",
       "}}\n",
       "\n",
       "// Listen for the clearing of the current output cell\n",
       "var outputEl = gd.closest('.output');\n",
       "if (outputEl) {{\n",
       "    x.observe(outputEl, {childList: true});\n",
       "}}\n",
       "\n",
       "                        })                };                });            </script>        </div>"
      ]
     },
     "metadata": {},
     "output_type": "display_data"
    },
    {
     "data": {
      "application/vnd.plotly.v1+json": {
       "config": {
        "plotlyServerURL": "https://plot.ly"
       },
       "data": [
        {
         "link": {
          "color": [
           "rgba(31,119,180, 0.4)",
           "rgba(255,127,14, 0.4)",
           "rgba(44,160,44, 0.4)",
           "rgba(214,39,40, 0.4)",
           "rgba(31,119,180, 0.4)",
           "rgba(255,127,14, 0.4)",
           "rgba(44,160,44, 0.4)",
           "rgba(214,39,40, 0.4)",
           "rgba(174,199,232, 0.4)",
           "rgba(255,187,120, 0.4)",
           "rgba(152,223,138, 0.4)",
           "rgba(255,152,150, 0.4)",
           "rgba(31,119,180, 0.4)",
           "rgba(255,127,14, 0.4)",
           "rgba(44,160,44, 0.4)",
           "rgba(214,39,40, 0.4)",
           "rgba(31,119,180, 0.4)",
           "rgba(255,127,14, 0.4)",
           "rgba(44,160,44, 0.4)",
           "rgba(214,39,40, 0.4)",
           "rgba(174,199,232, 0.4)",
           "rgba(255,187,120, 0.4)",
           "rgba(152,223,138, 0.4)",
           "rgba(255,152,150, 0.4)",
           "rgba(31,119,180, 0.4)",
           "rgba(255,127,14, 0.4)",
           "rgba(44,160,44, 0.4)",
           "rgba(214,39,40, 0.4)",
           "rgba(31,119,180, 0.4)",
           "rgba(255,127,14, 0.4)",
           "rgba(44,160,44, 0.4)",
           "rgba(214,39,40, 0.4)",
           "rgba(174,199,232, 0.4)",
           "rgba(255,187,120, 0.4)",
           "rgba(152,223,138, 0.4)",
           "rgba(255,152,150, 0.4)",
           "rgba(31,119,180, 0.4)",
           "rgba(255,127,14, 0.4)",
           "rgba(44,160,44, 0.4)",
           "rgba(214,39,40, 0.4)",
           "rgba(31,119,180, 0.4)",
           "rgba(255,127,14, 0.4)",
           "rgba(44,160,44, 0.4)",
           "rgba(214,39,40, 0.4)",
           "rgba(174,199,232, 0.4)",
           "rgba(255,187,120, 0.4)",
           "rgba(152,223,138, 0.4)",
           "rgba(255,152,150, 0.4)"
          ],
          "source": [
           0,
           0,
           0,
           0,
           0,
           0,
           0,
           0,
           1,
           1,
           1,
           1,
           1,
           1,
           1,
           1,
           2,
           2,
           2,
           2,
           2,
           2,
           2,
           2,
           3,
           3,
           3,
           3,
           3,
           3,
           3,
           3
          ],
          "target": [
           4,
           5,
           6,
           7,
           8,
           9,
           10,
           11,
           4,
           5,
           6,
           7,
           8,
           9,
           10,
           11,
           4,
           5,
           6,
           7,
           8,
           9,
           10,
           11,
           4,
           5,
           6,
           7,
           8,
           9,
           10,
           11
          ],
          "value": [
           397028065,
           0,
           0,
           0,
           0,
           0,
           0,
           0,
           0,
           464749757,
           0,
           0,
           0,
           0,
           0,
           0,
           0,
           0,
           372594352,
           0,
           0,
           0,
           0,
           0,
           0,
           0,
           0,
           456236985,
           0,
           0,
           0,
           0
          ]
         },
         "node": {
          "color": [
           "#1f77b4",
           "#ff7f0e",
           "#2ca02c",
           "#d62728",
           "#1f77b4",
           "#ff7f0e",
           "#2ca02c",
           "#d62728",
           "#aec7e8",
           "#ffbb78",
           "#98df8a",
           "#ff9896"
          ],
          "label": [
           "EU<sub>u</sub>",
           "US-E<sub>u</sub>",
           "US-W<sub>u</sub>",
           "AP<sub>u</sub>",
           "EU<sub>e</sub>",
           "US-E<sub>e</sub>",
           "US-W<sub>e</sub>",
           "AP<sub>e</sub>",
           "EU<sub>c</sub>",
           "US-E<sub>c</sub>",
           "US-W<sub>c</sub>",
           "AP<sub>c</sub>"
          ],
          "line": {
           "color": "black",
           "width": 0.5
          },
          "pad": 15,
          "thickness": 20
         },
         "type": "sankey"
        }
       ],
       "layout": {
        "font": {
         "color": "Black",
         "family": "Arial",
         "size": 22
        },
        "margin": {
         "b": 20,
         "l": 20,
         "r": 20,
         "t": 20
        },
        "template": {
         "data": {
          "bar": [
           {
            "error_x": {
             "color": "#2a3f5f"
            },
            "error_y": {
             "color": "#2a3f5f"
            },
            "marker": {
             "line": {
              "color": "#E5ECF6",
              "width": 0.5
             },
             "pattern": {
              "fillmode": "overlay",
              "size": 10,
              "solidity": 0.2
             }
            },
            "type": "bar"
           }
          ],
          "barpolar": [
           {
            "marker": {
             "line": {
              "color": "#E5ECF6",
              "width": 0.5
             },
             "pattern": {
              "fillmode": "overlay",
              "size": 10,
              "solidity": 0.2
             }
            },
            "type": "barpolar"
           }
          ],
          "carpet": [
           {
            "aaxis": {
             "endlinecolor": "#2a3f5f",
             "gridcolor": "white",
             "linecolor": "white",
             "minorgridcolor": "white",
             "startlinecolor": "#2a3f5f"
            },
            "baxis": {
             "endlinecolor": "#2a3f5f",
             "gridcolor": "white",
             "linecolor": "white",
             "minorgridcolor": "white",
             "startlinecolor": "#2a3f5f"
            },
            "type": "carpet"
           }
          ],
          "choropleth": [
           {
            "colorbar": {
             "outlinewidth": 0,
             "ticks": ""
            },
            "type": "choropleth"
           }
          ],
          "contour": [
           {
            "colorbar": {
             "outlinewidth": 0,
             "ticks": ""
            },
            "colorscale": [
             [
              0,
              "#0d0887"
             ],
             [
              0.1111111111111111,
              "#46039f"
             ],
             [
              0.2222222222222222,
              "#7201a8"
             ],
             [
              0.3333333333333333,
              "#9c179e"
             ],
             [
              0.4444444444444444,
              "#bd3786"
             ],
             [
              0.5555555555555556,
              "#d8576b"
             ],
             [
              0.6666666666666666,
              "#ed7953"
             ],
             [
              0.7777777777777778,
              "#fb9f3a"
             ],
             [
              0.8888888888888888,
              "#fdca26"
             ],
             [
              1,
              "#f0f921"
             ]
            ],
            "type": "contour"
           }
          ],
          "contourcarpet": [
           {
            "colorbar": {
             "outlinewidth": 0,
             "ticks": ""
            },
            "type": "contourcarpet"
           }
          ],
          "heatmap": [
           {
            "colorbar": {
             "outlinewidth": 0,
             "ticks": ""
            },
            "colorscale": [
             [
              0,
              "#0d0887"
             ],
             [
              0.1111111111111111,
              "#46039f"
             ],
             [
              0.2222222222222222,
              "#7201a8"
             ],
             [
              0.3333333333333333,
              "#9c179e"
             ],
             [
              0.4444444444444444,
              "#bd3786"
             ],
             [
              0.5555555555555556,
              "#d8576b"
             ],
             [
              0.6666666666666666,
              "#ed7953"
             ],
             [
              0.7777777777777778,
              "#fb9f3a"
             ],
             [
              0.8888888888888888,
              "#fdca26"
             ],
             [
              1,
              "#f0f921"
             ]
            ],
            "type": "heatmap"
           }
          ],
          "heatmapgl": [
           {
            "colorbar": {
             "outlinewidth": 0,
             "ticks": ""
            },
            "colorscale": [
             [
              0,
              "#0d0887"
             ],
             [
              0.1111111111111111,
              "#46039f"
             ],
             [
              0.2222222222222222,
              "#7201a8"
             ],
             [
              0.3333333333333333,
              "#9c179e"
             ],
             [
              0.4444444444444444,
              "#bd3786"
             ],
             [
              0.5555555555555556,
              "#d8576b"
             ],
             [
              0.6666666666666666,
              "#ed7953"
             ],
             [
              0.7777777777777778,
              "#fb9f3a"
             ],
             [
              0.8888888888888888,
              "#fdca26"
             ],
             [
              1,
              "#f0f921"
             ]
            ],
            "type": "heatmapgl"
           }
          ],
          "histogram": [
           {
            "marker": {
             "pattern": {
              "fillmode": "overlay",
              "size": 10,
              "solidity": 0.2
             }
            },
            "type": "histogram"
           }
          ],
          "histogram2d": [
           {
            "colorbar": {
             "outlinewidth": 0,
             "ticks": ""
            },
            "colorscale": [
             [
              0,
              "#0d0887"
             ],
             [
              0.1111111111111111,
              "#46039f"
             ],
             [
              0.2222222222222222,
              "#7201a8"
             ],
             [
              0.3333333333333333,
              "#9c179e"
             ],
             [
              0.4444444444444444,
              "#bd3786"
             ],
             [
              0.5555555555555556,
              "#d8576b"
             ],
             [
              0.6666666666666666,
              "#ed7953"
             ],
             [
              0.7777777777777778,
              "#fb9f3a"
             ],
             [
              0.8888888888888888,
              "#fdca26"
             ],
             [
              1,
              "#f0f921"
             ]
            ],
            "type": "histogram2d"
           }
          ],
          "histogram2dcontour": [
           {
            "colorbar": {
             "outlinewidth": 0,
             "ticks": ""
            },
            "colorscale": [
             [
              0,
              "#0d0887"
             ],
             [
              0.1111111111111111,
              "#46039f"
             ],
             [
              0.2222222222222222,
              "#7201a8"
             ],
             [
              0.3333333333333333,
              "#9c179e"
             ],
             [
              0.4444444444444444,
              "#bd3786"
             ],
             [
              0.5555555555555556,
              "#d8576b"
             ],
             [
              0.6666666666666666,
              "#ed7953"
             ],
             [
              0.7777777777777778,
              "#fb9f3a"
             ],
             [
              0.8888888888888888,
              "#fdca26"
             ],
             [
              1,
              "#f0f921"
             ]
            ],
            "type": "histogram2dcontour"
           }
          ],
          "mesh3d": [
           {
            "colorbar": {
             "outlinewidth": 0,
             "ticks": ""
            },
            "type": "mesh3d"
           }
          ],
          "parcoords": [
           {
            "line": {
             "colorbar": {
              "outlinewidth": 0,
              "ticks": ""
             }
            },
            "type": "parcoords"
           }
          ],
          "pie": [
           {
            "automargin": true,
            "type": "pie"
           }
          ],
          "scatter": [
           {
            "fillpattern": {
             "fillmode": "overlay",
             "size": 10,
             "solidity": 0.2
            },
            "type": "scatter"
           }
          ],
          "scatter3d": [
           {
            "line": {
             "colorbar": {
              "outlinewidth": 0,
              "ticks": ""
             }
            },
            "marker": {
             "colorbar": {
              "outlinewidth": 0,
              "ticks": ""
             }
            },
            "type": "scatter3d"
           }
          ],
          "scattercarpet": [
           {
            "marker": {
             "colorbar": {
              "outlinewidth": 0,
              "ticks": ""
             }
            },
            "type": "scattercarpet"
           }
          ],
          "scattergeo": [
           {
            "marker": {
             "colorbar": {
              "outlinewidth": 0,
              "ticks": ""
             }
            },
            "type": "scattergeo"
           }
          ],
          "scattergl": [
           {
            "marker": {
             "colorbar": {
              "outlinewidth": 0,
              "ticks": ""
             }
            },
            "type": "scattergl"
           }
          ],
          "scattermapbox": [
           {
            "marker": {
             "colorbar": {
              "outlinewidth": 0,
              "ticks": ""
             }
            },
            "type": "scattermapbox"
           }
          ],
          "scatterpolar": [
           {
            "marker": {
             "colorbar": {
              "outlinewidth": 0,
              "ticks": ""
             }
            },
            "type": "scatterpolar"
           }
          ],
          "scatterpolargl": [
           {
            "marker": {
             "colorbar": {
              "outlinewidth": 0,
              "ticks": ""
             }
            },
            "type": "scatterpolargl"
           }
          ],
          "scatterternary": [
           {
            "marker": {
             "colorbar": {
              "outlinewidth": 0,
              "ticks": ""
             }
            },
            "type": "scatterternary"
           }
          ],
          "surface": [
           {
            "colorbar": {
             "outlinewidth": 0,
             "ticks": ""
            },
            "colorscale": [
             [
              0,
              "#0d0887"
             ],
             [
              0.1111111111111111,
              "#46039f"
             ],
             [
              0.2222222222222222,
              "#7201a8"
             ],
             [
              0.3333333333333333,
              "#9c179e"
             ],
             [
              0.4444444444444444,
              "#bd3786"
             ],
             [
              0.5555555555555556,
              "#d8576b"
             ],
             [
              0.6666666666666666,
              "#ed7953"
             ],
             [
              0.7777777777777778,
              "#fb9f3a"
             ],
             [
              0.8888888888888888,
              "#fdca26"
             ],
             [
              1,
              "#f0f921"
             ]
            ],
            "type": "surface"
           }
          ],
          "table": [
           {
            "cells": {
             "fill": {
              "color": "#EBF0F8"
             },
             "line": {
              "color": "white"
             }
            },
            "header": {
             "fill": {
              "color": "#C8D4E3"
             },
             "line": {
              "color": "white"
             }
            },
            "type": "table"
           }
          ]
         },
         "layout": {
          "annotationdefaults": {
           "arrowcolor": "#2a3f5f",
           "arrowhead": 0,
           "arrowwidth": 1
          },
          "autotypenumbers": "strict",
          "coloraxis": {
           "colorbar": {
            "outlinewidth": 0,
            "ticks": ""
           }
          },
          "colorscale": {
           "diverging": [
            [
             0,
             "#8e0152"
            ],
            [
             0.1,
             "#c51b7d"
            ],
            [
             0.2,
             "#de77ae"
            ],
            [
             0.3,
             "#f1b6da"
            ],
            [
             0.4,
             "#fde0ef"
            ],
            [
             0.5,
             "#f7f7f7"
            ],
            [
             0.6,
             "#e6f5d0"
            ],
            [
             0.7,
             "#b8e186"
            ],
            [
             0.8,
             "#7fbc41"
            ],
            [
             0.9,
             "#4d9221"
            ],
            [
             1,
             "#276419"
            ]
           ],
           "sequential": [
            [
             0,
             "#0d0887"
            ],
            [
             0.1111111111111111,
             "#46039f"
            ],
            [
             0.2222222222222222,
             "#7201a8"
            ],
            [
             0.3333333333333333,
             "#9c179e"
            ],
            [
             0.4444444444444444,
             "#bd3786"
            ],
            [
             0.5555555555555556,
             "#d8576b"
            ],
            [
             0.6666666666666666,
             "#ed7953"
            ],
            [
             0.7777777777777778,
             "#fb9f3a"
            ],
            [
             0.8888888888888888,
             "#fdca26"
            ],
            [
             1,
             "#f0f921"
            ]
           ],
           "sequentialminus": [
            [
             0,
             "#0d0887"
            ],
            [
             0.1111111111111111,
             "#46039f"
            ],
            [
             0.2222222222222222,
             "#7201a8"
            ],
            [
             0.3333333333333333,
             "#9c179e"
            ],
            [
             0.4444444444444444,
             "#bd3786"
            ],
            [
             0.5555555555555556,
             "#d8576b"
            ],
            [
             0.6666666666666666,
             "#ed7953"
            ],
            [
             0.7777777777777778,
             "#fb9f3a"
            ],
            [
             0.8888888888888888,
             "#fdca26"
            ],
            [
             1,
             "#f0f921"
            ]
           ]
          },
          "colorway": [
           "#636efa",
           "#EF553B",
           "#00cc96",
           "#ab63fa",
           "#FFA15A",
           "#19d3f3",
           "#FF6692",
           "#B6E880",
           "#FF97FF",
           "#FECB52"
          ],
          "font": {
           "color": "#2a3f5f"
          },
          "geo": {
           "bgcolor": "white",
           "lakecolor": "white",
           "landcolor": "#E5ECF6",
           "showlakes": true,
           "showland": true,
           "subunitcolor": "white"
          },
          "hoverlabel": {
           "align": "left"
          },
          "hovermode": "closest",
          "mapbox": {
           "style": "light"
          },
          "paper_bgcolor": "white",
          "plot_bgcolor": "#E5ECF6",
          "polar": {
           "angularaxis": {
            "gridcolor": "white",
            "linecolor": "white",
            "ticks": ""
           },
           "bgcolor": "#E5ECF6",
           "radialaxis": {
            "gridcolor": "white",
            "linecolor": "white",
            "ticks": ""
           }
          },
          "scene": {
           "xaxis": {
            "backgroundcolor": "#E5ECF6",
            "gridcolor": "white",
            "gridwidth": 2,
            "linecolor": "white",
            "showbackground": true,
            "ticks": "",
            "zerolinecolor": "white"
           },
           "yaxis": {
            "backgroundcolor": "#E5ECF6",
            "gridcolor": "white",
            "gridwidth": 2,
            "linecolor": "white",
            "showbackground": true,
            "ticks": "",
            "zerolinecolor": "white"
           },
           "zaxis": {
            "backgroundcolor": "#E5ECF6",
            "gridcolor": "white",
            "gridwidth": 2,
            "linecolor": "white",
            "showbackground": true,
            "ticks": "",
            "zerolinecolor": "white"
           }
          },
          "shapedefaults": {
           "line": {
            "color": "#2a3f5f"
           }
          },
          "ternary": {
           "aaxis": {
            "gridcolor": "white",
            "linecolor": "white",
            "ticks": ""
           },
           "baxis": {
            "gridcolor": "white",
            "linecolor": "white",
            "ticks": ""
           },
           "bgcolor": "#E5ECF6",
           "caxis": {
            "gridcolor": "white",
            "linecolor": "white",
            "ticks": ""
           }
          },
          "title": {
           "x": 0.05
          },
          "xaxis": {
           "automargin": true,
           "gridcolor": "white",
           "linecolor": "white",
           "ticks": "",
           "title": {
            "standoff": 15
           },
           "zerolinecolor": "white",
           "zerolinewidth": 2
          },
          "yaxis": {
           "automargin": true,
           "gridcolor": "white",
           "linecolor": "white",
           "ticks": "",
           "title": {
            "standoff": 15
           },
           "zerolinecolor": "white",
           "zerolinewidth": 2
          }
         }
        }
       }
      },
      "text/html": [
       "<div>                            <div id=\"f98c3e81-2da4-4f9b-a582-90ac63acf563\" class=\"plotly-graph-div\" style=\"height:525px; width:100%;\"></div>            <script type=\"text/javascript\">                require([\"plotly\"], function(Plotly) {                    window.PLOTLYENV=window.PLOTLYENV || {};                                    if (document.getElementById(\"f98c3e81-2da4-4f9b-a582-90ac63acf563\")) {                    Plotly.newPlot(                        \"f98c3e81-2da4-4f9b-a582-90ac63acf563\",                        [{\"link\":{\"color\":[\"rgba(31,119,180, 0.4)\",\"rgba(255,127,14, 0.4)\",\"rgba(44,160,44, 0.4)\",\"rgba(214,39,40, 0.4)\",\"rgba(31,119,180, 0.4)\",\"rgba(255,127,14, 0.4)\",\"rgba(44,160,44, 0.4)\",\"rgba(214,39,40, 0.4)\",\"rgba(174,199,232, 0.4)\",\"rgba(255,187,120, 0.4)\",\"rgba(152,223,138, 0.4)\",\"rgba(255,152,150, 0.4)\",\"rgba(31,119,180, 0.4)\",\"rgba(255,127,14, 0.4)\",\"rgba(44,160,44, 0.4)\",\"rgba(214,39,40, 0.4)\",\"rgba(31,119,180, 0.4)\",\"rgba(255,127,14, 0.4)\",\"rgba(44,160,44, 0.4)\",\"rgba(214,39,40, 0.4)\",\"rgba(174,199,232, 0.4)\",\"rgba(255,187,120, 0.4)\",\"rgba(152,223,138, 0.4)\",\"rgba(255,152,150, 0.4)\",\"rgba(31,119,180, 0.4)\",\"rgba(255,127,14, 0.4)\",\"rgba(44,160,44, 0.4)\",\"rgba(214,39,40, 0.4)\",\"rgba(31,119,180, 0.4)\",\"rgba(255,127,14, 0.4)\",\"rgba(44,160,44, 0.4)\",\"rgba(214,39,40, 0.4)\",\"rgba(174,199,232, 0.4)\",\"rgba(255,187,120, 0.4)\",\"rgba(152,223,138, 0.4)\",\"rgba(255,152,150, 0.4)\",\"rgba(31,119,180, 0.4)\",\"rgba(255,127,14, 0.4)\",\"rgba(44,160,44, 0.4)\",\"rgba(214,39,40, 0.4)\",\"rgba(31,119,180, 0.4)\",\"rgba(255,127,14, 0.4)\",\"rgba(44,160,44, 0.4)\",\"rgba(214,39,40, 0.4)\",\"rgba(174,199,232, 0.4)\",\"rgba(255,187,120, 0.4)\",\"rgba(152,223,138, 0.4)\",\"rgba(255,152,150, 0.4)\"],\"source\":[0,0,0,0,0,0,0,0,1,1,1,1,1,1,1,1,2,2,2,2,2,2,2,2,3,3,3,3,3,3,3,3],\"target\":[4,5,6,7,8,9,10,11,4,5,6,7,8,9,10,11,4,5,6,7,8,9,10,11,4,5,6,7,8,9,10,11],\"value\":[397028065,0,0,0,0,0,0,0,0,464749757,0,0,0,0,0,0,0,0,372594352,0,0,0,0,0,0,0,0,456236985,0,0,0,0]},\"node\":{\"color\":[\"#1f77b4\",\"#ff7f0e\",\"#2ca02c\",\"#d62728\",\"#1f77b4\",\"#ff7f0e\",\"#2ca02c\",\"#d62728\",\"#aec7e8\",\"#ffbb78\",\"#98df8a\",\"#ff9896\"],\"label\":[\"EU<sub>u</sub>\",\"US-E<sub>u</sub>\",\"US-W<sub>u</sub>\",\"AP<sub>u</sub>\",\"EU<sub>e</sub>\",\"US-E<sub>e</sub>\",\"US-W<sub>e</sub>\",\"AP<sub>e</sub>\",\"EU<sub>c</sub>\",\"US-E<sub>c</sub>\",\"US-W<sub>c</sub>\",\"AP<sub>c</sub>\"],\"line\":{\"color\":\"black\",\"width\":0.5},\"pad\":15,\"thickness\":20},\"type\":\"sankey\"}],                        {\"template\":{\"data\":{\"histogram2dcontour\":[{\"type\":\"histogram2dcontour\",\"colorbar\":{\"outlinewidth\":0,\"ticks\":\"\"},\"colorscale\":[[0.0,\"#0d0887\"],[0.1111111111111111,\"#46039f\"],[0.2222222222222222,\"#7201a8\"],[0.3333333333333333,\"#9c179e\"],[0.4444444444444444,\"#bd3786\"],[0.5555555555555556,\"#d8576b\"],[0.6666666666666666,\"#ed7953\"],[0.7777777777777778,\"#fb9f3a\"],[0.8888888888888888,\"#fdca26\"],[1.0,\"#f0f921\"]]}],\"choropleth\":[{\"type\":\"choropleth\",\"colorbar\":{\"outlinewidth\":0,\"ticks\":\"\"}}],\"histogram2d\":[{\"type\":\"histogram2d\",\"colorbar\":{\"outlinewidth\":0,\"ticks\":\"\"},\"colorscale\":[[0.0,\"#0d0887\"],[0.1111111111111111,\"#46039f\"],[0.2222222222222222,\"#7201a8\"],[0.3333333333333333,\"#9c179e\"],[0.4444444444444444,\"#bd3786\"],[0.5555555555555556,\"#d8576b\"],[0.6666666666666666,\"#ed7953\"],[0.7777777777777778,\"#fb9f3a\"],[0.8888888888888888,\"#fdca26\"],[1.0,\"#f0f921\"]]}],\"heatmap\":[{\"type\":\"heatmap\",\"colorbar\":{\"outlinewidth\":0,\"ticks\":\"\"},\"colorscale\":[[0.0,\"#0d0887\"],[0.1111111111111111,\"#46039f\"],[0.2222222222222222,\"#7201a8\"],[0.3333333333333333,\"#9c179e\"],[0.4444444444444444,\"#bd3786\"],[0.5555555555555556,\"#d8576b\"],[0.6666666666666666,\"#ed7953\"],[0.7777777777777778,\"#fb9f3a\"],[0.8888888888888888,\"#fdca26\"],[1.0,\"#f0f921\"]]}],\"heatmapgl\":[{\"type\":\"heatmapgl\",\"colorbar\":{\"outlinewidth\":0,\"ticks\":\"\"},\"colorscale\":[[0.0,\"#0d0887\"],[0.1111111111111111,\"#46039f\"],[0.2222222222222222,\"#7201a8\"],[0.3333333333333333,\"#9c179e\"],[0.4444444444444444,\"#bd3786\"],[0.5555555555555556,\"#d8576b\"],[0.6666666666666666,\"#ed7953\"],[0.7777777777777778,\"#fb9f3a\"],[0.8888888888888888,\"#fdca26\"],[1.0,\"#f0f921\"]]}],\"contourcarpet\":[{\"type\":\"contourcarpet\",\"colorbar\":{\"outlinewidth\":0,\"ticks\":\"\"}}],\"contour\":[{\"type\":\"contour\",\"colorbar\":{\"outlinewidth\":0,\"ticks\":\"\"},\"colorscale\":[[0.0,\"#0d0887\"],[0.1111111111111111,\"#46039f\"],[0.2222222222222222,\"#7201a8\"],[0.3333333333333333,\"#9c179e\"],[0.4444444444444444,\"#bd3786\"],[0.5555555555555556,\"#d8576b\"],[0.6666666666666666,\"#ed7953\"],[0.7777777777777778,\"#fb9f3a\"],[0.8888888888888888,\"#fdca26\"],[1.0,\"#f0f921\"]]}],\"surface\":[{\"type\":\"surface\",\"colorbar\":{\"outlinewidth\":0,\"ticks\":\"\"},\"colorscale\":[[0.0,\"#0d0887\"],[0.1111111111111111,\"#46039f\"],[0.2222222222222222,\"#7201a8\"],[0.3333333333333333,\"#9c179e\"],[0.4444444444444444,\"#bd3786\"],[0.5555555555555556,\"#d8576b\"],[0.6666666666666666,\"#ed7953\"],[0.7777777777777778,\"#fb9f3a\"],[0.8888888888888888,\"#fdca26\"],[1.0,\"#f0f921\"]]}],\"mesh3d\":[{\"type\":\"mesh3d\",\"colorbar\":{\"outlinewidth\":0,\"ticks\":\"\"}}],\"scatter\":[{\"fillpattern\":{\"fillmode\":\"overlay\",\"size\":10,\"solidity\":0.2},\"type\":\"scatter\"}],\"parcoords\":[{\"type\":\"parcoords\",\"line\":{\"colorbar\":{\"outlinewidth\":0,\"ticks\":\"\"}}}],\"scatterpolargl\":[{\"type\":\"scatterpolargl\",\"marker\":{\"colorbar\":{\"outlinewidth\":0,\"ticks\":\"\"}}}],\"bar\":[{\"error_x\":{\"color\":\"#2a3f5f\"},\"error_y\":{\"color\":\"#2a3f5f\"},\"marker\":{\"line\":{\"color\":\"#E5ECF6\",\"width\":0.5},\"pattern\":{\"fillmode\":\"overlay\",\"size\":10,\"solidity\":0.2}},\"type\":\"bar\"}],\"scattergeo\":[{\"type\":\"scattergeo\",\"marker\":{\"colorbar\":{\"outlinewidth\":0,\"ticks\":\"\"}}}],\"scatterpolar\":[{\"type\":\"scatterpolar\",\"marker\":{\"colorbar\":{\"outlinewidth\":0,\"ticks\":\"\"}}}],\"histogram\":[{\"marker\":{\"pattern\":{\"fillmode\":\"overlay\",\"size\":10,\"solidity\":0.2}},\"type\":\"histogram\"}],\"scattergl\":[{\"type\":\"scattergl\",\"marker\":{\"colorbar\":{\"outlinewidth\":0,\"ticks\":\"\"}}}],\"scatter3d\":[{\"type\":\"scatter3d\",\"line\":{\"colorbar\":{\"outlinewidth\":0,\"ticks\":\"\"}},\"marker\":{\"colorbar\":{\"outlinewidth\":0,\"ticks\":\"\"}}}],\"scattermapbox\":[{\"type\":\"scattermapbox\",\"marker\":{\"colorbar\":{\"outlinewidth\":0,\"ticks\":\"\"}}}],\"scatterternary\":[{\"type\":\"scatterternary\",\"marker\":{\"colorbar\":{\"outlinewidth\":0,\"ticks\":\"\"}}}],\"scattercarpet\":[{\"type\":\"scattercarpet\",\"marker\":{\"colorbar\":{\"outlinewidth\":0,\"ticks\":\"\"}}}],\"carpet\":[{\"aaxis\":{\"endlinecolor\":\"#2a3f5f\",\"gridcolor\":\"white\",\"linecolor\":\"white\",\"minorgridcolor\":\"white\",\"startlinecolor\":\"#2a3f5f\"},\"baxis\":{\"endlinecolor\":\"#2a3f5f\",\"gridcolor\":\"white\",\"linecolor\":\"white\",\"minorgridcolor\":\"white\",\"startlinecolor\":\"#2a3f5f\"},\"type\":\"carpet\"}],\"table\":[{\"cells\":{\"fill\":{\"color\":\"#EBF0F8\"},\"line\":{\"color\":\"white\"}},\"header\":{\"fill\":{\"color\":\"#C8D4E3\"},\"line\":{\"color\":\"white\"}},\"type\":\"table\"}],\"barpolar\":[{\"marker\":{\"line\":{\"color\":\"#E5ECF6\",\"width\":0.5},\"pattern\":{\"fillmode\":\"overlay\",\"size\":10,\"solidity\":0.2}},\"type\":\"barpolar\"}],\"pie\":[{\"automargin\":true,\"type\":\"pie\"}]},\"layout\":{\"autotypenumbers\":\"strict\",\"colorway\":[\"#636efa\",\"#EF553B\",\"#00cc96\",\"#ab63fa\",\"#FFA15A\",\"#19d3f3\",\"#FF6692\",\"#B6E880\",\"#FF97FF\",\"#FECB52\"],\"font\":{\"color\":\"#2a3f5f\"},\"hovermode\":\"closest\",\"hoverlabel\":{\"align\":\"left\"},\"paper_bgcolor\":\"white\",\"plot_bgcolor\":\"#E5ECF6\",\"polar\":{\"bgcolor\":\"#E5ECF6\",\"angularaxis\":{\"gridcolor\":\"white\",\"linecolor\":\"white\",\"ticks\":\"\"},\"radialaxis\":{\"gridcolor\":\"white\",\"linecolor\":\"white\",\"ticks\":\"\"}},\"ternary\":{\"bgcolor\":\"#E5ECF6\",\"aaxis\":{\"gridcolor\":\"white\",\"linecolor\":\"white\",\"ticks\":\"\"},\"baxis\":{\"gridcolor\":\"white\",\"linecolor\":\"white\",\"ticks\":\"\"},\"caxis\":{\"gridcolor\":\"white\",\"linecolor\":\"white\",\"ticks\":\"\"}},\"coloraxis\":{\"colorbar\":{\"outlinewidth\":0,\"ticks\":\"\"}},\"colorscale\":{\"sequential\":[[0.0,\"#0d0887\"],[0.1111111111111111,\"#46039f\"],[0.2222222222222222,\"#7201a8\"],[0.3333333333333333,\"#9c179e\"],[0.4444444444444444,\"#bd3786\"],[0.5555555555555556,\"#d8576b\"],[0.6666666666666666,\"#ed7953\"],[0.7777777777777778,\"#fb9f3a\"],[0.8888888888888888,\"#fdca26\"],[1.0,\"#f0f921\"]],\"sequentialminus\":[[0.0,\"#0d0887\"],[0.1111111111111111,\"#46039f\"],[0.2222222222222222,\"#7201a8\"],[0.3333333333333333,\"#9c179e\"],[0.4444444444444444,\"#bd3786\"],[0.5555555555555556,\"#d8576b\"],[0.6666666666666666,\"#ed7953\"],[0.7777777777777778,\"#fb9f3a\"],[0.8888888888888888,\"#fdca26\"],[1.0,\"#f0f921\"]],\"diverging\":[[0,\"#8e0152\"],[0.1,\"#c51b7d\"],[0.2,\"#de77ae\"],[0.3,\"#f1b6da\"],[0.4,\"#fde0ef\"],[0.5,\"#f7f7f7\"],[0.6,\"#e6f5d0\"],[0.7,\"#b8e186\"],[0.8,\"#7fbc41\"],[0.9,\"#4d9221\"],[1,\"#276419\"]]},\"xaxis\":{\"gridcolor\":\"white\",\"linecolor\":\"white\",\"ticks\":\"\",\"title\":{\"standoff\":15},\"zerolinecolor\":\"white\",\"automargin\":true,\"zerolinewidth\":2},\"yaxis\":{\"gridcolor\":\"white\",\"linecolor\":\"white\",\"ticks\":\"\",\"title\":{\"standoff\":15},\"zerolinecolor\":\"white\",\"automargin\":true,\"zerolinewidth\":2},\"scene\":{\"xaxis\":{\"backgroundcolor\":\"#E5ECF6\",\"gridcolor\":\"white\",\"linecolor\":\"white\",\"showbackground\":true,\"ticks\":\"\",\"zerolinecolor\":\"white\",\"gridwidth\":2},\"yaxis\":{\"backgroundcolor\":\"#E5ECF6\",\"gridcolor\":\"white\",\"linecolor\":\"white\",\"showbackground\":true,\"ticks\":\"\",\"zerolinecolor\":\"white\",\"gridwidth\":2},\"zaxis\":{\"backgroundcolor\":\"#E5ECF6\",\"gridcolor\":\"white\",\"linecolor\":\"white\",\"showbackground\":true,\"ticks\":\"\",\"zerolinecolor\":\"white\",\"gridwidth\":2}},\"shapedefaults\":{\"line\":{\"color\":\"#2a3f5f\"}},\"annotationdefaults\":{\"arrowcolor\":\"#2a3f5f\",\"arrowhead\":0,\"arrowwidth\":1},\"geo\":{\"bgcolor\":\"white\",\"landcolor\":\"#E5ECF6\",\"subunitcolor\":\"white\",\"showland\":true,\"showlakes\":true,\"lakecolor\":\"white\"},\"title\":{\"x\":0.05},\"mapbox\":{\"style\":\"light\"}}},\"margin\":{\"l\":20,\"r\":20,\"t\":20,\"b\":20},\"font\":{\"family\":\"Arial\",\"size\":22,\"color\":\"Black\"}},                        {\"responsive\": true}                    ).then(function(){\n",
       "                            \n",
       "var gd = document.getElementById('f98c3e81-2da4-4f9b-a582-90ac63acf563');\n",
       "var x = new MutationObserver(function (mutations, observer) {{\n",
       "        var display = window.getComputedStyle(gd).display;\n",
       "        if (!display || display === 'none') {{\n",
       "            console.log([gd, 'removed!']);\n",
       "            Plotly.purge(gd);\n",
       "            observer.disconnect();\n",
       "        }}\n",
       "}});\n",
       "\n",
       "// Listen for the removal of the full notebook cells\n",
       "var notebookContainer = gd.closest('#notebook-container');\n",
       "if (notebookContainer) {{\n",
       "    x.observe(notebookContainer, {childList: true});\n",
       "}}\n",
       "\n",
       "// Listen for the clearing of the current output cell\n",
       "var outputEl = gd.closest('.output');\n",
       "if (outputEl) {{\n",
       "    x.observe(outputEl, {childList: true});\n",
       "}}\n",
       "\n",
       "                        })                };                });            </script>        </div>"
      ]
     },
     "metadata": {},
     "output_type": "display_data"
    },
    {
     "data": {
      "application/vnd.plotly.v1+json": {
       "config": {
        "plotlyServerURL": "https://plot.ly"
       },
       "data": [
        {
         "link": {
          "color": [
           "rgba(31,119,180, 0.4)",
           "rgba(255,127,14, 0.4)",
           "rgba(44,160,44, 0.4)",
           "rgba(214,39,40, 0.4)",
           "rgba(31,119,180, 0.4)",
           "rgba(255,127,14, 0.4)",
           "rgba(44,160,44, 0.4)",
           "rgba(214,39,40, 0.4)",
           "rgba(174,199,232, 0.4)",
           "rgba(255,187,120, 0.4)",
           "rgba(152,223,138, 0.4)",
           "rgba(255,152,150, 0.4)",
           "rgba(31,119,180, 0.4)",
           "rgba(255,127,14, 0.4)",
           "rgba(44,160,44, 0.4)",
           "rgba(214,39,40, 0.4)",
           "rgba(31,119,180, 0.4)",
           "rgba(255,127,14, 0.4)",
           "rgba(44,160,44, 0.4)",
           "rgba(214,39,40, 0.4)",
           "rgba(174,199,232, 0.4)",
           "rgba(255,187,120, 0.4)",
           "rgba(152,223,138, 0.4)",
           "rgba(255,152,150, 0.4)",
           "rgba(31,119,180, 0.4)",
           "rgba(255,127,14, 0.4)",
           "rgba(44,160,44, 0.4)",
           "rgba(214,39,40, 0.4)",
           "rgba(31,119,180, 0.4)",
           "rgba(255,127,14, 0.4)",
           "rgba(44,160,44, 0.4)",
           "rgba(214,39,40, 0.4)",
           "rgba(174,199,232, 0.4)",
           "rgba(255,187,120, 0.4)",
           "rgba(152,223,138, 0.4)",
           "rgba(255,152,150, 0.4)",
           "rgba(31,119,180, 0.4)",
           "rgba(255,127,14, 0.4)",
           "rgba(44,160,44, 0.4)",
           "rgba(214,39,40, 0.4)",
           "rgba(31,119,180, 0.4)",
           "rgba(255,127,14, 0.4)",
           "rgba(44,160,44, 0.4)",
           "rgba(214,39,40, 0.4)",
           "rgba(174,199,232, 0.4)",
           "rgba(255,187,120, 0.4)",
           "rgba(152,223,138, 0.4)",
           "rgba(255,152,150, 0.4)"
          ],
          "source": [
           0,
           0,
           0,
           0,
           0,
           0,
           0,
           0,
           1,
           1,
           1,
           1,
           1,
           1,
           1,
           1,
           2,
           2,
           2,
           2,
           2,
           2,
           2,
           2,
           3,
           3,
           3,
           3,
           3,
           3,
           3,
           3
          ],
          "target": [
           4,
           5,
           6,
           7,
           8,
           9,
           10,
           11,
           4,
           5,
           6,
           7,
           8,
           9,
           10,
           11,
           4,
           5,
           6,
           7,
           8,
           9,
           10,
           11,
           4,
           5,
           6,
           7,
           8,
           9,
           10,
           11
          ],
          "value": [
           0,
           0,
           0,
           0,
           0,
           397028065,
           0,
           0,
           0,
           0,
           0,
           0,
           0,
           464749757,
           0,
           0,
           0,
           0,
           0,
           0,
           0,
           0,
           372594352,
           0,
           0,
           0,
           0,
           0,
           0,
           0,
           0,
           456236985
          ]
         },
         "node": {
          "color": [
           "#1f77b4",
           "#ff7f0e",
           "#2ca02c",
           "#d62728",
           "#1f77b4",
           "#ff7f0e",
           "#2ca02c",
           "#d62728",
           "#aec7e8",
           "#ffbb78",
           "#98df8a",
           "#ff9896"
          ],
          "label": [
           "EU<sub>u</sub>",
           "US-E<sub>u</sub>",
           "US-W<sub>u</sub>",
           "AP<sub>u</sub>",
           "EU<sub>e</sub>",
           "US-E<sub>e</sub>",
           "US-W<sub>e</sub>",
           "AP<sub>e</sub>",
           "EU<sub>c</sub>",
           "US-E<sub>c</sub>",
           "US-W<sub>c</sub>",
           "AP<sub>c</sub>"
          ],
          "line": {
           "color": "black",
           "width": 0.5
          },
          "pad": 15,
          "thickness": 20
         },
         "type": "sankey"
        }
       ],
       "layout": {
        "font": {
         "color": "Black",
         "family": "Arial",
         "size": 22
        },
        "margin": {
         "b": 20,
         "l": 20,
         "r": 20,
         "t": 20
        },
        "template": {
         "data": {
          "bar": [
           {
            "error_x": {
             "color": "#2a3f5f"
            },
            "error_y": {
             "color": "#2a3f5f"
            },
            "marker": {
             "line": {
              "color": "#E5ECF6",
              "width": 0.5
             },
             "pattern": {
              "fillmode": "overlay",
              "size": 10,
              "solidity": 0.2
             }
            },
            "type": "bar"
           }
          ],
          "barpolar": [
           {
            "marker": {
             "line": {
              "color": "#E5ECF6",
              "width": 0.5
             },
             "pattern": {
              "fillmode": "overlay",
              "size": 10,
              "solidity": 0.2
             }
            },
            "type": "barpolar"
           }
          ],
          "carpet": [
           {
            "aaxis": {
             "endlinecolor": "#2a3f5f",
             "gridcolor": "white",
             "linecolor": "white",
             "minorgridcolor": "white",
             "startlinecolor": "#2a3f5f"
            },
            "baxis": {
             "endlinecolor": "#2a3f5f",
             "gridcolor": "white",
             "linecolor": "white",
             "minorgridcolor": "white",
             "startlinecolor": "#2a3f5f"
            },
            "type": "carpet"
           }
          ],
          "choropleth": [
           {
            "colorbar": {
             "outlinewidth": 0,
             "ticks": ""
            },
            "type": "choropleth"
           }
          ],
          "contour": [
           {
            "colorbar": {
             "outlinewidth": 0,
             "ticks": ""
            },
            "colorscale": [
             [
              0,
              "#0d0887"
             ],
             [
              0.1111111111111111,
              "#46039f"
             ],
             [
              0.2222222222222222,
              "#7201a8"
             ],
             [
              0.3333333333333333,
              "#9c179e"
             ],
             [
              0.4444444444444444,
              "#bd3786"
             ],
             [
              0.5555555555555556,
              "#d8576b"
             ],
             [
              0.6666666666666666,
              "#ed7953"
             ],
             [
              0.7777777777777778,
              "#fb9f3a"
             ],
             [
              0.8888888888888888,
              "#fdca26"
             ],
             [
              1,
              "#f0f921"
             ]
            ],
            "type": "contour"
           }
          ],
          "contourcarpet": [
           {
            "colorbar": {
             "outlinewidth": 0,
             "ticks": ""
            },
            "type": "contourcarpet"
           }
          ],
          "heatmap": [
           {
            "colorbar": {
             "outlinewidth": 0,
             "ticks": ""
            },
            "colorscale": [
             [
              0,
              "#0d0887"
             ],
             [
              0.1111111111111111,
              "#46039f"
             ],
             [
              0.2222222222222222,
              "#7201a8"
             ],
             [
              0.3333333333333333,
              "#9c179e"
             ],
             [
              0.4444444444444444,
              "#bd3786"
             ],
             [
              0.5555555555555556,
              "#d8576b"
             ],
             [
              0.6666666666666666,
              "#ed7953"
             ],
             [
              0.7777777777777778,
              "#fb9f3a"
             ],
             [
              0.8888888888888888,
              "#fdca26"
             ],
             [
              1,
              "#f0f921"
             ]
            ],
            "type": "heatmap"
           }
          ],
          "heatmapgl": [
           {
            "colorbar": {
             "outlinewidth": 0,
             "ticks": ""
            },
            "colorscale": [
             [
              0,
              "#0d0887"
             ],
             [
              0.1111111111111111,
              "#46039f"
             ],
             [
              0.2222222222222222,
              "#7201a8"
             ],
             [
              0.3333333333333333,
              "#9c179e"
             ],
             [
              0.4444444444444444,
              "#bd3786"
             ],
             [
              0.5555555555555556,
              "#d8576b"
             ],
             [
              0.6666666666666666,
              "#ed7953"
             ],
             [
              0.7777777777777778,
              "#fb9f3a"
             ],
             [
              0.8888888888888888,
              "#fdca26"
             ],
             [
              1,
              "#f0f921"
             ]
            ],
            "type": "heatmapgl"
           }
          ],
          "histogram": [
           {
            "marker": {
             "pattern": {
              "fillmode": "overlay",
              "size": 10,
              "solidity": 0.2
             }
            },
            "type": "histogram"
           }
          ],
          "histogram2d": [
           {
            "colorbar": {
             "outlinewidth": 0,
             "ticks": ""
            },
            "colorscale": [
             [
              0,
              "#0d0887"
             ],
             [
              0.1111111111111111,
              "#46039f"
             ],
             [
              0.2222222222222222,
              "#7201a8"
             ],
             [
              0.3333333333333333,
              "#9c179e"
             ],
             [
              0.4444444444444444,
              "#bd3786"
             ],
             [
              0.5555555555555556,
              "#d8576b"
             ],
             [
              0.6666666666666666,
              "#ed7953"
             ],
             [
              0.7777777777777778,
              "#fb9f3a"
             ],
             [
              0.8888888888888888,
              "#fdca26"
             ],
             [
              1,
              "#f0f921"
             ]
            ],
            "type": "histogram2d"
           }
          ],
          "histogram2dcontour": [
           {
            "colorbar": {
             "outlinewidth": 0,
             "ticks": ""
            },
            "colorscale": [
             [
              0,
              "#0d0887"
             ],
             [
              0.1111111111111111,
              "#46039f"
             ],
             [
              0.2222222222222222,
              "#7201a8"
             ],
             [
              0.3333333333333333,
              "#9c179e"
             ],
             [
              0.4444444444444444,
              "#bd3786"
             ],
             [
              0.5555555555555556,
              "#d8576b"
             ],
             [
              0.6666666666666666,
              "#ed7953"
             ],
             [
              0.7777777777777778,
              "#fb9f3a"
             ],
             [
              0.8888888888888888,
              "#fdca26"
             ],
             [
              1,
              "#f0f921"
             ]
            ],
            "type": "histogram2dcontour"
           }
          ],
          "mesh3d": [
           {
            "colorbar": {
             "outlinewidth": 0,
             "ticks": ""
            },
            "type": "mesh3d"
           }
          ],
          "parcoords": [
           {
            "line": {
             "colorbar": {
              "outlinewidth": 0,
              "ticks": ""
             }
            },
            "type": "parcoords"
           }
          ],
          "pie": [
           {
            "automargin": true,
            "type": "pie"
           }
          ],
          "scatter": [
           {
            "fillpattern": {
             "fillmode": "overlay",
             "size": 10,
             "solidity": 0.2
            },
            "type": "scatter"
           }
          ],
          "scatter3d": [
           {
            "line": {
             "colorbar": {
              "outlinewidth": 0,
              "ticks": ""
             }
            },
            "marker": {
             "colorbar": {
              "outlinewidth": 0,
              "ticks": ""
             }
            },
            "type": "scatter3d"
           }
          ],
          "scattercarpet": [
           {
            "marker": {
             "colorbar": {
              "outlinewidth": 0,
              "ticks": ""
             }
            },
            "type": "scattercarpet"
           }
          ],
          "scattergeo": [
           {
            "marker": {
             "colorbar": {
              "outlinewidth": 0,
              "ticks": ""
             }
            },
            "type": "scattergeo"
           }
          ],
          "scattergl": [
           {
            "marker": {
             "colorbar": {
              "outlinewidth": 0,
              "ticks": ""
             }
            },
            "type": "scattergl"
           }
          ],
          "scattermapbox": [
           {
            "marker": {
             "colorbar": {
              "outlinewidth": 0,
              "ticks": ""
             }
            },
            "type": "scattermapbox"
           }
          ],
          "scatterpolar": [
           {
            "marker": {
             "colorbar": {
              "outlinewidth": 0,
              "ticks": ""
             }
            },
            "type": "scatterpolar"
           }
          ],
          "scatterpolargl": [
           {
            "marker": {
             "colorbar": {
              "outlinewidth": 0,
              "ticks": ""
             }
            },
            "type": "scatterpolargl"
           }
          ],
          "scatterternary": [
           {
            "marker": {
             "colorbar": {
              "outlinewidth": 0,
              "ticks": ""
             }
            },
            "type": "scatterternary"
           }
          ],
          "surface": [
           {
            "colorbar": {
             "outlinewidth": 0,
             "ticks": ""
            },
            "colorscale": [
             [
              0,
              "#0d0887"
             ],
             [
              0.1111111111111111,
              "#46039f"
             ],
             [
              0.2222222222222222,
              "#7201a8"
             ],
             [
              0.3333333333333333,
              "#9c179e"
             ],
             [
              0.4444444444444444,
              "#bd3786"
             ],
             [
              0.5555555555555556,
              "#d8576b"
             ],
             [
              0.6666666666666666,
              "#ed7953"
             ],
             [
              0.7777777777777778,
              "#fb9f3a"
             ],
             [
              0.8888888888888888,
              "#fdca26"
             ],
             [
              1,
              "#f0f921"
             ]
            ],
            "type": "surface"
           }
          ],
          "table": [
           {
            "cells": {
             "fill": {
              "color": "#EBF0F8"
             },
             "line": {
              "color": "white"
             }
            },
            "header": {
             "fill": {
              "color": "#C8D4E3"
             },
             "line": {
              "color": "white"
             }
            },
            "type": "table"
           }
          ]
         },
         "layout": {
          "annotationdefaults": {
           "arrowcolor": "#2a3f5f",
           "arrowhead": 0,
           "arrowwidth": 1
          },
          "autotypenumbers": "strict",
          "coloraxis": {
           "colorbar": {
            "outlinewidth": 0,
            "ticks": ""
           }
          },
          "colorscale": {
           "diverging": [
            [
             0,
             "#8e0152"
            ],
            [
             0.1,
             "#c51b7d"
            ],
            [
             0.2,
             "#de77ae"
            ],
            [
             0.3,
             "#f1b6da"
            ],
            [
             0.4,
             "#fde0ef"
            ],
            [
             0.5,
             "#f7f7f7"
            ],
            [
             0.6,
             "#e6f5d0"
            ],
            [
             0.7,
             "#b8e186"
            ],
            [
             0.8,
             "#7fbc41"
            ],
            [
             0.9,
             "#4d9221"
            ],
            [
             1,
             "#276419"
            ]
           ],
           "sequential": [
            [
             0,
             "#0d0887"
            ],
            [
             0.1111111111111111,
             "#46039f"
            ],
            [
             0.2222222222222222,
             "#7201a8"
            ],
            [
             0.3333333333333333,
             "#9c179e"
            ],
            [
             0.4444444444444444,
             "#bd3786"
            ],
            [
             0.5555555555555556,
             "#d8576b"
            ],
            [
             0.6666666666666666,
             "#ed7953"
            ],
            [
             0.7777777777777778,
             "#fb9f3a"
            ],
            [
             0.8888888888888888,
             "#fdca26"
            ],
            [
             1,
             "#f0f921"
            ]
           ],
           "sequentialminus": [
            [
             0,
             "#0d0887"
            ],
            [
             0.1111111111111111,
             "#46039f"
            ],
            [
             0.2222222222222222,
             "#7201a8"
            ],
            [
             0.3333333333333333,
             "#9c179e"
            ],
            [
             0.4444444444444444,
             "#bd3786"
            ],
            [
             0.5555555555555556,
             "#d8576b"
            ],
            [
             0.6666666666666666,
             "#ed7953"
            ],
            [
             0.7777777777777778,
             "#fb9f3a"
            ],
            [
             0.8888888888888888,
             "#fdca26"
            ],
            [
             1,
             "#f0f921"
            ]
           ]
          },
          "colorway": [
           "#636efa",
           "#EF553B",
           "#00cc96",
           "#ab63fa",
           "#FFA15A",
           "#19d3f3",
           "#FF6692",
           "#B6E880",
           "#FF97FF",
           "#FECB52"
          ],
          "font": {
           "color": "#2a3f5f"
          },
          "geo": {
           "bgcolor": "white",
           "lakecolor": "white",
           "landcolor": "#E5ECF6",
           "showlakes": true,
           "showland": true,
           "subunitcolor": "white"
          },
          "hoverlabel": {
           "align": "left"
          },
          "hovermode": "closest",
          "mapbox": {
           "style": "light"
          },
          "paper_bgcolor": "white",
          "plot_bgcolor": "#E5ECF6",
          "polar": {
           "angularaxis": {
            "gridcolor": "white",
            "linecolor": "white",
            "ticks": ""
           },
           "bgcolor": "#E5ECF6",
           "radialaxis": {
            "gridcolor": "white",
            "linecolor": "white",
            "ticks": ""
           }
          },
          "scene": {
           "xaxis": {
            "backgroundcolor": "#E5ECF6",
            "gridcolor": "white",
            "gridwidth": 2,
            "linecolor": "white",
            "showbackground": true,
            "ticks": "",
            "zerolinecolor": "white"
           },
           "yaxis": {
            "backgroundcolor": "#E5ECF6",
            "gridcolor": "white",
            "gridwidth": 2,
            "linecolor": "white",
            "showbackground": true,
            "ticks": "",
            "zerolinecolor": "white"
           },
           "zaxis": {
            "backgroundcolor": "#E5ECF6",
            "gridcolor": "white",
            "gridwidth": 2,
            "linecolor": "white",
            "showbackground": true,
            "ticks": "",
            "zerolinecolor": "white"
           }
          },
          "shapedefaults": {
           "line": {
            "color": "#2a3f5f"
           }
          },
          "ternary": {
           "aaxis": {
            "gridcolor": "white",
            "linecolor": "white",
            "ticks": ""
           },
           "baxis": {
            "gridcolor": "white",
            "linecolor": "white",
            "ticks": ""
           },
           "bgcolor": "#E5ECF6",
           "caxis": {
            "gridcolor": "white",
            "linecolor": "white",
            "ticks": ""
           }
          },
          "title": {
           "x": 0.05
          },
          "xaxis": {
           "automargin": true,
           "gridcolor": "white",
           "linecolor": "white",
           "ticks": "",
           "title": {
            "standoff": 15
           },
           "zerolinecolor": "white",
           "zerolinewidth": 2
          },
          "yaxis": {
           "automargin": true,
           "gridcolor": "white",
           "linecolor": "white",
           "ticks": "",
           "title": {
            "standoff": 15
           },
           "zerolinecolor": "white",
           "zerolinewidth": 2
          }
         }
        }
       }
      },
      "text/html": [
       "<div>                            <div id=\"fbc33c95-19ed-4c79-ac87-1039f43ff393\" class=\"plotly-graph-div\" style=\"height:525px; width:100%;\"></div>            <script type=\"text/javascript\">                require([\"plotly\"], function(Plotly) {                    window.PLOTLYENV=window.PLOTLYENV || {};                                    if (document.getElementById(\"fbc33c95-19ed-4c79-ac87-1039f43ff393\")) {                    Plotly.newPlot(                        \"fbc33c95-19ed-4c79-ac87-1039f43ff393\",                        [{\"link\":{\"color\":[\"rgba(31,119,180, 0.4)\",\"rgba(255,127,14, 0.4)\",\"rgba(44,160,44, 0.4)\",\"rgba(214,39,40, 0.4)\",\"rgba(31,119,180, 0.4)\",\"rgba(255,127,14, 0.4)\",\"rgba(44,160,44, 0.4)\",\"rgba(214,39,40, 0.4)\",\"rgba(174,199,232, 0.4)\",\"rgba(255,187,120, 0.4)\",\"rgba(152,223,138, 0.4)\",\"rgba(255,152,150, 0.4)\",\"rgba(31,119,180, 0.4)\",\"rgba(255,127,14, 0.4)\",\"rgba(44,160,44, 0.4)\",\"rgba(214,39,40, 0.4)\",\"rgba(31,119,180, 0.4)\",\"rgba(255,127,14, 0.4)\",\"rgba(44,160,44, 0.4)\",\"rgba(214,39,40, 0.4)\",\"rgba(174,199,232, 0.4)\",\"rgba(255,187,120, 0.4)\",\"rgba(152,223,138, 0.4)\",\"rgba(255,152,150, 0.4)\",\"rgba(31,119,180, 0.4)\",\"rgba(255,127,14, 0.4)\",\"rgba(44,160,44, 0.4)\",\"rgba(214,39,40, 0.4)\",\"rgba(31,119,180, 0.4)\",\"rgba(255,127,14, 0.4)\",\"rgba(44,160,44, 0.4)\",\"rgba(214,39,40, 0.4)\",\"rgba(174,199,232, 0.4)\",\"rgba(255,187,120, 0.4)\",\"rgba(152,223,138, 0.4)\",\"rgba(255,152,150, 0.4)\",\"rgba(31,119,180, 0.4)\",\"rgba(255,127,14, 0.4)\",\"rgba(44,160,44, 0.4)\",\"rgba(214,39,40, 0.4)\",\"rgba(31,119,180, 0.4)\",\"rgba(255,127,14, 0.4)\",\"rgba(44,160,44, 0.4)\",\"rgba(214,39,40, 0.4)\",\"rgba(174,199,232, 0.4)\",\"rgba(255,187,120, 0.4)\",\"rgba(152,223,138, 0.4)\",\"rgba(255,152,150, 0.4)\"],\"source\":[0,0,0,0,0,0,0,0,1,1,1,1,1,1,1,1,2,2,2,2,2,2,2,2,3,3,3,3,3,3,3,3],\"target\":[4,5,6,7,8,9,10,11,4,5,6,7,8,9,10,11,4,5,6,7,8,9,10,11,4,5,6,7,8,9,10,11],\"value\":[0,0,0,0,0,397028065,0,0,0,0,0,0,0,464749757,0,0,0,0,0,0,0,0,372594352,0,0,0,0,0,0,0,0,456236985]},\"node\":{\"color\":[\"#1f77b4\",\"#ff7f0e\",\"#2ca02c\",\"#d62728\",\"#1f77b4\",\"#ff7f0e\",\"#2ca02c\",\"#d62728\",\"#aec7e8\",\"#ffbb78\",\"#98df8a\",\"#ff9896\"],\"label\":[\"EU<sub>u</sub>\",\"US-E<sub>u</sub>\",\"US-W<sub>u</sub>\",\"AP<sub>u</sub>\",\"EU<sub>e</sub>\",\"US-E<sub>e</sub>\",\"US-W<sub>e</sub>\",\"AP<sub>e</sub>\",\"EU<sub>c</sub>\",\"US-E<sub>c</sub>\",\"US-W<sub>c</sub>\",\"AP<sub>c</sub>\"],\"line\":{\"color\":\"black\",\"width\":0.5},\"pad\":15,\"thickness\":20},\"type\":\"sankey\"}],                        {\"template\":{\"data\":{\"histogram2dcontour\":[{\"type\":\"histogram2dcontour\",\"colorbar\":{\"outlinewidth\":0,\"ticks\":\"\"},\"colorscale\":[[0.0,\"#0d0887\"],[0.1111111111111111,\"#46039f\"],[0.2222222222222222,\"#7201a8\"],[0.3333333333333333,\"#9c179e\"],[0.4444444444444444,\"#bd3786\"],[0.5555555555555556,\"#d8576b\"],[0.6666666666666666,\"#ed7953\"],[0.7777777777777778,\"#fb9f3a\"],[0.8888888888888888,\"#fdca26\"],[1.0,\"#f0f921\"]]}],\"choropleth\":[{\"type\":\"choropleth\",\"colorbar\":{\"outlinewidth\":0,\"ticks\":\"\"}}],\"histogram2d\":[{\"type\":\"histogram2d\",\"colorbar\":{\"outlinewidth\":0,\"ticks\":\"\"},\"colorscale\":[[0.0,\"#0d0887\"],[0.1111111111111111,\"#46039f\"],[0.2222222222222222,\"#7201a8\"],[0.3333333333333333,\"#9c179e\"],[0.4444444444444444,\"#bd3786\"],[0.5555555555555556,\"#d8576b\"],[0.6666666666666666,\"#ed7953\"],[0.7777777777777778,\"#fb9f3a\"],[0.8888888888888888,\"#fdca26\"],[1.0,\"#f0f921\"]]}],\"heatmap\":[{\"type\":\"heatmap\",\"colorbar\":{\"outlinewidth\":0,\"ticks\":\"\"},\"colorscale\":[[0.0,\"#0d0887\"],[0.1111111111111111,\"#46039f\"],[0.2222222222222222,\"#7201a8\"],[0.3333333333333333,\"#9c179e\"],[0.4444444444444444,\"#bd3786\"],[0.5555555555555556,\"#d8576b\"],[0.6666666666666666,\"#ed7953\"],[0.7777777777777778,\"#fb9f3a\"],[0.8888888888888888,\"#fdca26\"],[1.0,\"#f0f921\"]]}],\"heatmapgl\":[{\"type\":\"heatmapgl\",\"colorbar\":{\"outlinewidth\":0,\"ticks\":\"\"},\"colorscale\":[[0.0,\"#0d0887\"],[0.1111111111111111,\"#46039f\"],[0.2222222222222222,\"#7201a8\"],[0.3333333333333333,\"#9c179e\"],[0.4444444444444444,\"#bd3786\"],[0.5555555555555556,\"#d8576b\"],[0.6666666666666666,\"#ed7953\"],[0.7777777777777778,\"#fb9f3a\"],[0.8888888888888888,\"#fdca26\"],[1.0,\"#f0f921\"]]}],\"contourcarpet\":[{\"type\":\"contourcarpet\",\"colorbar\":{\"outlinewidth\":0,\"ticks\":\"\"}}],\"contour\":[{\"type\":\"contour\",\"colorbar\":{\"outlinewidth\":0,\"ticks\":\"\"},\"colorscale\":[[0.0,\"#0d0887\"],[0.1111111111111111,\"#46039f\"],[0.2222222222222222,\"#7201a8\"],[0.3333333333333333,\"#9c179e\"],[0.4444444444444444,\"#bd3786\"],[0.5555555555555556,\"#d8576b\"],[0.6666666666666666,\"#ed7953\"],[0.7777777777777778,\"#fb9f3a\"],[0.8888888888888888,\"#fdca26\"],[1.0,\"#f0f921\"]]}],\"surface\":[{\"type\":\"surface\",\"colorbar\":{\"outlinewidth\":0,\"ticks\":\"\"},\"colorscale\":[[0.0,\"#0d0887\"],[0.1111111111111111,\"#46039f\"],[0.2222222222222222,\"#7201a8\"],[0.3333333333333333,\"#9c179e\"],[0.4444444444444444,\"#bd3786\"],[0.5555555555555556,\"#d8576b\"],[0.6666666666666666,\"#ed7953\"],[0.7777777777777778,\"#fb9f3a\"],[0.8888888888888888,\"#fdca26\"],[1.0,\"#f0f921\"]]}],\"mesh3d\":[{\"type\":\"mesh3d\",\"colorbar\":{\"outlinewidth\":0,\"ticks\":\"\"}}],\"scatter\":[{\"fillpattern\":{\"fillmode\":\"overlay\",\"size\":10,\"solidity\":0.2},\"type\":\"scatter\"}],\"parcoords\":[{\"type\":\"parcoords\",\"line\":{\"colorbar\":{\"outlinewidth\":0,\"ticks\":\"\"}}}],\"scatterpolargl\":[{\"type\":\"scatterpolargl\",\"marker\":{\"colorbar\":{\"outlinewidth\":0,\"ticks\":\"\"}}}],\"bar\":[{\"error_x\":{\"color\":\"#2a3f5f\"},\"error_y\":{\"color\":\"#2a3f5f\"},\"marker\":{\"line\":{\"color\":\"#E5ECF6\",\"width\":0.5},\"pattern\":{\"fillmode\":\"overlay\",\"size\":10,\"solidity\":0.2}},\"type\":\"bar\"}],\"scattergeo\":[{\"type\":\"scattergeo\",\"marker\":{\"colorbar\":{\"outlinewidth\":0,\"ticks\":\"\"}}}],\"scatterpolar\":[{\"type\":\"scatterpolar\",\"marker\":{\"colorbar\":{\"outlinewidth\":0,\"ticks\":\"\"}}}],\"histogram\":[{\"marker\":{\"pattern\":{\"fillmode\":\"overlay\",\"size\":10,\"solidity\":0.2}},\"type\":\"histogram\"}],\"scattergl\":[{\"type\":\"scattergl\",\"marker\":{\"colorbar\":{\"outlinewidth\":0,\"ticks\":\"\"}}}],\"scatter3d\":[{\"type\":\"scatter3d\",\"line\":{\"colorbar\":{\"outlinewidth\":0,\"ticks\":\"\"}},\"marker\":{\"colorbar\":{\"outlinewidth\":0,\"ticks\":\"\"}}}],\"scattermapbox\":[{\"type\":\"scattermapbox\",\"marker\":{\"colorbar\":{\"outlinewidth\":0,\"ticks\":\"\"}}}],\"scatterternary\":[{\"type\":\"scatterternary\",\"marker\":{\"colorbar\":{\"outlinewidth\":0,\"ticks\":\"\"}}}],\"scattercarpet\":[{\"type\":\"scattercarpet\",\"marker\":{\"colorbar\":{\"outlinewidth\":0,\"ticks\":\"\"}}}],\"carpet\":[{\"aaxis\":{\"endlinecolor\":\"#2a3f5f\",\"gridcolor\":\"white\",\"linecolor\":\"white\",\"minorgridcolor\":\"white\",\"startlinecolor\":\"#2a3f5f\"},\"baxis\":{\"endlinecolor\":\"#2a3f5f\",\"gridcolor\":\"white\",\"linecolor\":\"white\",\"minorgridcolor\":\"white\",\"startlinecolor\":\"#2a3f5f\"},\"type\":\"carpet\"}],\"table\":[{\"cells\":{\"fill\":{\"color\":\"#EBF0F8\"},\"line\":{\"color\":\"white\"}},\"header\":{\"fill\":{\"color\":\"#C8D4E3\"},\"line\":{\"color\":\"white\"}},\"type\":\"table\"}],\"barpolar\":[{\"marker\":{\"line\":{\"color\":\"#E5ECF6\",\"width\":0.5},\"pattern\":{\"fillmode\":\"overlay\",\"size\":10,\"solidity\":0.2}},\"type\":\"barpolar\"}],\"pie\":[{\"automargin\":true,\"type\":\"pie\"}]},\"layout\":{\"autotypenumbers\":\"strict\",\"colorway\":[\"#636efa\",\"#EF553B\",\"#00cc96\",\"#ab63fa\",\"#FFA15A\",\"#19d3f3\",\"#FF6692\",\"#B6E880\",\"#FF97FF\",\"#FECB52\"],\"font\":{\"color\":\"#2a3f5f\"},\"hovermode\":\"closest\",\"hoverlabel\":{\"align\":\"left\"},\"paper_bgcolor\":\"white\",\"plot_bgcolor\":\"#E5ECF6\",\"polar\":{\"bgcolor\":\"#E5ECF6\",\"angularaxis\":{\"gridcolor\":\"white\",\"linecolor\":\"white\",\"ticks\":\"\"},\"radialaxis\":{\"gridcolor\":\"white\",\"linecolor\":\"white\",\"ticks\":\"\"}},\"ternary\":{\"bgcolor\":\"#E5ECF6\",\"aaxis\":{\"gridcolor\":\"white\",\"linecolor\":\"white\",\"ticks\":\"\"},\"baxis\":{\"gridcolor\":\"white\",\"linecolor\":\"white\",\"ticks\":\"\"},\"caxis\":{\"gridcolor\":\"white\",\"linecolor\":\"white\",\"ticks\":\"\"}},\"coloraxis\":{\"colorbar\":{\"outlinewidth\":0,\"ticks\":\"\"}},\"colorscale\":{\"sequential\":[[0.0,\"#0d0887\"],[0.1111111111111111,\"#46039f\"],[0.2222222222222222,\"#7201a8\"],[0.3333333333333333,\"#9c179e\"],[0.4444444444444444,\"#bd3786\"],[0.5555555555555556,\"#d8576b\"],[0.6666666666666666,\"#ed7953\"],[0.7777777777777778,\"#fb9f3a\"],[0.8888888888888888,\"#fdca26\"],[1.0,\"#f0f921\"]],\"sequentialminus\":[[0.0,\"#0d0887\"],[0.1111111111111111,\"#46039f\"],[0.2222222222222222,\"#7201a8\"],[0.3333333333333333,\"#9c179e\"],[0.4444444444444444,\"#bd3786\"],[0.5555555555555556,\"#d8576b\"],[0.6666666666666666,\"#ed7953\"],[0.7777777777777778,\"#fb9f3a\"],[0.8888888888888888,\"#fdca26\"],[1.0,\"#f0f921\"]],\"diverging\":[[0,\"#8e0152\"],[0.1,\"#c51b7d\"],[0.2,\"#de77ae\"],[0.3,\"#f1b6da\"],[0.4,\"#fde0ef\"],[0.5,\"#f7f7f7\"],[0.6,\"#e6f5d0\"],[0.7,\"#b8e186\"],[0.8,\"#7fbc41\"],[0.9,\"#4d9221\"],[1,\"#276419\"]]},\"xaxis\":{\"gridcolor\":\"white\",\"linecolor\":\"white\",\"ticks\":\"\",\"title\":{\"standoff\":15},\"zerolinecolor\":\"white\",\"automargin\":true,\"zerolinewidth\":2},\"yaxis\":{\"gridcolor\":\"white\",\"linecolor\":\"white\",\"ticks\":\"\",\"title\":{\"standoff\":15},\"zerolinecolor\":\"white\",\"automargin\":true,\"zerolinewidth\":2},\"scene\":{\"xaxis\":{\"backgroundcolor\":\"#E5ECF6\",\"gridcolor\":\"white\",\"linecolor\":\"white\",\"showbackground\":true,\"ticks\":\"\",\"zerolinecolor\":\"white\",\"gridwidth\":2},\"yaxis\":{\"backgroundcolor\":\"#E5ECF6\",\"gridcolor\":\"white\",\"linecolor\":\"white\",\"showbackground\":true,\"ticks\":\"\",\"zerolinecolor\":\"white\",\"gridwidth\":2},\"zaxis\":{\"backgroundcolor\":\"#E5ECF6\",\"gridcolor\":\"white\",\"linecolor\":\"white\",\"showbackground\":true,\"ticks\":\"\",\"zerolinecolor\":\"white\",\"gridwidth\":2}},\"shapedefaults\":{\"line\":{\"color\":\"#2a3f5f\"}},\"annotationdefaults\":{\"arrowcolor\":\"#2a3f5f\",\"arrowhead\":0,\"arrowwidth\":1},\"geo\":{\"bgcolor\":\"white\",\"landcolor\":\"#E5ECF6\",\"subunitcolor\":\"white\",\"showland\":true,\"showlakes\":true,\"lakecolor\":\"white\"},\"title\":{\"x\":0.05},\"mapbox\":{\"style\":\"light\"}}},\"margin\":{\"l\":20,\"r\":20,\"t\":20,\"b\":20},\"font\":{\"family\":\"Arial\",\"size\":22,\"color\":\"Black\"}},                        {\"responsive\": true}                    ).then(function(){\n",
       "                            \n",
       "var gd = document.getElementById('fbc33c95-19ed-4c79-ac87-1039f43ff393');\n",
       "var x = new MutationObserver(function (mutations, observer) {{\n",
       "        var display = window.getComputedStyle(gd).display;\n",
       "        if (!display || display === 'none') {{\n",
       "            console.log([gd, 'removed!']);\n",
       "            Plotly.purge(gd);\n",
       "            observer.disconnect();\n",
       "        }}\n",
       "}});\n",
       "\n",
       "// Listen for the removal of the full notebook cells\n",
       "var notebookContainer = gd.closest('#notebook-container');\n",
       "if (notebookContainer) {{\n",
       "    x.observe(notebookContainer, {childList: true});\n",
       "}}\n",
       "\n",
       "// Listen for the clearing of the current output cell\n",
       "var outputEl = gd.closest('.output');\n",
       "if (outputEl) {{\n",
       "    x.observe(outputEl, {childList: true});\n",
       "}}\n",
       "\n",
       "                        })                };                });            </script>        </div>"
      ]
     },
     "metadata": {},
     "output_type": "display_data"
    },
    {
     "data": {
      "application/vnd.plotly.v1+json": {
       "config": {
        "plotlyServerURL": "https://plot.ly"
       },
       "data": [
        {
         "link": {
          "color": [
           "rgba(31,119,180, 0.4)",
           "rgba(255,127,14, 0.4)",
           "rgba(44,160,44, 0.4)",
           "rgba(214,39,40, 0.4)",
           "rgba(31,119,180, 0.4)",
           "rgba(255,127,14, 0.4)",
           "rgba(44,160,44, 0.4)",
           "rgba(214,39,40, 0.4)",
           "rgba(174,199,232, 0.4)",
           "rgba(255,187,120, 0.4)",
           "rgba(152,223,138, 0.4)",
           "rgba(255,152,150, 0.4)",
           "rgba(31,119,180, 0.4)",
           "rgba(255,127,14, 0.4)",
           "rgba(44,160,44, 0.4)",
           "rgba(214,39,40, 0.4)",
           "rgba(31,119,180, 0.4)",
           "rgba(255,127,14, 0.4)",
           "rgba(44,160,44, 0.4)",
           "rgba(214,39,40, 0.4)",
           "rgba(174,199,232, 0.4)",
           "rgba(255,187,120, 0.4)",
           "rgba(152,223,138, 0.4)",
           "rgba(255,152,150, 0.4)",
           "rgba(31,119,180, 0.4)",
           "rgba(255,127,14, 0.4)",
           "rgba(44,160,44, 0.4)",
           "rgba(214,39,40, 0.4)",
           "rgba(31,119,180, 0.4)",
           "rgba(255,127,14, 0.4)",
           "rgba(44,160,44, 0.4)",
           "rgba(214,39,40, 0.4)",
           "rgba(174,199,232, 0.4)",
           "rgba(255,187,120, 0.4)",
           "rgba(152,223,138, 0.4)",
           "rgba(255,152,150, 0.4)",
           "rgba(31,119,180, 0.4)",
           "rgba(255,127,14, 0.4)",
           "rgba(44,160,44, 0.4)",
           "rgba(214,39,40, 0.4)",
           "rgba(31,119,180, 0.4)",
           "rgba(255,127,14, 0.4)",
           "rgba(44,160,44, 0.4)",
           "rgba(214,39,40, 0.4)",
           "rgba(174,199,232, 0.4)",
           "rgba(255,187,120, 0.4)",
           "rgba(152,223,138, 0.4)",
           "rgba(255,152,150, 0.4)"
          ],
          "source": [
           0,
           0,
           0,
           0,
           0,
           0,
           0,
           0,
           1,
           1,
           1,
           1,
           1,
           1,
           1,
           1,
           2,
           2,
           2,
           2,
           2,
           2,
           2,
           2,
           3,
           3,
           3,
           3,
           3,
           3,
           3,
           3
          ],
          "target": [
           4,
           5,
           6,
           7,
           8,
           9,
           10,
           11,
           4,
           5,
           6,
           7,
           8,
           9,
           10,
           11,
           4,
           5,
           6,
           7,
           8,
           9,
           10,
           11,
           4,
           5,
           6,
           7,
           8,
           9,
           10,
           11
          ],
          "value": [
           0,
           0,
           0,
           0,
           0,
           0,
           118585246,
           278442830,
           0,
           0,
           0,
           0,
           0,
           0,
           72850767,
           391899001,
           0,
           0,
           0,
           0,
           0,
           0,
           71255416,
           301338947,
           0,
           0,
           0,
           0,
           0,
           0,
           77222427,
           379014569
          ]
         },
         "node": {
          "color": [
           "#1f77b4",
           "#ff7f0e",
           "#2ca02c",
           "#d62728",
           "#1f77b4",
           "#ff7f0e",
           "#2ca02c",
           "#d62728",
           "#aec7e8",
           "#ffbb78",
           "#98df8a",
           "#ff9896"
          ],
          "label": [
           "EU<sub>u</sub>",
           "US-E<sub>u</sub>",
           "US-W<sub>u</sub>",
           "AP<sub>u</sub>",
           "EU<sub>e</sub>",
           "US-E<sub>e</sub>",
           "US-W<sub>e</sub>",
           "AP<sub>e</sub>",
           "EU<sub>c</sub>",
           "US-E<sub>c</sub>",
           "US-W<sub>c</sub>",
           "AP<sub>c</sub>"
          ],
          "line": {
           "color": "black",
           "width": 0.5
          },
          "pad": 15,
          "thickness": 20
         },
         "type": "sankey"
        }
       ],
       "layout": {
        "font": {
         "color": "Black",
         "family": "Arial",
         "size": 22
        },
        "margin": {
         "b": 20,
         "l": 20,
         "r": 20,
         "t": 20
        },
        "template": {
         "data": {
          "bar": [
           {
            "error_x": {
             "color": "#2a3f5f"
            },
            "error_y": {
             "color": "#2a3f5f"
            },
            "marker": {
             "line": {
              "color": "#E5ECF6",
              "width": 0.5
             },
             "pattern": {
              "fillmode": "overlay",
              "size": 10,
              "solidity": 0.2
             }
            },
            "type": "bar"
           }
          ],
          "barpolar": [
           {
            "marker": {
             "line": {
              "color": "#E5ECF6",
              "width": 0.5
             },
             "pattern": {
              "fillmode": "overlay",
              "size": 10,
              "solidity": 0.2
             }
            },
            "type": "barpolar"
           }
          ],
          "carpet": [
           {
            "aaxis": {
             "endlinecolor": "#2a3f5f",
             "gridcolor": "white",
             "linecolor": "white",
             "minorgridcolor": "white",
             "startlinecolor": "#2a3f5f"
            },
            "baxis": {
             "endlinecolor": "#2a3f5f",
             "gridcolor": "white",
             "linecolor": "white",
             "minorgridcolor": "white",
             "startlinecolor": "#2a3f5f"
            },
            "type": "carpet"
           }
          ],
          "choropleth": [
           {
            "colorbar": {
             "outlinewidth": 0,
             "ticks": ""
            },
            "type": "choropleth"
           }
          ],
          "contour": [
           {
            "colorbar": {
             "outlinewidth": 0,
             "ticks": ""
            },
            "colorscale": [
             [
              0,
              "#0d0887"
             ],
             [
              0.1111111111111111,
              "#46039f"
             ],
             [
              0.2222222222222222,
              "#7201a8"
             ],
             [
              0.3333333333333333,
              "#9c179e"
             ],
             [
              0.4444444444444444,
              "#bd3786"
             ],
             [
              0.5555555555555556,
              "#d8576b"
             ],
             [
              0.6666666666666666,
              "#ed7953"
             ],
             [
              0.7777777777777778,
              "#fb9f3a"
             ],
             [
              0.8888888888888888,
              "#fdca26"
             ],
             [
              1,
              "#f0f921"
             ]
            ],
            "type": "contour"
           }
          ],
          "contourcarpet": [
           {
            "colorbar": {
             "outlinewidth": 0,
             "ticks": ""
            },
            "type": "contourcarpet"
           }
          ],
          "heatmap": [
           {
            "colorbar": {
             "outlinewidth": 0,
             "ticks": ""
            },
            "colorscale": [
             [
              0,
              "#0d0887"
             ],
             [
              0.1111111111111111,
              "#46039f"
             ],
             [
              0.2222222222222222,
              "#7201a8"
             ],
             [
              0.3333333333333333,
              "#9c179e"
             ],
             [
              0.4444444444444444,
              "#bd3786"
             ],
             [
              0.5555555555555556,
              "#d8576b"
             ],
             [
              0.6666666666666666,
              "#ed7953"
             ],
             [
              0.7777777777777778,
              "#fb9f3a"
             ],
             [
              0.8888888888888888,
              "#fdca26"
             ],
             [
              1,
              "#f0f921"
             ]
            ],
            "type": "heatmap"
           }
          ],
          "heatmapgl": [
           {
            "colorbar": {
             "outlinewidth": 0,
             "ticks": ""
            },
            "colorscale": [
             [
              0,
              "#0d0887"
             ],
             [
              0.1111111111111111,
              "#46039f"
             ],
             [
              0.2222222222222222,
              "#7201a8"
             ],
             [
              0.3333333333333333,
              "#9c179e"
             ],
             [
              0.4444444444444444,
              "#bd3786"
             ],
             [
              0.5555555555555556,
              "#d8576b"
             ],
             [
              0.6666666666666666,
              "#ed7953"
             ],
             [
              0.7777777777777778,
              "#fb9f3a"
             ],
             [
              0.8888888888888888,
              "#fdca26"
             ],
             [
              1,
              "#f0f921"
             ]
            ],
            "type": "heatmapgl"
           }
          ],
          "histogram": [
           {
            "marker": {
             "pattern": {
              "fillmode": "overlay",
              "size": 10,
              "solidity": 0.2
             }
            },
            "type": "histogram"
           }
          ],
          "histogram2d": [
           {
            "colorbar": {
             "outlinewidth": 0,
             "ticks": ""
            },
            "colorscale": [
             [
              0,
              "#0d0887"
             ],
             [
              0.1111111111111111,
              "#46039f"
             ],
             [
              0.2222222222222222,
              "#7201a8"
             ],
             [
              0.3333333333333333,
              "#9c179e"
             ],
             [
              0.4444444444444444,
              "#bd3786"
             ],
             [
              0.5555555555555556,
              "#d8576b"
             ],
             [
              0.6666666666666666,
              "#ed7953"
             ],
             [
              0.7777777777777778,
              "#fb9f3a"
             ],
             [
              0.8888888888888888,
              "#fdca26"
             ],
             [
              1,
              "#f0f921"
             ]
            ],
            "type": "histogram2d"
           }
          ],
          "histogram2dcontour": [
           {
            "colorbar": {
             "outlinewidth": 0,
             "ticks": ""
            },
            "colorscale": [
             [
              0,
              "#0d0887"
             ],
             [
              0.1111111111111111,
              "#46039f"
             ],
             [
              0.2222222222222222,
              "#7201a8"
             ],
             [
              0.3333333333333333,
              "#9c179e"
             ],
             [
              0.4444444444444444,
              "#bd3786"
             ],
             [
              0.5555555555555556,
              "#d8576b"
             ],
             [
              0.6666666666666666,
              "#ed7953"
             ],
             [
              0.7777777777777778,
              "#fb9f3a"
             ],
             [
              0.8888888888888888,
              "#fdca26"
             ],
             [
              1,
              "#f0f921"
             ]
            ],
            "type": "histogram2dcontour"
           }
          ],
          "mesh3d": [
           {
            "colorbar": {
             "outlinewidth": 0,
             "ticks": ""
            },
            "type": "mesh3d"
           }
          ],
          "parcoords": [
           {
            "line": {
             "colorbar": {
              "outlinewidth": 0,
              "ticks": ""
             }
            },
            "type": "parcoords"
           }
          ],
          "pie": [
           {
            "automargin": true,
            "type": "pie"
           }
          ],
          "scatter": [
           {
            "fillpattern": {
             "fillmode": "overlay",
             "size": 10,
             "solidity": 0.2
            },
            "type": "scatter"
           }
          ],
          "scatter3d": [
           {
            "line": {
             "colorbar": {
              "outlinewidth": 0,
              "ticks": ""
             }
            },
            "marker": {
             "colorbar": {
              "outlinewidth": 0,
              "ticks": ""
             }
            },
            "type": "scatter3d"
           }
          ],
          "scattercarpet": [
           {
            "marker": {
             "colorbar": {
              "outlinewidth": 0,
              "ticks": ""
             }
            },
            "type": "scattercarpet"
           }
          ],
          "scattergeo": [
           {
            "marker": {
             "colorbar": {
              "outlinewidth": 0,
              "ticks": ""
             }
            },
            "type": "scattergeo"
           }
          ],
          "scattergl": [
           {
            "marker": {
             "colorbar": {
              "outlinewidth": 0,
              "ticks": ""
             }
            },
            "type": "scattergl"
           }
          ],
          "scattermapbox": [
           {
            "marker": {
             "colorbar": {
              "outlinewidth": 0,
              "ticks": ""
             }
            },
            "type": "scattermapbox"
           }
          ],
          "scatterpolar": [
           {
            "marker": {
             "colorbar": {
              "outlinewidth": 0,
              "ticks": ""
             }
            },
            "type": "scatterpolar"
           }
          ],
          "scatterpolargl": [
           {
            "marker": {
             "colorbar": {
              "outlinewidth": 0,
              "ticks": ""
             }
            },
            "type": "scatterpolargl"
           }
          ],
          "scatterternary": [
           {
            "marker": {
             "colorbar": {
              "outlinewidth": 0,
              "ticks": ""
             }
            },
            "type": "scatterternary"
           }
          ],
          "surface": [
           {
            "colorbar": {
             "outlinewidth": 0,
             "ticks": ""
            },
            "colorscale": [
             [
              0,
              "#0d0887"
             ],
             [
              0.1111111111111111,
              "#46039f"
             ],
             [
              0.2222222222222222,
              "#7201a8"
             ],
             [
              0.3333333333333333,
              "#9c179e"
             ],
             [
              0.4444444444444444,
              "#bd3786"
             ],
             [
              0.5555555555555556,
              "#d8576b"
             ],
             [
              0.6666666666666666,
              "#ed7953"
             ],
             [
              0.7777777777777778,
              "#fb9f3a"
             ],
             [
              0.8888888888888888,
              "#fdca26"
             ],
             [
              1,
              "#f0f921"
             ]
            ],
            "type": "surface"
           }
          ],
          "table": [
           {
            "cells": {
             "fill": {
              "color": "#EBF0F8"
             },
             "line": {
              "color": "white"
             }
            },
            "header": {
             "fill": {
              "color": "#C8D4E3"
             },
             "line": {
              "color": "white"
             }
            },
            "type": "table"
           }
          ]
         },
         "layout": {
          "annotationdefaults": {
           "arrowcolor": "#2a3f5f",
           "arrowhead": 0,
           "arrowwidth": 1
          },
          "autotypenumbers": "strict",
          "coloraxis": {
           "colorbar": {
            "outlinewidth": 0,
            "ticks": ""
           }
          },
          "colorscale": {
           "diverging": [
            [
             0,
             "#8e0152"
            ],
            [
             0.1,
             "#c51b7d"
            ],
            [
             0.2,
             "#de77ae"
            ],
            [
             0.3,
             "#f1b6da"
            ],
            [
             0.4,
             "#fde0ef"
            ],
            [
             0.5,
             "#f7f7f7"
            ],
            [
             0.6,
             "#e6f5d0"
            ],
            [
             0.7,
             "#b8e186"
            ],
            [
             0.8,
             "#7fbc41"
            ],
            [
             0.9,
             "#4d9221"
            ],
            [
             1,
             "#276419"
            ]
           ],
           "sequential": [
            [
             0,
             "#0d0887"
            ],
            [
             0.1111111111111111,
             "#46039f"
            ],
            [
             0.2222222222222222,
             "#7201a8"
            ],
            [
             0.3333333333333333,
             "#9c179e"
            ],
            [
             0.4444444444444444,
             "#bd3786"
            ],
            [
             0.5555555555555556,
             "#d8576b"
            ],
            [
             0.6666666666666666,
             "#ed7953"
            ],
            [
             0.7777777777777778,
             "#fb9f3a"
            ],
            [
             0.8888888888888888,
             "#fdca26"
            ],
            [
             1,
             "#f0f921"
            ]
           ],
           "sequentialminus": [
            [
             0,
             "#0d0887"
            ],
            [
             0.1111111111111111,
             "#46039f"
            ],
            [
             0.2222222222222222,
             "#7201a8"
            ],
            [
             0.3333333333333333,
             "#9c179e"
            ],
            [
             0.4444444444444444,
             "#bd3786"
            ],
            [
             0.5555555555555556,
             "#d8576b"
            ],
            [
             0.6666666666666666,
             "#ed7953"
            ],
            [
             0.7777777777777778,
             "#fb9f3a"
            ],
            [
             0.8888888888888888,
             "#fdca26"
            ],
            [
             1,
             "#f0f921"
            ]
           ]
          },
          "colorway": [
           "#636efa",
           "#EF553B",
           "#00cc96",
           "#ab63fa",
           "#FFA15A",
           "#19d3f3",
           "#FF6692",
           "#B6E880",
           "#FF97FF",
           "#FECB52"
          ],
          "font": {
           "color": "#2a3f5f"
          },
          "geo": {
           "bgcolor": "white",
           "lakecolor": "white",
           "landcolor": "#E5ECF6",
           "showlakes": true,
           "showland": true,
           "subunitcolor": "white"
          },
          "hoverlabel": {
           "align": "left"
          },
          "hovermode": "closest",
          "mapbox": {
           "style": "light"
          },
          "paper_bgcolor": "white",
          "plot_bgcolor": "#E5ECF6",
          "polar": {
           "angularaxis": {
            "gridcolor": "white",
            "linecolor": "white",
            "ticks": ""
           },
           "bgcolor": "#E5ECF6",
           "radialaxis": {
            "gridcolor": "white",
            "linecolor": "white",
            "ticks": ""
           }
          },
          "scene": {
           "xaxis": {
            "backgroundcolor": "#E5ECF6",
            "gridcolor": "white",
            "gridwidth": 2,
            "linecolor": "white",
            "showbackground": true,
            "ticks": "",
            "zerolinecolor": "white"
           },
           "yaxis": {
            "backgroundcolor": "#E5ECF6",
            "gridcolor": "white",
            "gridwidth": 2,
            "linecolor": "white",
            "showbackground": true,
            "ticks": "",
            "zerolinecolor": "white"
           },
           "zaxis": {
            "backgroundcolor": "#E5ECF6",
            "gridcolor": "white",
            "gridwidth": 2,
            "linecolor": "white",
            "showbackground": true,
            "ticks": "",
            "zerolinecolor": "white"
           }
          },
          "shapedefaults": {
           "line": {
            "color": "#2a3f5f"
           }
          },
          "ternary": {
           "aaxis": {
            "gridcolor": "white",
            "linecolor": "white",
            "ticks": ""
           },
           "baxis": {
            "gridcolor": "white",
            "linecolor": "white",
            "ticks": ""
           },
           "bgcolor": "#E5ECF6",
           "caxis": {
            "gridcolor": "white",
            "linecolor": "white",
            "ticks": ""
           }
          },
          "title": {
           "x": 0.05
          },
          "xaxis": {
           "automargin": true,
           "gridcolor": "white",
           "linecolor": "white",
           "ticks": "",
           "title": {
            "standoff": 15
           },
           "zerolinecolor": "white",
           "zerolinewidth": 2
          },
          "yaxis": {
           "automargin": true,
           "gridcolor": "white",
           "linecolor": "white",
           "ticks": "",
           "title": {
            "standoff": 15
           },
           "zerolinecolor": "white",
           "zerolinewidth": 2
          }
         }
        }
       }
      },
      "text/html": [
       "<div>                            <div id=\"dfe317be-2884-4843-bb89-8116a373293f\" class=\"plotly-graph-div\" style=\"height:525px; width:100%;\"></div>            <script type=\"text/javascript\">                require([\"plotly\"], function(Plotly) {                    window.PLOTLYENV=window.PLOTLYENV || {};                                    if (document.getElementById(\"dfe317be-2884-4843-bb89-8116a373293f\")) {                    Plotly.newPlot(                        \"dfe317be-2884-4843-bb89-8116a373293f\",                        [{\"link\":{\"color\":[\"rgba(31,119,180, 0.4)\",\"rgba(255,127,14, 0.4)\",\"rgba(44,160,44, 0.4)\",\"rgba(214,39,40, 0.4)\",\"rgba(31,119,180, 0.4)\",\"rgba(255,127,14, 0.4)\",\"rgba(44,160,44, 0.4)\",\"rgba(214,39,40, 0.4)\",\"rgba(174,199,232, 0.4)\",\"rgba(255,187,120, 0.4)\",\"rgba(152,223,138, 0.4)\",\"rgba(255,152,150, 0.4)\",\"rgba(31,119,180, 0.4)\",\"rgba(255,127,14, 0.4)\",\"rgba(44,160,44, 0.4)\",\"rgba(214,39,40, 0.4)\",\"rgba(31,119,180, 0.4)\",\"rgba(255,127,14, 0.4)\",\"rgba(44,160,44, 0.4)\",\"rgba(214,39,40, 0.4)\",\"rgba(174,199,232, 0.4)\",\"rgba(255,187,120, 0.4)\",\"rgba(152,223,138, 0.4)\",\"rgba(255,152,150, 0.4)\",\"rgba(31,119,180, 0.4)\",\"rgba(255,127,14, 0.4)\",\"rgba(44,160,44, 0.4)\",\"rgba(214,39,40, 0.4)\",\"rgba(31,119,180, 0.4)\",\"rgba(255,127,14, 0.4)\",\"rgba(44,160,44, 0.4)\",\"rgba(214,39,40, 0.4)\",\"rgba(174,199,232, 0.4)\",\"rgba(255,187,120, 0.4)\",\"rgba(152,223,138, 0.4)\",\"rgba(255,152,150, 0.4)\",\"rgba(31,119,180, 0.4)\",\"rgba(255,127,14, 0.4)\",\"rgba(44,160,44, 0.4)\",\"rgba(214,39,40, 0.4)\",\"rgba(31,119,180, 0.4)\",\"rgba(255,127,14, 0.4)\",\"rgba(44,160,44, 0.4)\",\"rgba(214,39,40, 0.4)\",\"rgba(174,199,232, 0.4)\",\"rgba(255,187,120, 0.4)\",\"rgba(152,223,138, 0.4)\",\"rgba(255,152,150, 0.4)\"],\"source\":[0,0,0,0,0,0,0,0,1,1,1,1,1,1,1,1,2,2,2,2,2,2,2,2,3,3,3,3,3,3,3,3],\"target\":[4,5,6,7,8,9,10,11,4,5,6,7,8,9,10,11,4,5,6,7,8,9,10,11,4,5,6,7,8,9,10,11],\"value\":[0,0,0,0,0,0,118585246,278442830,0,0,0,0,0,0,72850767,391899001,0,0,0,0,0,0,71255416,301338947,0,0,0,0,0,0,77222427,379014569]},\"node\":{\"color\":[\"#1f77b4\",\"#ff7f0e\",\"#2ca02c\",\"#d62728\",\"#1f77b4\",\"#ff7f0e\",\"#2ca02c\",\"#d62728\",\"#aec7e8\",\"#ffbb78\",\"#98df8a\",\"#ff9896\"],\"label\":[\"EU<sub>u</sub>\",\"US-E<sub>u</sub>\",\"US-W<sub>u</sub>\",\"AP<sub>u</sub>\",\"EU<sub>e</sub>\",\"US-E<sub>e</sub>\",\"US-W<sub>e</sub>\",\"AP<sub>e</sub>\",\"EU<sub>c</sub>\",\"US-E<sub>c</sub>\",\"US-W<sub>c</sub>\",\"AP<sub>c</sub>\"],\"line\":{\"color\":\"black\",\"width\":0.5},\"pad\":15,\"thickness\":20},\"type\":\"sankey\"}],                        {\"template\":{\"data\":{\"histogram2dcontour\":[{\"type\":\"histogram2dcontour\",\"colorbar\":{\"outlinewidth\":0,\"ticks\":\"\"},\"colorscale\":[[0.0,\"#0d0887\"],[0.1111111111111111,\"#46039f\"],[0.2222222222222222,\"#7201a8\"],[0.3333333333333333,\"#9c179e\"],[0.4444444444444444,\"#bd3786\"],[0.5555555555555556,\"#d8576b\"],[0.6666666666666666,\"#ed7953\"],[0.7777777777777778,\"#fb9f3a\"],[0.8888888888888888,\"#fdca26\"],[1.0,\"#f0f921\"]]}],\"choropleth\":[{\"type\":\"choropleth\",\"colorbar\":{\"outlinewidth\":0,\"ticks\":\"\"}}],\"histogram2d\":[{\"type\":\"histogram2d\",\"colorbar\":{\"outlinewidth\":0,\"ticks\":\"\"},\"colorscale\":[[0.0,\"#0d0887\"],[0.1111111111111111,\"#46039f\"],[0.2222222222222222,\"#7201a8\"],[0.3333333333333333,\"#9c179e\"],[0.4444444444444444,\"#bd3786\"],[0.5555555555555556,\"#d8576b\"],[0.6666666666666666,\"#ed7953\"],[0.7777777777777778,\"#fb9f3a\"],[0.8888888888888888,\"#fdca26\"],[1.0,\"#f0f921\"]]}],\"heatmap\":[{\"type\":\"heatmap\",\"colorbar\":{\"outlinewidth\":0,\"ticks\":\"\"},\"colorscale\":[[0.0,\"#0d0887\"],[0.1111111111111111,\"#46039f\"],[0.2222222222222222,\"#7201a8\"],[0.3333333333333333,\"#9c179e\"],[0.4444444444444444,\"#bd3786\"],[0.5555555555555556,\"#d8576b\"],[0.6666666666666666,\"#ed7953\"],[0.7777777777777778,\"#fb9f3a\"],[0.8888888888888888,\"#fdca26\"],[1.0,\"#f0f921\"]]}],\"heatmapgl\":[{\"type\":\"heatmapgl\",\"colorbar\":{\"outlinewidth\":0,\"ticks\":\"\"},\"colorscale\":[[0.0,\"#0d0887\"],[0.1111111111111111,\"#46039f\"],[0.2222222222222222,\"#7201a8\"],[0.3333333333333333,\"#9c179e\"],[0.4444444444444444,\"#bd3786\"],[0.5555555555555556,\"#d8576b\"],[0.6666666666666666,\"#ed7953\"],[0.7777777777777778,\"#fb9f3a\"],[0.8888888888888888,\"#fdca26\"],[1.0,\"#f0f921\"]]}],\"contourcarpet\":[{\"type\":\"contourcarpet\",\"colorbar\":{\"outlinewidth\":0,\"ticks\":\"\"}}],\"contour\":[{\"type\":\"contour\",\"colorbar\":{\"outlinewidth\":0,\"ticks\":\"\"},\"colorscale\":[[0.0,\"#0d0887\"],[0.1111111111111111,\"#46039f\"],[0.2222222222222222,\"#7201a8\"],[0.3333333333333333,\"#9c179e\"],[0.4444444444444444,\"#bd3786\"],[0.5555555555555556,\"#d8576b\"],[0.6666666666666666,\"#ed7953\"],[0.7777777777777778,\"#fb9f3a\"],[0.8888888888888888,\"#fdca26\"],[1.0,\"#f0f921\"]]}],\"surface\":[{\"type\":\"surface\",\"colorbar\":{\"outlinewidth\":0,\"ticks\":\"\"},\"colorscale\":[[0.0,\"#0d0887\"],[0.1111111111111111,\"#46039f\"],[0.2222222222222222,\"#7201a8\"],[0.3333333333333333,\"#9c179e\"],[0.4444444444444444,\"#bd3786\"],[0.5555555555555556,\"#d8576b\"],[0.6666666666666666,\"#ed7953\"],[0.7777777777777778,\"#fb9f3a\"],[0.8888888888888888,\"#fdca26\"],[1.0,\"#f0f921\"]]}],\"mesh3d\":[{\"type\":\"mesh3d\",\"colorbar\":{\"outlinewidth\":0,\"ticks\":\"\"}}],\"scatter\":[{\"fillpattern\":{\"fillmode\":\"overlay\",\"size\":10,\"solidity\":0.2},\"type\":\"scatter\"}],\"parcoords\":[{\"type\":\"parcoords\",\"line\":{\"colorbar\":{\"outlinewidth\":0,\"ticks\":\"\"}}}],\"scatterpolargl\":[{\"type\":\"scatterpolargl\",\"marker\":{\"colorbar\":{\"outlinewidth\":0,\"ticks\":\"\"}}}],\"bar\":[{\"error_x\":{\"color\":\"#2a3f5f\"},\"error_y\":{\"color\":\"#2a3f5f\"},\"marker\":{\"line\":{\"color\":\"#E5ECF6\",\"width\":0.5},\"pattern\":{\"fillmode\":\"overlay\",\"size\":10,\"solidity\":0.2}},\"type\":\"bar\"}],\"scattergeo\":[{\"type\":\"scattergeo\",\"marker\":{\"colorbar\":{\"outlinewidth\":0,\"ticks\":\"\"}}}],\"scatterpolar\":[{\"type\":\"scatterpolar\",\"marker\":{\"colorbar\":{\"outlinewidth\":0,\"ticks\":\"\"}}}],\"histogram\":[{\"marker\":{\"pattern\":{\"fillmode\":\"overlay\",\"size\":10,\"solidity\":0.2}},\"type\":\"histogram\"}],\"scattergl\":[{\"type\":\"scattergl\",\"marker\":{\"colorbar\":{\"outlinewidth\":0,\"ticks\":\"\"}}}],\"scatter3d\":[{\"type\":\"scatter3d\",\"line\":{\"colorbar\":{\"outlinewidth\":0,\"ticks\":\"\"}},\"marker\":{\"colorbar\":{\"outlinewidth\":0,\"ticks\":\"\"}}}],\"scattermapbox\":[{\"type\":\"scattermapbox\",\"marker\":{\"colorbar\":{\"outlinewidth\":0,\"ticks\":\"\"}}}],\"scatterternary\":[{\"type\":\"scatterternary\",\"marker\":{\"colorbar\":{\"outlinewidth\":0,\"ticks\":\"\"}}}],\"scattercarpet\":[{\"type\":\"scattercarpet\",\"marker\":{\"colorbar\":{\"outlinewidth\":0,\"ticks\":\"\"}}}],\"carpet\":[{\"aaxis\":{\"endlinecolor\":\"#2a3f5f\",\"gridcolor\":\"white\",\"linecolor\":\"white\",\"minorgridcolor\":\"white\",\"startlinecolor\":\"#2a3f5f\"},\"baxis\":{\"endlinecolor\":\"#2a3f5f\",\"gridcolor\":\"white\",\"linecolor\":\"white\",\"minorgridcolor\":\"white\",\"startlinecolor\":\"#2a3f5f\"},\"type\":\"carpet\"}],\"table\":[{\"cells\":{\"fill\":{\"color\":\"#EBF0F8\"},\"line\":{\"color\":\"white\"}},\"header\":{\"fill\":{\"color\":\"#C8D4E3\"},\"line\":{\"color\":\"white\"}},\"type\":\"table\"}],\"barpolar\":[{\"marker\":{\"line\":{\"color\":\"#E5ECF6\",\"width\":0.5},\"pattern\":{\"fillmode\":\"overlay\",\"size\":10,\"solidity\":0.2}},\"type\":\"barpolar\"}],\"pie\":[{\"automargin\":true,\"type\":\"pie\"}]},\"layout\":{\"autotypenumbers\":\"strict\",\"colorway\":[\"#636efa\",\"#EF553B\",\"#00cc96\",\"#ab63fa\",\"#FFA15A\",\"#19d3f3\",\"#FF6692\",\"#B6E880\",\"#FF97FF\",\"#FECB52\"],\"font\":{\"color\":\"#2a3f5f\"},\"hovermode\":\"closest\",\"hoverlabel\":{\"align\":\"left\"},\"paper_bgcolor\":\"white\",\"plot_bgcolor\":\"#E5ECF6\",\"polar\":{\"bgcolor\":\"#E5ECF6\",\"angularaxis\":{\"gridcolor\":\"white\",\"linecolor\":\"white\",\"ticks\":\"\"},\"radialaxis\":{\"gridcolor\":\"white\",\"linecolor\":\"white\",\"ticks\":\"\"}},\"ternary\":{\"bgcolor\":\"#E5ECF6\",\"aaxis\":{\"gridcolor\":\"white\",\"linecolor\":\"white\",\"ticks\":\"\"},\"baxis\":{\"gridcolor\":\"white\",\"linecolor\":\"white\",\"ticks\":\"\"},\"caxis\":{\"gridcolor\":\"white\",\"linecolor\":\"white\",\"ticks\":\"\"}},\"coloraxis\":{\"colorbar\":{\"outlinewidth\":0,\"ticks\":\"\"}},\"colorscale\":{\"sequential\":[[0.0,\"#0d0887\"],[0.1111111111111111,\"#46039f\"],[0.2222222222222222,\"#7201a8\"],[0.3333333333333333,\"#9c179e\"],[0.4444444444444444,\"#bd3786\"],[0.5555555555555556,\"#d8576b\"],[0.6666666666666666,\"#ed7953\"],[0.7777777777777778,\"#fb9f3a\"],[0.8888888888888888,\"#fdca26\"],[1.0,\"#f0f921\"]],\"sequentialminus\":[[0.0,\"#0d0887\"],[0.1111111111111111,\"#46039f\"],[0.2222222222222222,\"#7201a8\"],[0.3333333333333333,\"#9c179e\"],[0.4444444444444444,\"#bd3786\"],[0.5555555555555556,\"#d8576b\"],[0.6666666666666666,\"#ed7953\"],[0.7777777777777778,\"#fb9f3a\"],[0.8888888888888888,\"#fdca26\"],[1.0,\"#f0f921\"]],\"diverging\":[[0,\"#8e0152\"],[0.1,\"#c51b7d\"],[0.2,\"#de77ae\"],[0.3,\"#f1b6da\"],[0.4,\"#fde0ef\"],[0.5,\"#f7f7f7\"],[0.6,\"#e6f5d0\"],[0.7,\"#b8e186\"],[0.8,\"#7fbc41\"],[0.9,\"#4d9221\"],[1,\"#276419\"]]},\"xaxis\":{\"gridcolor\":\"white\",\"linecolor\":\"white\",\"ticks\":\"\",\"title\":{\"standoff\":15},\"zerolinecolor\":\"white\",\"automargin\":true,\"zerolinewidth\":2},\"yaxis\":{\"gridcolor\":\"white\",\"linecolor\":\"white\",\"ticks\":\"\",\"title\":{\"standoff\":15},\"zerolinecolor\":\"white\",\"automargin\":true,\"zerolinewidth\":2},\"scene\":{\"xaxis\":{\"backgroundcolor\":\"#E5ECF6\",\"gridcolor\":\"white\",\"linecolor\":\"white\",\"showbackground\":true,\"ticks\":\"\",\"zerolinecolor\":\"white\",\"gridwidth\":2},\"yaxis\":{\"backgroundcolor\":\"#E5ECF6\",\"gridcolor\":\"white\",\"linecolor\":\"white\",\"showbackground\":true,\"ticks\":\"\",\"zerolinecolor\":\"white\",\"gridwidth\":2},\"zaxis\":{\"backgroundcolor\":\"#E5ECF6\",\"gridcolor\":\"white\",\"linecolor\":\"white\",\"showbackground\":true,\"ticks\":\"\",\"zerolinecolor\":\"white\",\"gridwidth\":2}},\"shapedefaults\":{\"line\":{\"color\":\"#2a3f5f\"}},\"annotationdefaults\":{\"arrowcolor\":\"#2a3f5f\",\"arrowhead\":0,\"arrowwidth\":1},\"geo\":{\"bgcolor\":\"white\",\"landcolor\":\"#E5ECF6\",\"subunitcolor\":\"white\",\"showland\":true,\"showlakes\":true,\"lakecolor\":\"white\"},\"title\":{\"x\":0.05},\"mapbox\":{\"style\":\"light\"}}},\"margin\":{\"l\":20,\"r\":20,\"t\":20,\"b\":20},\"font\":{\"family\":\"Arial\",\"size\":22,\"color\":\"Black\"}},                        {\"responsive\": true}                    ).then(function(){\n",
       "                            \n",
       "var gd = document.getElementById('dfe317be-2884-4843-bb89-8116a373293f');\n",
       "var x = new MutationObserver(function (mutations, observer) {{\n",
       "        var display = window.getComputedStyle(gd).display;\n",
       "        if (!display || display === 'none') {{\n",
       "            console.log([gd, 'removed!']);\n",
       "            Plotly.purge(gd);\n",
       "            observer.disconnect();\n",
       "        }}\n",
       "}});\n",
       "\n",
       "// Listen for the removal of the full notebook cells\n",
       "var notebookContainer = gd.closest('#notebook-container');\n",
       "if (notebookContainer) {{\n",
       "    x.observe(notebookContainer, {childList: true});\n",
       "}}\n",
       "\n",
       "// Listen for the clearing of the current output cell\n",
       "var outputEl = gd.closest('.output');\n",
       "if (outputEl) {{\n",
       "    x.observe(outputEl, {childList: true});\n",
       "}}\n",
       "\n",
       "                        })                };                });            </script>        </div>"
      ]
     },
     "metadata": {},
     "output_type": "display_data"
    }
   ],
   "source": [
    "def hex_to_rgb(x):\n",
    "    x = x[1:]\n",
    "    return tuple(int(x[i:i+2], 16) for i in (0, 2, 4))\n",
    "\n",
    "df_s = df_reg_dist_gr[df_reg_dist_gr.Approach==\"EdaropC\"]\n",
    "def plot_dist_sankey(df: pd.DataFrame, title: str):\n",
    "    \"\"\"Recevies a region distribution DataFrame like this:\n",
    "    \n",
    "       Variant Reg_src Reg_dst      Requests\n",
    "    0  EdaropC       H       M  2.250685e+07\n",
    "    1  EdaropC       H       O  2.358489e+07\n",
    "    2  EdaropC       H      NV  2.323511e+08\n",
    "    3  EdaropC       H       F -1.862645e-09\n",
    "    4  EdaropC       H       D  0.000000e+00\n",
    "    \n",
    "    And plots a Sankey plot of how the requests are distributed\n",
    "    \"\"\"\n",
    "    regs_src = df.Reg_src.unique()\n",
    "    num_src_regs = len(regs_src)\n",
    "    \n",
    "    regs_dst = list(df.Reg_dst.unique())\n",
    "    regs_dst.reverse()\n",
    "    \n",
    "    label = [*regs_src, *regs_dst]\n",
    "    label = [clean_label(l) for l in label]\n",
    "\n",
    "    source = []\n",
    "    target = []\n",
    "    value = []\n",
    "    for rs_i, rs in enumerate(regs_src):\n",
    "        for rd_i, rd in enumerate(regs_dst):\n",
    "            source.append(rs_i)\n",
    "            target.append(num_src_regs+rd_i)\n",
    "            value.append(int(df.query(f\"Reg_src == r'{rs}' and Reg_dst == r'{rd}'\").Requests))\n",
    "\n",
    "    secondary_colors = tuple(cm.tab20.colors[x] for x in range(1,num_src_regs*2+1,2))\n",
    "    node_rgb_color = cm.tab10.colors[:num_src_regs] + cm.tab10.colors[:num_src_regs] + secondary_colors\n",
    "    node_color = [matplotlib.colors.rgb2hex(c) for c in node_rgb_color]\n",
    "    link_color = node_color.copy()*num_src_regs\n",
    "\n",
    "    link_color = ['rgba({},{},{}, 0.4)'.format(\n",
    "        hex_to_rgb(x)[0],\n",
    "        hex_to_rgb(x)[1],\n",
    "        hex_to_rgb(x)[2]) for x in link_color]\n",
    "\n",
    "    fig = go.Figure(data=[go.Sankey(\n",
    "        node = dict(\n",
    "          pad = 15,\n",
    "          thickness = 20,\n",
    "          line = dict(color = \"black\", width = 0.5),\n",
    "          label = label,\n",
    "          color = node_color,\n",
    "        ),\n",
    "        link = dict(\n",
    "          source = source,\n",
    "          target = target,\n",
    "          value = value,\n",
    "          color = link_color,\n",
    "      ))])\n",
    "\n",
    "    fig.update_layout(\n",
    "        margin=dict(l=20, r=20, t=20, b=20),\n",
    "        font=dict(\n",
    "            family=\"Arial\",\n",
    "            size=22,\n",
    "            color=\"Black\"\n",
    "            )\n",
    "    )\n",
    "    fig.show()\n",
    "    fig.write_image(FIG_DIR / f\"dist_{title}.png\", scale=2)\n",
    "    \n",
    "for v in variants:\n",
    "    plot_dist_sankey(df_reg_dist_gr[df_reg_dist_gr.Approach==v], title=v)"
   ]
  },
  {
   "cell_type": "markdown",
   "id": "83f079d7",
   "metadata": {},
   "source": [
    "## Creation and solving times"
   ]
  },
  {
   "cell_type": "code",
   "execution_count": 62,
   "id": "01fc60fa",
   "metadata": {
    "ExecuteTime": {
     "end_time": "2023-03-24T23:28:43.101756Z",
     "start_time": "2023-03-24T23:28:43.087951Z"
    }
   },
   "outputs": [],
   "source": [
    "stats = []\n",
    "for ts, sols_ts in enumerate(all_sols):\n",
    "    sols = {}\n",
    "    for i, variant in enumerate(variants):\n",
    "        sol = sols_ts[i]\n",
    "        creation_time = sol.solving_stats.creation_time\n",
    "        solving_time = sol.solving_stats.solving_time\n",
    "        stats.append((ts, variant, \"Creation\", creation_time))\n",
    "        stats.append((ts, variant, \"Solving\", solving_time))\n",
    "    \n",
    "df_stats = pd.DataFrame(stats, columns=[\"Time slot (h)\", \"Approach\", \"Type\", \"Time (s)\"])"
   ]
  },
  {
   "cell_type": "code",
   "execution_count": 63,
   "id": "6ad96095",
   "metadata": {
    "ExecuteTime": {
     "end_time": "2023-03-24T23:28:57.134479Z",
     "start_time": "2023-03-24T23:28:44.121317Z"
    },
    "scrolled": false
   },
   "outputs": [
    {
     "data": {
      "image/png": "[encoded data removed]",
      "text/plain": [
       "<Figure size 1501.24x275 with 6 Axes>"
      ]
     },
     "metadata": {},
     "output_type": "display_data"
    }
   ],
   "source": [
    "# Use the Accent pallete but not from the first color to differenciate\n",
    "# it from the colors of the Accent pallete used for destination before\n",
    "stats_palette = [plt.cm.Accent(i+4) for i in range(2)]\n",
    "\n",
    "g = sns.relplot(data=df_stats, x=\"Time slot (h)\", y=\"Time (s)\",\n",
    "           hue=\"Type\", col=\"Approach\", style=\"Type\",\n",
    "           height=2.75, aspect=0.85, palette=stats_palette, alpha=0.8)\n",
    "plt.yscale('log')\n",
    "plt.savefig(FIG_DIR/'stats.png', bbox_inches='tight', dpi=600)"
   ]
  },
  {
   "cell_type": "markdown",
   "id": "6f458ea8",
   "metadata": {},
   "source": [
    "### Separated in two rows"
   ]
  },
  {
   "cell_type": "code",
   "execution_count": 67,
   "id": "4cad94ae",
   "metadata": {
    "ExecuteTime": {
     "end_time": "2023-03-24T23:31:14.426851Z",
     "start_time": "2023-03-24T23:31:08.238941Z"
    }
   },
   "outputs": [
    {
     "data": {
      "image/png": "[encoded data removed]",
      "text/plain": [
       "<Figure size 799.987x275 with 3 Axes>"
      ]
     },
     "metadata": {},
     "output_type": "display_data"
    }
   ],
   "source": [
    "stats_palette = [plt.cm.Accent(i+4) for i in range(2)]\n",
    "\n",
    "g = sns.relplot(data=df_stats[df_stats.Approach.isin([\"EdaropC\", \"EdaropR\", \"Greedy\"])], x=\"Time slot (h)\", y=\"Time (s)\",\n",
    "           hue=\"Type\", col=\"Approach\", style=\"Type\",\n",
    "           height=2.75, aspect=0.85, palette=stats_palette, alpha=0.8)\n",
    "plt.yscale('log')\n",
    "plt.savefig(FIG_DIR/'stats1.png', bbox_inches='tight', dpi=600)"
   ]
  },
  {
   "cell_type": "code",
   "execution_count": 70,
   "id": "74cb3134",
   "metadata": {
    "ExecuteTime": {
     "end_time": "2023-03-24T23:31:52.249900Z",
     "start_time": "2023-03-24T23:31:47.160113Z"
    }
   },
   "outputs": [
    {
     "data": {
      "image/png": "[encoded data removed]",
      "text/plain": [
       "<Figure size 799.987x275 with 3 Axes>"
      ]
     },
     "metadata": {},
     "output_type": "display_data"
    }
   ],
   "source": [
    "stats_palette = [plt.cm.Accent(i+4) for i in range(2)]\n",
    "\n",
    "g = sns.relplot(data=df_stats[~df_stats.Approach.isin([\"EdaropC\", \"EdaropR\", \"Greedy\"])], x=\"Time slot (h)\", y=\"Time (s)\",\n",
    "           hue=\"Type\", col=\"Approach\", style=\"Type\",\n",
    "           height=2.75, aspect=0.85, palette=stats_palette, alpha=0.8)\n",
    "plt.yscale('log')\n",
    "plt.savefig(FIG_DIR/'stats2.png', bbox_inches='tight', dpi=600)"
   ]
  },
  {
   "cell_type": "code",
   "execution_count": null,
   "id": "65d5477f",
   "metadata": {},
   "outputs": [],
   "source": []
  }
 ],
 "metadata": {
  "kernelspec": {
   "display_name": "Python 3 (ipykernel)",
   "language": "python",
   "name": "python3"
  },
  "language_info": {
   "codemirror_mode": {
    "name": "ipython",
    "version": 3
   },
   "file_extension": ".py",
   "mimetype": "text/x-python",
   "name": "python",
   "nbconvert_exporter": "python",
   "pygments_lexer": "ipython3",
   "version": "3.9.5"
  },
  "toc": {
   "base_numbering": 1,
   "nav_menu": {},
   "number_sections": true,
   "sideBar": true,
   "skip_h1_title": false,
   "title_cell": "Table of Contents",
   "title_sidebar": "Contents",
   "toc_cell": false,
   "toc_position": {},
   "toc_section_display": true,
   "toc_window_display": true
  },
  "varInspector": {
   "cols": {
    "lenName": 16,
    "lenType": 16,
    "lenVar": 40
   },
   "kernels_config": {
    "python": {
     "delete_cmd_postfix": "",
     "delete_cmd_prefix": "del ",
     "library": "var_list.py",
     "varRefreshCmd": "print(var_dic_list())"
    },
    "r": {
     "delete_cmd_postfix": ") ",
     "delete_cmd_prefix": "rm(",
     "library": "var_list.r",
     "varRefreshCmd": "cat(var_dic_list()) "
    }
   },
   "types_to_exclude": [
    "module",
    "function",
    "builtin_function_or_method",
    "instance",
    "_Feature"
   ],
   "window_display": false
  },
  "vscode": {
   "interpreter": {
    "hash": "c1c7129a5eaf0f8a79492ae00627a662567e3c4ff1665d0c38e25f1779a6b685"
   }
  }
 },
 "nbformat": 4,
 "nbformat_minor": 5
}
